{
 "cells": [
  {
   "cell_type": "markdown",
   "id": "06b34c5c",
   "metadata": {
    "colab_type": "text",
    "id": "view-in-github"
   },
   "source": [
    "<a href=\"https://colab.research.google.com/github/endiesworld/2110ACDS_T7_C_Predict/blob/main/2110ACDS_T7_starter_notebook.ipynb\" target=\"_parent\"><img src=\"https://colab.research.google.com/assets/colab-badge.svg\" alt=\"Open In Colab\"/></a>"
   ]
  },
  {
   "cell_type": "markdown",
   "id": "6c7e849a",
   "metadata": {
    "ExecuteTime": {
     "end_time": "2021-06-11T09:24:53.643384Z",
     "start_time": "2021-06-11T09:24:53.622385Z"
    },
    "id": "6c7e849a"
   },
   "source": [
    "# EDSA Movie Recommendation 2022\n",
    "\n",
    "© Explore Data Science Academy\n",
    "\n",
    "---\n",
    "### Honour Code\n",
    "\n",
    "**2110ACDS_T6**, confirm - by submitting this document - that the solutions in this notebook are a result of my own work and that I abide by the [EDSA honour code](https://drive.google.com/file/d/1QDCjGZJ8-FmJE3bZdIQNwnJyQKPhHZBn/view?usp=sharing).\n",
    "\n",
    "Non-compliance with the honour code constitutes a material breach of contract.\n",
    "\n",
    "\n",
    "  "
   ]
  },
  {
   "cell_type": "markdown",
   "id": "BgJDS_T07vuC",
   "metadata": {
    "id": "BgJDS_T07vuC"
   },
   "source": [
    "<h2><center> EDSA Movie Recommendation 2022</h2></center>\n",
    "<figure>\n",
    "<center><img src =\"./assets/movies.png\" width = \"800\" height = '500'/>\n",
    "\n",
    "*Introduction*\n",
    "<p align = \"justify\">Recommender System is a system that seeks to predict or filter preferences according to the user’s choices. Recommender systems are utilized in a variety of areas, and in this project we will use a recommender system to recommend movies for movie lovers.\n",
    "\n",
    "\n",
    "*About the problem*\n",
    "<p align = \"justify\">PUT PROBLEM STATEMENT HERE.\n",
    "\n",
    "*Objective*\n",
    "<p align = \"justify\"> We aim to provide an accurate and robust solution to this problem, by providing personalised recommendations to users of this product, and generating platform affinity for the streaming services which best facilitates their audience's viewing\n",
    "\n",
    "*Process*\n",
    "<p align = \"justify\"> In order to achieve this objective the team will follow the process below:-\n",
    "\n",
    "1. analyse the supplied data, identify potential errors in the data and clean the existing data set;\n",
    "\n",
    "2. determine if additional features can be added to enrich the data set;\n",
    "\n",
    "3. build a model that is capable of predicting how a user will rate a movie;\n",
    "\n",
    "4. evaluate the accuracy of the best machine learning model;\n",
    "\n",
    "5. accurately predicting how a user will rate a movie they have not yet viewed, based on their historical preferences, and\n",
    "\n",
    "6. explain the inner working of the model to a non-technical audience."
   ]
  },
  {
   "cell_type": "markdown",
   "id": "05600c92",
   "metadata": {
    "id": "05600c92"
   },
   "source": [
    "<a id=\"cont\"></a>\n",
    "\n",
    "## Table of Contents\n",
    "\n",
    "<a href=#one>1. Importing Packages</a>\n",
    "\n",
    "<a href=#two>2. Loading Data</a>\n",
    "\n",
    "<a href=#three>3. Exploratory Data Analysis (EDA)</a>\n",
    "\n",
    "<a href=#four>4. Data Engineering</a>\n",
    "\n",
    "<a href=#five>5. Modeling</a>\n",
    "\n",
    "<a href=#six>6. Model Performance</a>\n",
    "\n",
    "<a href=#seven>7. Model Explanations</a>"
   ]
  },
  {
   "cell_type": "markdown",
   "id": "997462e2",
   "metadata": {
    "id": "997462e2"
   },
   "source": [
    " <a id=\"one\"></a>\n",
    "## 1. Importing Packages\n",
    "<a href=#cont>Back to Table of Contents</a>\n",
    "\n",
    "---\n",
    "    \n",
    "| ⚡ Description: Importing Packages ⚡ |\n",
    "| :--------------------------- |\n",
    "| In this section you are required to import, and briefly discuss, the libraries that will be used throughout your analysis and modelling. |\n",
    "\n",
    "---"
   ]
  },
  {
   "cell_type": "code",
   "execution_count": 49,
   "id": "14e96617",
   "metadata": {},
   "outputs": [],
   "source": [
    "\n",
    "# Import comet_ml at the top of your file\n",
    "# from comet_ml import Experiment\n",
    "\n",
    "# # Create an experiment with your api key\n",
    "# experiment = Experiment(\n",
    "#     api_key=\"emBEBYBp72gW5tfeZBSGftD0Y\",\n",
    "#     project_name=\"movie-recommendation\",\n",
    "#     workspace=\"emmanuelokoro\",\n",
    "#     log_code = True\n",
    "# )"
   ]
  },
  {
   "cell_type": "code",
   "execution_count": 50,
   "id": "475dbe93",
   "metadata": {
    "ExecuteTime": {
     "end_time": "2021-06-23T10:30:53.800892Z",
     "start_time": "2021-06-23T10:30:50.215449Z"
    },
    "id": "475dbe93"
   },
   "outputs": [],
   "source": [
    "# Libraries for importing and loading data\n",
    "import numpy as np\n",
    "import pandas as pd\n",
    "import scipy as sp # <-- The sister of Numpy, used in our code for numerical efficientcy. \n",
    "import matplotlib.pyplot as plt\n",
    "import seaborn as sns\n",
    "import os\n",
    "os.environ['KMP_DUPLICATE_LIB_OK']='True'\n",
    "\n",
    "# Entity featurization and similarity computation\n",
    "from sklearn.metrics.pairwise import cosine_similarity \n",
    "from sklearn.feature_extraction.text import TfidfVectorizer\n",
    "\n",
    "# Libraries used during sorting procedures.\n",
    "import operator # <-- Convienient item retrieval during iteration \n",
    "import heapq # <-- Efficient sorting of large lists\n",
    "from time import time\n",
    "\n",
    "# Setting global constants to ensure notebook results are reproducible\n",
    "\n",
    "RANDOM_STATE = 42\n",
    "\n",
    "\n",
    "import warnings\n",
    "warnings.filterwarnings('ignore')"
   ]
  },
  {
   "cell_type": "markdown",
   "id": "f22a6718",
   "metadata": {
    "id": "f22a6718"
   },
   "source": [
    "<a id=\"two\"></a>\n",
    "## 2. Loading the Data\n",
    "<a class=\"anchor\" id=\"1.1\"></a>\n",
    "<a href=#cont>Back to Table of Contents</a>\n",
    "\n",
    "---\n",
    "    \n",
    "| ⚡ Description: Loading the data ⚡ |\n",
    "| :--------------------------- |\n",
    "| In this section you are required to load the data from the `df_train` file into a DataFrame. |\n",
    "\n",
    "---"
   ]
  },
  {
   "cell_type": "markdown",
   "id": "siWxqSkjCc6d",
   "metadata": {
    "id": "siWxqSkjCc6d"
   },
   "source": [
    "### 2.1 Brief description of the data\n",
    "\n"
   ]
  },
  {
   "cell_type": "code",
   "execution_count": 51,
   "id": "fbbb6c18",
   "metadata": {
    "ExecuteTime": {
     "end_time": "2021-06-28T08:49:35.311495Z",
     "start_time": "2021-06-28T08:49:35.295494Z"
    },
    "colab": {
     "base_uri": "https://localhost:8080/",
     "height": 206
    },
    "id": "fbbb6c18",
    "outputId": "4e1a8735-9ea3-45bd-ce9a-31d0135f5dfc"
   },
   "outputs": [],
   "source": [
    "# load the data\n",
    "train = pd.read_csv('./data/train.csv')\n",
    "test = pd.read_csv('./data/test.csv')\n",
    "genome_scores = pd.read_csv('./data/genome_scores.csv')\n",
    "genome_tags = pd.read_csv('./data/tags.csv')\n",
    "imdb_data = pd.read_csv('./data/imdb_data.csv')\n",
    "links = pd.read_csv('./data/links.csv')\n",
    "movies = pd.read_csv('./data/movies.csv')\n",
    "# tags = pd.read_csv('./data/tags.csv')"
   ]
  },
  {
   "cell_type": "code",
   "execution_count": 52,
   "id": "IJ4DkY-NDivs",
   "metadata": {
    "colab": {
     "base_uri": "https://localhost:8080/",
     "height": 206
    },
    "id": "IJ4DkY-NDivs",
    "outputId": "f6a66550-ba46-47d7-dd03-c49cdf4af1f5"
   },
   "outputs": [
    {
     "name": "stdout",
     "output_type": "stream",
     "text": [
      "The Shape of the data is:  (10000038, 4)\n"
     ]
    },
    {
     "data": {
      "text/html": [
       "<div>\n",
       "<style scoped>\n",
       "    .dataframe tbody tr th:only-of-type {\n",
       "        vertical-align: middle;\n",
       "    }\n",
       "\n",
       "    .dataframe tbody tr th {\n",
       "        vertical-align: top;\n",
       "    }\n",
       "\n",
       "    .dataframe thead th {\n",
       "        text-align: right;\n",
       "    }\n",
       "</style>\n",
       "<table border=\"1\" class=\"dataframe\">\n",
       "  <thead>\n",
       "    <tr style=\"text-align: right;\">\n",
       "      <th></th>\n",
       "      <th>userId</th>\n",
       "      <th>movieId</th>\n",
       "      <th>rating</th>\n",
       "      <th>timestamp</th>\n",
       "    </tr>\n",
       "  </thead>\n",
       "  <tbody>\n",
       "    <tr>\n",
       "      <th>0</th>\n",
       "      <td>5163</td>\n",
       "      <td>57669</td>\n",
       "      <td>4.0</td>\n",
       "      <td>1518349992</td>\n",
       "    </tr>\n",
       "    <tr>\n",
       "      <th>1</th>\n",
       "      <td>106343</td>\n",
       "      <td>5</td>\n",
       "      <td>4.5</td>\n",
       "      <td>1206238739</td>\n",
       "    </tr>\n",
       "    <tr>\n",
       "      <th>2</th>\n",
       "      <td>146790</td>\n",
       "      <td>5459</td>\n",
       "      <td>5.0</td>\n",
       "      <td>1076215539</td>\n",
       "    </tr>\n",
       "    <tr>\n",
       "      <th>3</th>\n",
       "      <td>106362</td>\n",
       "      <td>32296</td>\n",
       "      <td>2.0</td>\n",
       "      <td>1423042565</td>\n",
       "    </tr>\n",
       "    <tr>\n",
       "      <th>4</th>\n",
       "      <td>9041</td>\n",
       "      <td>366</td>\n",
       "      <td>3.0</td>\n",
       "      <td>833375837</td>\n",
       "    </tr>\n",
       "  </tbody>\n",
       "</table>\n",
       "</div>"
      ],
      "text/plain": [
       "   userId  movieId  rating   timestamp\n",
       "0    5163    57669     4.0  1518349992\n",
       "1  106343        5     4.5  1206238739\n",
       "2  146790     5459     5.0  1076215539\n",
       "3  106362    32296     2.0  1423042565\n",
       "4    9041      366     3.0   833375837"
      ]
     },
     "execution_count": 52,
     "metadata": {},
     "output_type": "execute_result"
    }
   ],
   "source": [
    "# Preview train dataset\n",
    "print('The Shape of the data is: ', train.shape)\n",
    "train.head()"
   ]
  },
  {
   "cell_type": "code",
   "execution_count": 53,
   "id": "72d22858",
   "metadata": {},
   "outputs": [
    {
     "data": {
      "text/plain": [
       "162541"
      ]
     },
     "execution_count": 53,
     "metadata": {},
     "output_type": "execute_result"
    }
   ],
   "source": [
    "train['userId'].nunique()"
   ]
  },
  {
   "cell_type": "code",
   "execution_count": 54,
   "id": "17aad2f9",
   "metadata": {},
   "outputs": [
    {
     "name": "stdout",
     "output_type": "stream",
     "text": [
      "The Shape of the data is:  (5000019, 2)\n"
     ]
    },
    {
     "data": {
      "text/html": [
       "<div>\n",
       "<style scoped>\n",
       "    .dataframe tbody tr th:only-of-type {\n",
       "        vertical-align: middle;\n",
       "    }\n",
       "\n",
       "    .dataframe tbody tr th {\n",
       "        vertical-align: top;\n",
       "    }\n",
       "\n",
       "    .dataframe thead th {\n",
       "        text-align: right;\n",
       "    }\n",
       "</style>\n",
       "<table border=\"1\" class=\"dataframe\">\n",
       "  <thead>\n",
       "    <tr style=\"text-align: right;\">\n",
       "      <th></th>\n",
       "      <th>userId</th>\n",
       "      <th>movieId</th>\n",
       "    </tr>\n",
       "  </thead>\n",
       "  <tbody>\n",
       "    <tr>\n",
       "      <th>0</th>\n",
       "      <td>1</td>\n",
       "      <td>2011</td>\n",
       "    </tr>\n",
       "    <tr>\n",
       "      <th>1</th>\n",
       "      <td>1</td>\n",
       "      <td>4144</td>\n",
       "    </tr>\n",
       "    <tr>\n",
       "      <th>2</th>\n",
       "      <td>1</td>\n",
       "      <td>5767</td>\n",
       "    </tr>\n",
       "    <tr>\n",
       "      <th>3</th>\n",
       "      <td>1</td>\n",
       "      <td>6711</td>\n",
       "    </tr>\n",
       "    <tr>\n",
       "      <th>4</th>\n",
       "      <td>1</td>\n",
       "      <td>7318</td>\n",
       "    </tr>\n",
       "  </tbody>\n",
       "</table>\n",
       "</div>"
      ],
      "text/plain": [
       "   userId  movieId\n",
       "0       1     2011\n",
       "1       1     4144\n",
       "2       1     5767\n",
       "3       1     6711\n",
       "4       1     7318"
      ]
     },
     "execution_count": 54,
     "metadata": {},
     "output_type": "execute_result"
    }
   ],
   "source": [
    "# Preview train dataset\n",
    "print('The Shape of the data is: ', test.shape)\n",
    "test.head()"
   ]
  },
  {
   "cell_type": "code",
   "execution_count": 55,
   "id": "c4786314",
   "metadata": {},
   "outputs": [
    {
     "data": {
      "text/plain": [
       "39643"
      ]
     },
     "execution_count": 55,
     "metadata": {},
     "output_type": "execute_result"
    }
   ],
   "source": [
    "test['movieId'].nunique()"
   ]
  },
  {
   "cell_type": "code",
   "execution_count": 56,
   "id": "378b3e60",
   "metadata": {},
   "outputs": [
    {
     "data": {
      "text/html": [
       "<div>\n",
       "<style scoped>\n",
       "    .dataframe tbody tr th:only-of-type {\n",
       "        vertical-align: middle;\n",
       "    }\n",
       "\n",
       "    .dataframe tbody tr th {\n",
       "        vertical-align: top;\n",
       "    }\n",
       "\n",
       "    .dataframe thead th {\n",
       "        text-align: right;\n",
       "    }\n",
       "</style>\n",
       "<table border=\"1\" class=\"dataframe\">\n",
       "  <thead>\n",
       "    <tr style=\"text-align: right;\">\n",
       "      <th></th>\n",
       "      <th>userId</th>\n",
       "      <th>movieId</th>\n",
       "    </tr>\n",
       "  </thead>\n",
       "  <tbody>\n",
       "    <tr>\n",
       "      <th>5000014</th>\n",
       "      <td>162541</td>\n",
       "      <td>4079</td>\n",
       "    </tr>\n",
       "    <tr>\n",
       "      <th>5000015</th>\n",
       "      <td>162541</td>\n",
       "      <td>4467</td>\n",
       "    </tr>\n",
       "    <tr>\n",
       "      <th>5000016</th>\n",
       "      <td>162541</td>\n",
       "      <td>4980</td>\n",
       "    </tr>\n",
       "    <tr>\n",
       "      <th>5000017</th>\n",
       "      <td>162541</td>\n",
       "      <td>5689</td>\n",
       "    </tr>\n",
       "    <tr>\n",
       "      <th>5000018</th>\n",
       "      <td>162541</td>\n",
       "      <td>7153</td>\n",
       "    </tr>\n",
       "  </tbody>\n",
       "</table>\n",
       "</div>"
      ],
      "text/plain": [
       "         userId  movieId\n",
       "5000014  162541     4079\n",
       "5000015  162541     4467\n",
       "5000016  162541     4980\n",
       "5000017  162541     5689\n",
       "5000018  162541     7153"
      ]
     },
     "execution_count": 56,
     "metadata": {},
     "output_type": "execute_result"
    }
   ],
   "source": [
    "test.tail()"
   ]
  },
  {
   "cell_type": "code",
   "execution_count": 57,
   "id": "10b1e0e1",
   "metadata": {},
   "outputs": [
    {
     "name": "stdout",
     "output_type": "stream",
     "text": [
      "The Shape of the data is:  (15584448, 3)\n"
     ]
    },
    {
     "data": {
      "text/html": [
       "<div>\n",
       "<style scoped>\n",
       "    .dataframe tbody tr th:only-of-type {\n",
       "        vertical-align: middle;\n",
       "    }\n",
       "\n",
       "    .dataframe tbody tr th {\n",
       "        vertical-align: top;\n",
       "    }\n",
       "\n",
       "    .dataframe thead th {\n",
       "        text-align: right;\n",
       "    }\n",
       "</style>\n",
       "<table border=\"1\" class=\"dataframe\">\n",
       "  <thead>\n",
       "    <tr style=\"text-align: right;\">\n",
       "      <th></th>\n",
       "      <th>movieId</th>\n",
       "      <th>tagId</th>\n",
       "      <th>relevance</th>\n",
       "    </tr>\n",
       "  </thead>\n",
       "  <tbody>\n",
       "    <tr>\n",
       "      <th>0</th>\n",
       "      <td>1</td>\n",
       "      <td>1</td>\n",
       "      <td>0.02875</td>\n",
       "    </tr>\n",
       "    <tr>\n",
       "      <th>1</th>\n",
       "      <td>1</td>\n",
       "      <td>2</td>\n",
       "      <td>0.02375</td>\n",
       "    </tr>\n",
       "    <tr>\n",
       "      <th>2</th>\n",
       "      <td>1</td>\n",
       "      <td>3</td>\n",
       "      <td>0.06250</td>\n",
       "    </tr>\n",
       "    <tr>\n",
       "      <th>3</th>\n",
       "      <td>1</td>\n",
       "      <td>4</td>\n",
       "      <td>0.07575</td>\n",
       "    </tr>\n",
       "    <tr>\n",
       "      <th>4</th>\n",
       "      <td>1</td>\n",
       "      <td>5</td>\n",
       "      <td>0.14075</td>\n",
       "    </tr>\n",
       "  </tbody>\n",
       "</table>\n",
       "</div>"
      ],
      "text/plain": [
       "   movieId  tagId  relevance\n",
       "0        1      1    0.02875\n",
       "1        1      2    0.02375\n",
       "2        1      3    0.06250\n",
       "3        1      4    0.07575\n",
       "4        1      5    0.14075"
      ]
     },
     "execution_count": 57,
     "metadata": {},
     "output_type": "execute_result"
    }
   ],
   "source": [
    "# Preview genome_scores dataset\n",
    "print('The Shape of the data is: ', genome_scores.shape)\n",
    "genome_scores.head()"
   ]
  },
  {
   "cell_type": "code",
   "execution_count": 58,
   "id": "9c5385b6",
   "metadata": {},
   "outputs": [
    {
     "name": "stdout",
     "output_type": "stream",
     "text": [
      "The Shape of the data is:  (1093360, 4)\n"
     ]
    },
    {
     "data": {
      "text/html": [
       "<div>\n",
       "<style scoped>\n",
       "    .dataframe tbody tr th:only-of-type {\n",
       "        vertical-align: middle;\n",
       "    }\n",
       "\n",
       "    .dataframe tbody tr th {\n",
       "        vertical-align: top;\n",
       "    }\n",
       "\n",
       "    .dataframe thead th {\n",
       "        text-align: right;\n",
       "    }\n",
       "</style>\n",
       "<table border=\"1\" class=\"dataframe\">\n",
       "  <thead>\n",
       "    <tr style=\"text-align: right;\">\n",
       "      <th></th>\n",
       "      <th>userId</th>\n",
       "      <th>movieId</th>\n",
       "      <th>tag</th>\n",
       "      <th>timestamp</th>\n",
       "    </tr>\n",
       "  </thead>\n",
       "  <tbody>\n",
       "    <tr>\n",
       "      <th>0</th>\n",
       "      <td>3</td>\n",
       "      <td>260</td>\n",
       "      <td>classic</td>\n",
       "      <td>1439472355</td>\n",
       "    </tr>\n",
       "    <tr>\n",
       "      <th>1</th>\n",
       "      <td>3</td>\n",
       "      <td>260</td>\n",
       "      <td>sci-fi</td>\n",
       "      <td>1439472256</td>\n",
       "    </tr>\n",
       "    <tr>\n",
       "      <th>2</th>\n",
       "      <td>4</td>\n",
       "      <td>1732</td>\n",
       "      <td>dark comedy</td>\n",
       "      <td>1573943598</td>\n",
       "    </tr>\n",
       "    <tr>\n",
       "      <th>3</th>\n",
       "      <td>4</td>\n",
       "      <td>1732</td>\n",
       "      <td>great dialogue</td>\n",
       "      <td>1573943604</td>\n",
       "    </tr>\n",
       "    <tr>\n",
       "      <th>4</th>\n",
       "      <td>4</td>\n",
       "      <td>7569</td>\n",
       "      <td>so bad it's good</td>\n",
       "      <td>1573943455</td>\n",
       "    </tr>\n",
       "  </tbody>\n",
       "</table>\n",
       "</div>"
      ],
      "text/plain": [
       "   userId  movieId               tag   timestamp\n",
       "0       3      260           classic  1439472355\n",
       "1       3      260            sci-fi  1439472256\n",
       "2       4     1732       dark comedy  1573943598\n",
       "3       4     1732    great dialogue  1573943604\n",
       "4       4     7569  so bad it's good  1573943455"
      ]
     },
     "execution_count": 58,
     "metadata": {},
     "output_type": "execute_result"
    }
   ],
   "source": [
    "# Preview genome_scores dataset\n",
    "print('The Shape of the data is: ', genome_tags.shape)\n",
    "genome_tags.head()"
   ]
  },
  {
   "cell_type": "code",
   "execution_count": 59,
   "id": "c421f825",
   "metadata": {},
   "outputs": [
    {
     "name": "stdout",
     "output_type": "stream",
     "text": [
      "The Shape of the data is:  (27278, 6)\n"
     ]
    },
    {
     "data": {
      "text/html": [
       "<div>\n",
       "<style scoped>\n",
       "    .dataframe tbody tr th:only-of-type {\n",
       "        vertical-align: middle;\n",
       "    }\n",
       "\n",
       "    .dataframe tbody tr th {\n",
       "        vertical-align: top;\n",
       "    }\n",
       "\n",
       "    .dataframe thead th {\n",
       "        text-align: right;\n",
       "    }\n",
       "</style>\n",
       "<table border=\"1\" class=\"dataframe\">\n",
       "  <thead>\n",
       "    <tr style=\"text-align: right;\">\n",
       "      <th></th>\n",
       "      <th>movieId</th>\n",
       "      <th>title_cast</th>\n",
       "      <th>director</th>\n",
       "      <th>runtime</th>\n",
       "      <th>budget</th>\n",
       "      <th>plot_keywords</th>\n",
       "    </tr>\n",
       "  </thead>\n",
       "  <tbody>\n",
       "    <tr>\n",
       "      <th>0</th>\n",
       "      <td>1</td>\n",
       "      <td>Tom Hanks|Tim Allen|Don Rickles|Jim Varney|Wal...</td>\n",
       "      <td>John Lasseter</td>\n",
       "      <td>81.0</td>\n",
       "      <td>$30,000,000</td>\n",
       "      <td>toy|rivalry|cowboy|cgi animation</td>\n",
       "    </tr>\n",
       "    <tr>\n",
       "      <th>1</th>\n",
       "      <td>2</td>\n",
       "      <td>Robin Williams|Jonathan Hyde|Kirsten Dunst|Bra...</td>\n",
       "      <td>Jonathan Hensleigh</td>\n",
       "      <td>104.0</td>\n",
       "      <td>$65,000,000</td>\n",
       "      <td>board game|adventurer|fight|game</td>\n",
       "    </tr>\n",
       "    <tr>\n",
       "      <th>2</th>\n",
       "      <td>3</td>\n",
       "      <td>Walter Matthau|Jack Lemmon|Sophia Loren|Ann-Ma...</td>\n",
       "      <td>Mark Steven Johnson</td>\n",
       "      <td>101.0</td>\n",
       "      <td>$25,000,000</td>\n",
       "      <td>boat|lake|neighbor|rivalry</td>\n",
       "    </tr>\n",
       "    <tr>\n",
       "      <th>3</th>\n",
       "      <td>4</td>\n",
       "      <td>Whitney Houston|Angela Bassett|Loretta Devine|...</td>\n",
       "      <td>Terry McMillan</td>\n",
       "      <td>124.0</td>\n",
       "      <td>$16,000,000</td>\n",
       "      <td>black american|husband wife relationship|betra...</td>\n",
       "    </tr>\n",
       "    <tr>\n",
       "      <th>4</th>\n",
       "      <td>5</td>\n",
       "      <td>Steve Martin|Diane Keaton|Martin Short|Kimberl...</td>\n",
       "      <td>Albert Hackett</td>\n",
       "      <td>106.0</td>\n",
       "      <td>$30,000,000</td>\n",
       "      <td>fatherhood|doberman|dog|mansion</td>\n",
       "    </tr>\n",
       "  </tbody>\n",
       "</table>\n",
       "</div>"
      ],
      "text/plain": [
       "   movieId                                         title_cast  \\\n",
       "0        1  Tom Hanks|Tim Allen|Don Rickles|Jim Varney|Wal...   \n",
       "1        2  Robin Williams|Jonathan Hyde|Kirsten Dunst|Bra...   \n",
       "2        3  Walter Matthau|Jack Lemmon|Sophia Loren|Ann-Ma...   \n",
       "3        4  Whitney Houston|Angela Bassett|Loretta Devine|...   \n",
       "4        5  Steve Martin|Diane Keaton|Martin Short|Kimberl...   \n",
       "\n",
       "              director  runtime       budget  \\\n",
       "0        John Lasseter     81.0  $30,000,000   \n",
       "1   Jonathan Hensleigh    104.0  $65,000,000   \n",
       "2  Mark Steven Johnson    101.0  $25,000,000   \n",
       "3       Terry McMillan    124.0  $16,000,000   \n",
       "4       Albert Hackett    106.0  $30,000,000   \n",
       "\n",
       "                                       plot_keywords  \n",
       "0                   toy|rivalry|cowboy|cgi animation  \n",
       "1                   board game|adventurer|fight|game  \n",
       "2                         boat|lake|neighbor|rivalry  \n",
       "3  black american|husband wife relationship|betra...  \n",
       "4                    fatherhood|doberman|dog|mansion  "
      ]
     },
     "execution_count": 59,
     "metadata": {},
     "output_type": "execute_result"
    }
   ],
   "source": [
    "# Preview imdb_data dataset\n",
    "print('The Shape of the data is: ', imdb_data.shape)\n",
    "imdb_data.head()"
   ]
  },
  {
   "cell_type": "code",
   "execution_count": 60,
   "id": "ec4b7f00",
   "metadata": {},
   "outputs": [
    {
     "data": {
      "text/plain": [
       "movieId              0\n",
       "title_cast       10068\n",
       "director          9874\n",
       "runtime          12089\n",
       "budget           19372\n",
       "plot_keywords    11078\n",
       "dtype: int64"
      ]
     },
     "execution_count": 60,
     "metadata": {},
     "output_type": "execute_result"
    }
   ],
   "source": [
    "imdb_data.isna().sum()"
   ]
  },
  {
   "cell_type": "code",
   "execution_count": 61,
   "id": "1b4e345b",
   "metadata": {},
   "outputs": [
    {
     "data": {
      "text/plain": [
       "movieId          0\n",
       "title_cast       0\n",
       "director         0\n",
       "runtime          0\n",
       "budget           0\n",
       "plot_keywords    0\n",
       "dtype: int64"
      ]
     },
     "execution_count": 61,
     "metadata": {},
     "output_type": "execute_result"
    }
   ],
   "source": [
    "imdb_data = imdb_data.dropna()\n",
    "imdb_data.isna().sum()"
   ]
  },
  {
   "cell_type": "code",
   "execution_count": 62,
   "id": "d816be6c",
   "metadata": {},
   "outputs": [
    {
     "name": "stdout",
     "output_type": "stream",
     "text": [
      "The Shape of the data is:  (62423, 3)\n"
     ]
    },
    {
     "data": {
      "text/html": [
       "<div>\n",
       "<style scoped>\n",
       "    .dataframe tbody tr th:only-of-type {\n",
       "        vertical-align: middle;\n",
       "    }\n",
       "\n",
       "    .dataframe tbody tr th {\n",
       "        vertical-align: top;\n",
       "    }\n",
       "\n",
       "    .dataframe thead th {\n",
       "        text-align: right;\n",
       "    }\n",
       "</style>\n",
       "<table border=\"1\" class=\"dataframe\">\n",
       "  <thead>\n",
       "    <tr style=\"text-align: right;\">\n",
       "      <th></th>\n",
       "      <th>movieId</th>\n",
       "      <th>imdbId</th>\n",
       "      <th>tmdbId</th>\n",
       "    </tr>\n",
       "  </thead>\n",
       "  <tbody>\n",
       "    <tr>\n",
       "      <th>0</th>\n",
       "      <td>1</td>\n",
       "      <td>114709</td>\n",
       "      <td>862.0</td>\n",
       "    </tr>\n",
       "    <tr>\n",
       "      <th>1</th>\n",
       "      <td>2</td>\n",
       "      <td>113497</td>\n",
       "      <td>8844.0</td>\n",
       "    </tr>\n",
       "    <tr>\n",
       "      <th>2</th>\n",
       "      <td>3</td>\n",
       "      <td>113228</td>\n",
       "      <td>15602.0</td>\n",
       "    </tr>\n",
       "    <tr>\n",
       "      <th>3</th>\n",
       "      <td>4</td>\n",
       "      <td>114885</td>\n",
       "      <td>31357.0</td>\n",
       "    </tr>\n",
       "    <tr>\n",
       "      <th>4</th>\n",
       "      <td>5</td>\n",
       "      <td>113041</td>\n",
       "      <td>11862.0</td>\n",
       "    </tr>\n",
       "  </tbody>\n",
       "</table>\n",
       "</div>"
      ],
      "text/plain": [
       "   movieId  imdbId   tmdbId\n",
       "0        1  114709    862.0\n",
       "1        2  113497   8844.0\n",
       "2        3  113228  15602.0\n",
       "3        4  114885  31357.0\n",
       "4        5  113041  11862.0"
      ]
     },
     "execution_count": 62,
     "metadata": {},
     "output_type": "execute_result"
    }
   ],
   "source": [
    "# Preview links dataset\n",
    "print('The Shape of the data is: ', links.shape)\n",
    "links.head()"
   ]
  },
  {
   "cell_type": "code",
   "execution_count": 63,
   "id": "bf066e16",
   "metadata": {},
   "outputs": [
    {
     "name": "stdout",
     "output_type": "stream",
     "text": [
      "The Shape of the data is:  (62423, 3)\n"
     ]
    },
    {
     "data": {
      "text/html": [
       "<div>\n",
       "<style scoped>\n",
       "    .dataframe tbody tr th:only-of-type {\n",
       "        vertical-align: middle;\n",
       "    }\n",
       "\n",
       "    .dataframe tbody tr th {\n",
       "        vertical-align: top;\n",
       "    }\n",
       "\n",
       "    .dataframe thead th {\n",
       "        text-align: right;\n",
       "    }\n",
       "</style>\n",
       "<table border=\"1\" class=\"dataframe\">\n",
       "  <thead>\n",
       "    <tr style=\"text-align: right;\">\n",
       "      <th></th>\n",
       "      <th>movieId</th>\n",
       "      <th>title</th>\n",
       "      <th>genres</th>\n",
       "    </tr>\n",
       "  </thead>\n",
       "  <tbody>\n",
       "    <tr>\n",
       "      <th>0</th>\n",
       "      <td>1</td>\n",
       "      <td>Toy Story (1995)</td>\n",
       "      <td>Adventure|Animation|Children|Comedy|Fantasy</td>\n",
       "    </tr>\n",
       "    <tr>\n",
       "      <th>1</th>\n",
       "      <td>2</td>\n",
       "      <td>Jumanji (1995)</td>\n",
       "      <td>Adventure|Children|Fantasy</td>\n",
       "    </tr>\n",
       "    <tr>\n",
       "      <th>2</th>\n",
       "      <td>3</td>\n",
       "      <td>Grumpier Old Men (1995)</td>\n",
       "      <td>Comedy|Romance</td>\n",
       "    </tr>\n",
       "    <tr>\n",
       "      <th>3</th>\n",
       "      <td>4</td>\n",
       "      <td>Waiting to Exhale (1995)</td>\n",
       "      <td>Comedy|Drama|Romance</td>\n",
       "    </tr>\n",
       "    <tr>\n",
       "      <th>4</th>\n",
       "      <td>5</td>\n",
       "      <td>Father of the Bride Part II (1995)</td>\n",
       "      <td>Comedy</td>\n",
       "    </tr>\n",
       "  </tbody>\n",
       "</table>\n",
       "</div>"
      ],
      "text/plain": [
       "   movieId                               title  \\\n",
       "0        1                    Toy Story (1995)   \n",
       "1        2                      Jumanji (1995)   \n",
       "2        3             Grumpier Old Men (1995)   \n",
       "3        4            Waiting to Exhale (1995)   \n",
       "4        5  Father of the Bride Part II (1995)   \n",
       "\n",
       "                                        genres  \n",
       "0  Adventure|Animation|Children|Comedy|Fantasy  \n",
       "1                   Adventure|Children|Fantasy  \n",
       "2                               Comedy|Romance  \n",
       "3                         Comedy|Drama|Romance  \n",
       "4                                       Comedy  "
      ]
     },
     "execution_count": 63,
     "metadata": {},
     "output_type": "execute_result"
    }
   ],
   "source": [
    "# Preview movies dataset\n",
    "print('The Shape of the data is: ', movies.shape)\n",
    "movies.head()"
   ]
  },
  {
   "cell_type": "code",
   "execution_count": 64,
   "id": "c5d79797",
   "metadata": {},
   "outputs": [
    {
     "data": {
      "text/plain": [
       "movieId    0\n",
       "title      0\n",
       "genres     0\n",
       "dtype: int64"
      ]
     },
     "execution_count": 64,
     "metadata": {},
     "output_type": "execute_result"
    }
   ],
   "source": [
    "movies.isna().sum()"
   ]
  },
  {
   "cell_type": "code",
   "execution_count": 65,
   "id": "dc921e59",
   "metadata": {},
   "outputs": [],
   "source": [
    "# Preview tags dataset\n",
    "# print('The Shape of the data is: ', tags.shape)\n",
    "# tags.head()"
   ]
  },
  {
   "cell_type": "markdown",
   "id": "j5bRGQAXECgt",
   "metadata": {
    "id": "j5bRGQAXECgt"
   },
   "source": [
    "#### Dataset summary\n"
   ]
  },
  {
   "cell_type": "markdown",
   "id": "81132ab3",
   "metadata": {
    "id": "81132ab3"
   },
   "source": [
    "<a id=\"three\"></a>\n",
    "## 3. Exploratory Data Analysis (EDA)\n",
    "<a class=\"anchor\" id=\"1.1\"></a>\n",
    "<a href=#cont>Back to Table of Contents</a>\n",
    "\n",
    "---\n",
    "    \n",
    "| ⚡ Description: Exploratory data analysis ⚡ |\n",
    "| :--------------------------- |\n",
    "| In this section, you are required to perform an in-depth analysis of all the variables in the DataFrame. |\n",
    "\n",
    "---\n"
   ]
  },
  {
   "cell_type": "markdown",
   "id": "98c044ea",
   "metadata": {
    "id": "98c044ea"
   },
   "source": [
    "### 3.1 Exploratory Data Analysis\n",
    "*What is Exploratory data analysis?*\n",
    "    Exploratory data analysis (EDA) is the process of analysing and investigating data sets and summarizing their main characteristics, often employing both non-graphical and graphical methods. \n",
    "\n",
    "*Why is conducting EDA important?*\n",
    "    It aids in determining how best to manipulate data to get the required answers, expose trends, patterns, and relationships that are not readily apparent i.e. get insights into the dataset.\n",
    "\n",
    "*How is EDA conducted?*\n",
    "    EDA can be conducted in the following ways:\n",
    "- **Univariate**:- \\\n",
    "    i. **non-graphical**:- This is simplest form of data analysis, where the data being analyzed consists of just one variable. Since it’s a single variable, it doesn’t deal with causes or relationships.\\\n",
    "    ii. **graphical**:- Non-graphical methods don’t provide a full picture of the data. Graphical methods are therefore required. It involves visual exploratory analysis of the data.\n",
    "- Multivariate:-  \\\n",
    "    i. **non-graphical**:- Multivariate non-graphical EDA techniques generally show the relationship between two or more variables of the data through cross-tabulation or statistics. \\\n",
    "    ii. **graphical**:- Multivariate data uses graphics to display relationships between two or more sets of data. The most used graphic is a grouped bar plot or bar chart with each group representing one level of one of the variables and each bar within a group representing the levels of the other variable.\n",
    "    \n",
    "To achieve the above, while considering the volume of dataset for this project, we make use of this python module **pandas_profiling**"
   ]
  },
  {
   "cell_type": "markdown",
   "id": "1e773ee3",
   "metadata": {
    "id": "1e773ee3"
   },
   "source": [
    "#### 3.1.1 pandas_profiling\n",
    "Pandas profiling is an open source Python module with which we can quickly do an exploratory data analysis with just a few lines of code. It offers report generation for the dataset with lots of features and customizations for the report generated."
   ]
  },
  {
   "cell_type": "code",
   "execution_count": 66,
   "id": "254e20c8",
   "metadata": {
    "colab": {
     "base_uri": "https://localhost:8080/"
    },
    "id": "254e20c8",
    "outputId": "653f6811-d3ca-433b-860c-f998b508639f",
    "scrolled": false
   },
   "outputs": [],
   "source": [
    "# Generate EDA report of train dataset\n",
    "# from pandas_profiling import ProfileReport\n",
    "# profile = ProfileReport(train, title=\"Report\")\n",
    "# profile\n"
   ]
  },
  {
   "cell_type": "code",
   "execution_count": 67,
   "id": "e805134e",
   "metadata": {
    "ExecuteTime": {
     "end_time": "2021-06-28T08:52:37.824204Z",
     "start_time": "2021-06-28T08:52:37.811206Z"
    },
    "colab": {
     "base_uri": "https://localhost:8080/"
    },
    "id": "e805134e",
    "outputId": "2a7b2a80-7b6a-45ea-b5cf-6865a9e95370",
    "scrolled": true
   },
   "outputs": [],
   "source": [
    "# Generate report for genome_scores\n",
    "# profile = ProfileReport(genome_scores, title=\"genome_scores report\")\n",
    "# profile\n"
   ]
  },
  {
   "cell_type": "markdown",
   "id": "nQgDlx-7c94s",
   "metadata": {
    "id": "nQgDlx-7c94s"
   },
   "source": [
    "#### summarize the above."
   ]
  },
  {
   "cell_type": "markdown",
   "id": "CRGApgCvgUbM",
   "metadata": {
    "id": "CRGApgCvgUbM"
   },
   "source": [
    " **Descriptive Statistics**\n",
    "\n",
    ">Descriptive statistics summarize the data by computing mean, median, mode, standard deviation likewise.descriptive statistics describe the dataset in a way simpler manner through;\n",
    "\n",
    "*   The measure of central tendency \n",
    ">*  Mean:- The average value \n",
    ">*  Median:- The mid point value \n",
    ">*  Mode:- The most common value\n",
    "\n",
    "*   Measure of spread  \n",
    ">* Percentiles:- Percentiles are used in statistics to give you a number that describes the value that a given percent of the values are lower than.\n",
    ">* standard deviation:-a number that describes how spread out the values are.\n",
    "*  Measure of symmetry \n",
    ">* Skewness:- a measure of the asymmetry of the probability distribution of a real-valued random variable about its mean.\n",
    ">>* If skewness is less than -1 or greater than 1, the distribution is highly skewed.\n",
    ">>* If skewness is between -1 and -0.5 or between 0.5 and 1, the distribution is moderately skewed.\n",
    ">>* If skewness is between -0.5 and 0.5, the distribution is approximately symmetric. \n",
    "*  Measure of Peakedness \n",
    ">* Kurtosis:-  a measure of relative peakedness of a probability distribution, or alternatively how heavy or how light its tails are. A standard normal distribution has kurtosis of 3 and is recognized as mesokurtic. An increased kurtosis (>3) can be visualized as a thin “bell” with a high peak whereas a decreased kurtosis corresponds to a broadening of the peak and “thickening” of the tails. Kurtosis >3 is recognized as leptokurtic and <3 as platykurtic (lepto=thin; platy=broad).\n",
    ">>\n",
    "\n",
    "\n",
    "\n",
    "\n",
    "\n",
    "\n"
   ]
  },
  {
   "cell_type": "code",
   "execution_count": 68,
   "id": "f855bfbb",
   "metadata": {
    "colab": {
     "base_uri": "https://localhost:8080/",
     "height": 187
    },
    "id": "f855bfbb",
    "outputId": "36d7c694-5a0c-4c60-93ea-12f5e3d1e7f6"
   },
   "outputs": [],
   "source": [
    "# look at data statistics\n"
   ]
  },
  {
   "cell_type": "markdown",
   "id": "ad2f2a7d",
   "metadata": {
    "id": "ad2f2a7d"
   },
   "source": [
    "### 3.2 Key Insights from EDA \n"
   ]
  },
  {
   "cell_type": "markdown",
   "id": "3fa93ec6",
   "metadata": {
    "id": "3fa93ec6"
   },
   "source": [
    "<a id=\"four\"></a>\n",
    "## 4. Data Engineering\n",
    "<a class=\"anchor\" id=\"1.1\"></a>\n",
    "<a href=#cont>Back to Table of Contents</a>\n",
    "\n",
    "---\n",
    "    \n",
    "| ⚡ Description: Data engineering ⚡ |\n",
    "| :--------------------------- |\n",
    "| In this section you are required to: clean the dataset, and possibly create new features - as identified in the EDA phase. |\n",
    "\n",
    "---"
   ]
  },
  {
   "cell_type": "markdown",
   "id": "e2a3c3b3",
   "metadata": {},
   "source": [
    "**Unique userid**\n",
    "We want to evaluate the difference between the unique userId in the Train dataset and Test dataset"
   ]
  },
  {
   "cell_type": "code",
   "execution_count": 69,
   "id": "0f114b4d",
   "metadata": {},
   "outputs": [
    {
     "data": {
      "text/plain": [
       "162350"
      ]
     },
     "execution_count": 69,
     "metadata": {},
     "output_type": "execute_result"
    }
   ],
   "source": [
    "test['userId'].nunique()"
   ]
  },
  {
   "cell_type": "code",
   "execution_count": 70,
   "id": "3e2f7ce1",
   "metadata": {},
   "outputs": [
    {
     "name": "stdout",
     "output_type": "stream",
     "text": [
      "The difference in unique userID count between train and test data set is: 191\n"
     ]
    }
   ],
   "source": [
    "test_case = test['userId'].nunique()\n",
    "train_case = train['userId'].nunique()\n",
    "print('The difference in unique userID count between train and test data set is:', (train_case - test_case))"
   ]
  },
  {
   "cell_type": "markdown",
   "id": "41136c73",
   "metadata": {},
   "source": [
    "From the above, proceed to extract these 191 userIds, that are not required for prediction"
   ]
  },
  {
   "cell_type": "code",
   "execution_count": 71,
   "id": "0f0767dc",
   "metadata": {},
   "outputs": [
    {
     "data": {
      "text/plain": [
       "[1, 2, 3, 4, 5, 6, 7, 8, 9, 10, 11, 12, 13, 14, 15, 16, 17, 18, 19, 20]"
      ]
     },
     "execution_count": 71,
     "metadata": {},
     "output_type": "execute_result"
    }
   ],
   "source": [
    "test_userids = test['userId'].unique().tolist()\n",
    "test_userids[:20]"
   ]
  },
  {
   "cell_type": "code",
   "execution_count": 72,
   "id": "816c9e5b",
   "metadata": {},
   "outputs": [
    {
     "data": {
      "text/plain": [
       "(9997845, 4)"
      ]
     },
     "execution_count": 72,
     "metadata": {},
     "output_type": "execute_result"
    }
   ],
   "source": [
    "#Extract rows with userId present in test userId\n",
    "useful_train = train[train['userId'].isin(test_userids)]\n",
    "useful_train.shape"
   ]
  },
  {
   "cell_type": "markdown",
   "id": "1129bd54",
   "metadata": {},
   "source": [
    "#### Sorting of Tables\n",
    "\n",
    "We proceed to sort both tables( train and test ) by useId"
   ]
  },
  {
   "cell_type": "code",
   "execution_count": 73,
   "id": "cc8f7b08",
   "metadata": {},
   "outputs": [
    {
     "data": {
      "text/html": [
       "<div>\n",
       "<style scoped>\n",
       "    .dataframe tbody tr th:only-of-type {\n",
       "        vertical-align: middle;\n",
       "    }\n",
       "\n",
       "    .dataframe tbody tr th {\n",
       "        vertical-align: top;\n",
       "    }\n",
       "\n",
       "    .dataframe thead th {\n",
       "        text-align: right;\n",
       "    }\n",
       "</style>\n",
       "<table border=\"1\" class=\"dataframe\">\n",
       "  <thead>\n",
       "    <tr style=\"text-align: right;\">\n",
       "      <th></th>\n",
       "      <th>userId</th>\n",
       "      <th>movieId</th>\n",
       "      <th>rating</th>\n",
       "      <th>timestamp</th>\n",
       "    </tr>\n",
       "  </thead>\n",
       "  <tbody>\n",
       "    <tr>\n",
       "      <th>5122500</th>\n",
       "      <td>1</td>\n",
       "      <td>3949</td>\n",
       "      <td>5.0</td>\n",
       "      <td>1147868678</td>\n",
       "    </tr>\n",
       "    <tr>\n",
       "      <th>9153002</th>\n",
       "      <td>1</td>\n",
       "      <td>1175</td>\n",
       "      <td>3.5</td>\n",
       "      <td>1147868826</td>\n",
       "    </tr>\n",
       "    <tr>\n",
       "      <th>6923102</th>\n",
       "      <td>1</td>\n",
       "      <td>6016</td>\n",
       "      <td>5.0</td>\n",
       "      <td>1147869090</td>\n",
       "    </tr>\n",
       "    <tr>\n",
       "      <th>724395</th>\n",
       "      <td>1</td>\n",
       "      <td>7323</td>\n",
       "      <td>3.5</td>\n",
       "      <td>1147869119</td>\n",
       "    </tr>\n",
       "    <tr>\n",
       "      <th>2805472</th>\n",
       "      <td>1</td>\n",
       "      <td>4973</td>\n",
       "      <td>4.5</td>\n",
       "      <td>1147869080</td>\n",
       "    </tr>\n",
       "  </tbody>\n",
       "</table>\n",
       "</div>"
      ],
      "text/plain": [
       "         userId  movieId  rating   timestamp\n",
       "5122500       1     3949     5.0  1147868678\n",
       "9153002       1     1175     3.5  1147868826\n",
       "6923102       1     6016     5.0  1147869090\n",
       "724395        1     7323     3.5  1147869119\n",
       "2805472       1     4973     4.5  1147869080"
      ]
     },
     "execution_count": 73,
     "metadata": {},
     "output_type": "execute_result"
    }
   ],
   "source": [
    "# Sort train dataset by userId\n",
    "useful_train.sort_values(by=['userId'], inplace= True)\n",
    "useful_train.head()"
   ]
  },
  {
   "cell_type": "code",
   "execution_count": 74,
   "id": "b02c621d",
   "metadata": {},
   "outputs": [
    {
     "data": {
      "text/html": [
       "<div>\n",
       "<style scoped>\n",
       "    .dataframe tbody tr th:only-of-type {\n",
       "        vertical-align: middle;\n",
       "    }\n",
       "\n",
       "    .dataframe tbody tr th {\n",
       "        vertical-align: top;\n",
       "    }\n",
       "\n",
       "    .dataframe thead th {\n",
       "        text-align: right;\n",
       "    }\n",
       "</style>\n",
       "<table border=\"1\" class=\"dataframe\">\n",
       "  <thead>\n",
       "    <tr style=\"text-align: right;\">\n",
       "      <th></th>\n",
       "      <th>userId</th>\n",
       "      <th>movieId</th>\n",
       "    </tr>\n",
       "  </thead>\n",
       "  <tbody>\n",
       "    <tr>\n",
       "      <th>0</th>\n",
       "      <td>1</td>\n",
       "      <td>2011</td>\n",
       "    </tr>\n",
       "    <tr>\n",
       "      <th>1</th>\n",
       "      <td>1</td>\n",
       "      <td>4144</td>\n",
       "    </tr>\n",
       "    <tr>\n",
       "      <th>2</th>\n",
       "      <td>1</td>\n",
       "      <td>5767</td>\n",
       "    </tr>\n",
       "    <tr>\n",
       "      <th>3</th>\n",
       "      <td>1</td>\n",
       "      <td>6711</td>\n",
       "    </tr>\n",
       "    <tr>\n",
       "      <th>4</th>\n",
       "      <td>1</td>\n",
       "      <td>7318</td>\n",
       "    </tr>\n",
       "  </tbody>\n",
       "</table>\n",
       "</div>"
      ],
      "text/plain": [
       "   userId  movieId\n",
       "0       1     2011\n",
       "1       1     4144\n",
       "2       1     5767\n",
       "3       1     6711\n",
       "4       1     7318"
      ]
     },
     "execution_count": 74,
     "metadata": {},
     "output_type": "execute_result"
    }
   ],
   "source": [
    "# Sort test dataset by userId\n",
    "test.sort_values(by=['userId'], inplace= True)\n",
    "test.head()"
   ]
  },
  {
   "cell_type": "markdown",
   "id": "f66eb6d0",
   "metadata": {},
   "source": [
    "#### Merging of relevant tables\n",
    "\n",
    "At this stage, we merge both tables with other tables considered to be useful for the task at hand.\n",
    "The tables we merge with are listed below:\n",
    "- imdb_data\n",
    "- movies\n"
   ]
  },
  {
   "cell_type": "code",
   "execution_count": 75,
   "id": "3da69d1d",
   "metadata": {},
   "outputs": [
    {
     "data": {
      "text/html": [
       "<div>\n",
       "<style scoped>\n",
       "    .dataframe tbody tr th:only-of-type {\n",
       "        vertical-align: middle;\n",
       "    }\n",
       "\n",
       "    .dataframe tbody tr th {\n",
       "        vertical-align: top;\n",
       "    }\n",
       "\n",
       "    .dataframe thead th {\n",
       "        text-align: right;\n",
       "    }\n",
       "</style>\n",
       "<table border=\"1\" class=\"dataframe\">\n",
       "  <thead>\n",
       "    <tr style=\"text-align: right;\">\n",
       "      <th></th>\n",
       "      <th>userId</th>\n",
       "      <th>movieId</th>\n",
       "      <th>rating</th>\n",
       "      <th>timestamp</th>\n",
       "      <th>title_cast</th>\n",
       "      <th>director</th>\n",
       "      <th>runtime</th>\n",
       "      <th>budget</th>\n",
       "      <th>plot_keywords</th>\n",
       "    </tr>\n",
       "  </thead>\n",
       "  <tbody>\n",
       "    <tr>\n",
       "      <th>0</th>\n",
       "      <td>1</td>\n",
       "      <td>3949</td>\n",
       "      <td>5.0</td>\n",
       "      <td>1147868678</td>\n",
       "      <td>Ellen Burstyn|Jared Leto|Jennifer Connelly|Mar...</td>\n",
       "      <td>Hubert Selby Jr.</td>\n",
       "      <td>102.0</td>\n",
       "      <td>$4,500,000</td>\n",
       "      <td>drug addiction|heroin|sex show|sex scene</td>\n",
       "    </tr>\n",
       "    <tr>\n",
       "      <th>1</th>\n",
       "      <td>1</td>\n",
       "      <td>1175</td>\n",
       "      <td>3.5</td>\n",
       "      <td>1147868826</td>\n",
       "      <td>Pascal Benezech|Dominique Pinon|Marie-Laure Do...</td>\n",
       "      <td>Jean-Pierre Jeunet</td>\n",
       "      <td>99.0</td>\n",
       "      <td>FRF24,000,000</td>\n",
       "      <td>black comedy|absurd comedy|surrealist|bed</td>\n",
       "    </tr>\n",
       "    <tr>\n",
       "      <th>2</th>\n",
       "      <td>1</td>\n",
       "      <td>6016</td>\n",
       "      <td>5.0</td>\n",
       "      <td>1147869090</td>\n",
       "      <td>Alexandre Rodrigues|Leandro Firmino|Phellipe H...</td>\n",
       "      <td>Kátia Lund</td>\n",
       "      <td>130.0</td>\n",
       "      <td>$3,300,000</td>\n",
       "      <td>photographer|slum|gang|brazil</td>\n",
       "    </tr>\n",
       "    <tr>\n",
       "      <th>3</th>\n",
       "      <td>1</td>\n",
       "      <td>7323</td>\n",
       "      <td>3.5</td>\n",
       "      <td>1147869119</td>\n",
       "      <td>Daniel Brühl|Katrin Saß|Chulpan Khamatova|Mari...</td>\n",
       "      <td>Bernd Lichtenberg</td>\n",
       "      <td>121.0</td>\n",
       "      <td>EUR4,800,000</td>\n",
       "      <td>coma|german democratic republic|capitalism|pol...</td>\n",
       "    </tr>\n",
       "    <tr>\n",
       "      <th>4</th>\n",
       "      <td>1</td>\n",
       "      <td>4973</td>\n",
       "      <td>4.5</td>\n",
       "      <td>1147869080</td>\n",
       "      <td>Audrey Tautou|Mathieu Kassovitz|Rufus|Lorella ...</td>\n",
       "      <td>Guillaume Laurant</td>\n",
       "      <td>122.0</td>\n",
       "      <td>$10,000,000</td>\n",
       "      <td>female protagonist|paris france|france|montmar...</td>\n",
       "    </tr>\n",
       "  </tbody>\n",
       "</table>\n",
       "</div>"
      ],
      "text/plain": [
       "   userId  movieId  rating   timestamp  \\\n",
       "0       1     3949     5.0  1147868678   \n",
       "1       1     1175     3.5  1147868826   \n",
       "2       1     6016     5.0  1147869090   \n",
       "3       1     7323     3.5  1147869119   \n",
       "4       1     4973     4.5  1147869080   \n",
       "\n",
       "                                          title_cast            director  \\\n",
       "0  Ellen Burstyn|Jared Leto|Jennifer Connelly|Mar...    Hubert Selby Jr.   \n",
       "1  Pascal Benezech|Dominique Pinon|Marie-Laure Do...  Jean-Pierre Jeunet   \n",
       "2  Alexandre Rodrigues|Leandro Firmino|Phellipe H...          Kátia Lund   \n",
       "3  Daniel Brühl|Katrin Saß|Chulpan Khamatova|Mari...   Bernd Lichtenberg   \n",
       "4  Audrey Tautou|Mathieu Kassovitz|Rufus|Lorella ...   Guillaume Laurant   \n",
       "\n",
       "   runtime         budget                                      plot_keywords  \n",
       "0    102.0     $4,500,000           drug addiction|heroin|sex show|sex scene  \n",
       "1     99.0  FRF24,000,000          black comedy|absurd comedy|surrealist|bed  \n",
       "2    130.0     $3,300,000                      photographer|slum|gang|brazil  \n",
       "3    121.0   EUR4,800,000  coma|german democratic republic|capitalism|pol...  \n",
       "4    122.0    $10,000,000  female protagonist|paris france|france|montmar...  "
      ]
     },
     "execution_count": 75,
     "metadata": {},
     "output_type": "execute_result"
    }
   ],
   "source": [
    "# Merge train table with imdb_data table \n",
    "useful_train = useful_train.merge(imdb_data, on = 'movieId', how= 'left')\n",
    "useful_train.head()"
   ]
  },
  {
   "cell_type": "code",
   "execution_count": 76,
   "id": "7059e6da",
   "metadata": {},
   "outputs": [
    {
     "data": {
      "text/html": [
       "<div>\n",
       "<style scoped>\n",
       "    .dataframe tbody tr th:only-of-type {\n",
       "        vertical-align: middle;\n",
       "    }\n",
       "\n",
       "    .dataframe tbody tr th {\n",
       "        vertical-align: top;\n",
       "    }\n",
       "\n",
       "    .dataframe thead th {\n",
       "        text-align: right;\n",
       "    }\n",
       "</style>\n",
       "<table border=\"1\" class=\"dataframe\">\n",
       "  <thead>\n",
       "    <tr style=\"text-align: right;\">\n",
       "      <th></th>\n",
       "      <th>userId</th>\n",
       "      <th>movieId</th>\n",
       "      <th>title_cast</th>\n",
       "      <th>director</th>\n",
       "      <th>runtime</th>\n",
       "      <th>budget</th>\n",
       "      <th>plot_keywords</th>\n",
       "    </tr>\n",
       "  </thead>\n",
       "  <tbody>\n",
       "    <tr>\n",
       "      <th>0</th>\n",
       "      <td>1</td>\n",
       "      <td>2011</td>\n",
       "      <td>NaN</td>\n",
       "      <td>NaN</td>\n",
       "      <td>NaN</td>\n",
       "      <td>NaN</td>\n",
       "      <td>NaN</td>\n",
       "    </tr>\n",
       "    <tr>\n",
       "      <th>1</th>\n",
       "      <td>1</td>\n",
       "      <td>4144</td>\n",
       "      <td>NaN</td>\n",
       "      <td>NaN</td>\n",
       "      <td>NaN</td>\n",
       "      <td>NaN</td>\n",
       "      <td>NaN</td>\n",
       "    </tr>\n",
       "    <tr>\n",
       "      <th>2</th>\n",
       "      <td>1</td>\n",
       "      <td>5767</td>\n",
       "      <td>NaN</td>\n",
       "      <td>NaN</td>\n",
       "      <td>NaN</td>\n",
       "      <td>NaN</td>\n",
       "      <td>NaN</td>\n",
       "    </tr>\n",
       "    <tr>\n",
       "      <th>3</th>\n",
       "      <td>1</td>\n",
       "      <td>6711</td>\n",
       "      <td>Scarlett Johansson|Bill Murray|Akiko Takeshita...</td>\n",
       "      <td>Sofia Coppola</td>\n",
       "      <td>102.0</td>\n",
       "      <td>$4,000,000</td>\n",
       "      <td>older man younger woman relationship|lonelines...</td>\n",
       "    </tr>\n",
       "    <tr>\n",
       "      <th>4</th>\n",
       "      <td>1</td>\n",
       "      <td>7318</td>\n",
       "      <td>Jim Caviezel|Maia Morgenstern|Christo Jivkov|F...</td>\n",
       "      <td>Benedict Fitzgerald</td>\n",
       "      <td>127.0</td>\n",
       "      <td>$30,000,000</td>\n",
       "      <td>suffering|torture|brutality|whipping</td>\n",
       "    </tr>\n",
       "  </tbody>\n",
       "</table>\n",
       "</div>"
      ],
      "text/plain": [
       "   userId  movieId                                         title_cast  \\\n",
       "0       1     2011                                                NaN   \n",
       "1       1     4144                                                NaN   \n",
       "2       1     5767                                                NaN   \n",
       "3       1     6711  Scarlett Johansson|Bill Murray|Akiko Takeshita...   \n",
       "4       1     7318  Jim Caviezel|Maia Morgenstern|Christo Jivkov|F...   \n",
       "\n",
       "              director  runtime       budget  \\\n",
       "0                  NaN      NaN          NaN   \n",
       "1                  NaN      NaN          NaN   \n",
       "2                  NaN      NaN          NaN   \n",
       "3        Sofia Coppola    102.0   $4,000,000   \n",
       "4  Benedict Fitzgerald    127.0  $30,000,000   \n",
       "\n",
       "                                       plot_keywords  \n",
       "0                                                NaN  \n",
       "1                                                NaN  \n",
       "2                                                NaN  \n",
       "3  older man younger woman relationship|lonelines...  \n",
       "4               suffering|torture|brutality|whipping  "
      ]
     },
     "execution_count": 76,
     "metadata": {},
     "output_type": "execute_result"
    }
   ],
   "source": [
    "# Merge test table with imdb_data table \n",
    "test = test.merge(imdb_data, on = 'movieId', how= 'left')\n",
    "test.head()"
   ]
  },
  {
   "cell_type": "code",
   "execution_count": 77,
   "id": "d13e6ed8",
   "metadata": {},
   "outputs": [
    {
     "data": {
      "text/html": [
       "<div>\n",
       "<style scoped>\n",
       "    .dataframe tbody tr th:only-of-type {\n",
       "        vertical-align: middle;\n",
       "    }\n",
       "\n",
       "    .dataframe tbody tr th {\n",
       "        vertical-align: top;\n",
       "    }\n",
       "\n",
       "    .dataframe thead th {\n",
       "        text-align: right;\n",
       "    }\n",
       "</style>\n",
       "<table border=\"1\" class=\"dataframe\">\n",
       "  <thead>\n",
       "    <tr style=\"text-align: right;\">\n",
       "      <th></th>\n",
       "      <th>userId</th>\n",
       "      <th>movieId</th>\n",
       "      <th>rating</th>\n",
       "      <th>timestamp</th>\n",
       "      <th>title_cast</th>\n",
       "      <th>director</th>\n",
       "      <th>runtime</th>\n",
       "      <th>budget</th>\n",
       "      <th>plot_keywords</th>\n",
       "      <th>title</th>\n",
       "      <th>genres</th>\n",
       "    </tr>\n",
       "  </thead>\n",
       "  <tbody>\n",
       "    <tr>\n",
       "      <th>0</th>\n",
       "      <td>1</td>\n",
       "      <td>3949</td>\n",
       "      <td>5.0</td>\n",
       "      <td>1147868678</td>\n",
       "      <td>Ellen Burstyn|Jared Leto|Jennifer Connelly|Mar...</td>\n",
       "      <td>Hubert Selby Jr.</td>\n",
       "      <td>102.0</td>\n",
       "      <td>$4,500,000</td>\n",
       "      <td>drug addiction|heroin|sex show|sex scene</td>\n",
       "      <td>Requiem for a Dream (2000)</td>\n",
       "      <td>Drama</td>\n",
       "    </tr>\n",
       "    <tr>\n",
       "      <th>1</th>\n",
       "      <td>1</td>\n",
       "      <td>1175</td>\n",
       "      <td>3.5</td>\n",
       "      <td>1147868826</td>\n",
       "      <td>Pascal Benezech|Dominique Pinon|Marie-Laure Do...</td>\n",
       "      <td>Jean-Pierre Jeunet</td>\n",
       "      <td>99.0</td>\n",
       "      <td>FRF24,000,000</td>\n",
       "      <td>black comedy|absurd comedy|surrealist|bed</td>\n",
       "      <td>Delicatessen (1991)</td>\n",
       "      <td>Comedy|Drama|Romance</td>\n",
       "    </tr>\n",
       "    <tr>\n",
       "      <th>2</th>\n",
       "      <td>1</td>\n",
       "      <td>6016</td>\n",
       "      <td>5.0</td>\n",
       "      <td>1147869090</td>\n",
       "      <td>Alexandre Rodrigues|Leandro Firmino|Phellipe H...</td>\n",
       "      <td>Kátia Lund</td>\n",
       "      <td>130.0</td>\n",
       "      <td>$3,300,000</td>\n",
       "      <td>photographer|slum|gang|brazil</td>\n",
       "      <td>City of God (Cidade de Deus) (2002)</td>\n",
       "      <td>Action|Adventure|Crime|Drama|Thriller</td>\n",
       "    </tr>\n",
       "    <tr>\n",
       "      <th>3</th>\n",
       "      <td>1</td>\n",
       "      <td>7323</td>\n",
       "      <td>3.5</td>\n",
       "      <td>1147869119</td>\n",
       "      <td>Daniel Brühl|Katrin Saß|Chulpan Khamatova|Mari...</td>\n",
       "      <td>Bernd Lichtenberg</td>\n",
       "      <td>121.0</td>\n",
       "      <td>EUR4,800,000</td>\n",
       "      <td>coma|german democratic republic|capitalism|pol...</td>\n",
       "      <td>Good bye, Lenin! (2003)</td>\n",
       "      <td>Comedy|Drama</td>\n",
       "    </tr>\n",
       "    <tr>\n",
       "      <th>4</th>\n",
       "      <td>1</td>\n",
       "      <td>4973</td>\n",
       "      <td>4.5</td>\n",
       "      <td>1147869080</td>\n",
       "      <td>Audrey Tautou|Mathieu Kassovitz|Rufus|Lorella ...</td>\n",
       "      <td>Guillaume Laurant</td>\n",
       "      <td>122.0</td>\n",
       "      <td>$10,000,000</td>\n",
       "      <td>female protagonist|paris france|france|montmar...</td>\n",
       "      <td>Amelie (Fabuleux destin d'Amélie Poulain, Le) ...</td>\n",
       "      <td>Comedy|Romance</td>\n",
       "    </tr>\n",
       "  </tbody>\n",
       "</table>\n",
       "</div>"
      ],
      "text/plain": [
       "   userId  movieId  rating   timestamp  \\\n",
       "0       1     3949     5.0  1147868678   \n",
       "1       1     1175     3.5  1147868826   \n",
       "2       1     6016     5.0  1147869090   \n",
       "3       1     7323     3.5  1147869119   \n",
       "4       1     4973     4.5  1147869080   \n",
       "\n",
       "                                          title_cast            director  \\\n",
       "0  Ellen Burstyn|Jared Leto|Jennifer Connelly|Mar...    Hubert Selby Jr.   \n",
       "1  Pascal Benezech|Dominique Pinon|Marie-Laure Do...  Jean-Pierre Jeunet   \n",
       "2  Alexandre Rodrigues|Leandro Firmino|Phellipe H...          Kátia Lund   \n",
       "3  Daniel Brühl|Katrin Saß|Chulpan Khamatova|Mari...   Bernd Lichtenberg   \n",
       "4  Audrey Tautou|Mathieu Kassovitz|Rufus|Lorella ...   Guillaume Laurant   \n",
       "\n",
       "   runtime         budget                                      plot_keywords  \\\n",
       "0    102.0     $4,500,000           drug addiction|heroin|sex show|sex scene   \n",
       "1     99.0  FRF24,000,000          black comedy|absurd comedy|surrealist|bed   \n",
       "2    130.0     $3,300,000                      photographer|slum|gang|brazil   \n",
       "3    121.0   EUR4,800,000  coma|german democratic republic|capitalism|pol...   \n",
       "4    122.0    $10,000,000  female protagonist|paris france|france|montmar...   \n",
       "\n",
       "                                               title  \\\n",
       "0                         Requiem for a Dream (2000)   \n",
       "1                                Delicatessen (1991)   \n",
       "2                City of God (Cidade de Deus) (2002)   \n",
       "3                            Good bye, Lenin! (2003)   \n",
       "4  Amelie (Fabuleux destin d'Amélie Poulain, Le) ...   \n",
       "\n",
       "                                  genres  \n",
       "0                                  Drama  \n",
       "1                   Comedy|Drama|Romance  \n",
       "2  Action|Adventure|Crime|Drama|Thriller  \n",
       "3                           Comedy|Drama  \n",
       "4                         Comedy|Romance  "
      ]
     },
     "execution_count": 77,
     "metadata": {},
     "output_type": "execute_result"
    }
   ],
   "source": [
    "# Merge train table with movies table \n",
    "useful_train = useful_train.merge(movies, on = 'movieId', how= 'left')\n",
    "useful_train.head()"
   ]
  },
  {
   "cell_type": "code",
   "execution_count": 78,
   "id": "3b5349d2",
   "metadata": {},
   "outputs": [
    {
     "data": {
      "text/html": [
       "<div>\n",
       "<style scoped>\n",
       "    .dataframe tbody tr th:only-of-type {\n",
       "        vertical-align: middle;\n",
       "    }\n",
       "\n",
       "    .dataframe tbody tr th {\n",
       "        vertical-align: top;\n",
       "    }\n",
       "\n",
       "    .dataframe thead th {\n",
       "        text-align: right;\n",
       "    }\n",
       "</style>\n",
       "<table border=\"1\" class=\"dataframe\">\n",
       "  <thead>\n",
       "    <tr style=\"text-align: right;\">\n",
       "      <th></th>\n",
       "      <th>userId</th>\n",
       "      <th>movieId</th>\n",
       "      <th>title_cast</th>\n",
       "      <th>director</th>\n",
       "      <th>runtime</th>\n",
       "      <th>budget</th>\n",
       "      <th>plot_keywords</th>\n",
       "      <th>title</th>\n",
       "      <th>genres</th>\n",
       "    </tr>\n",
       "  </thead>\n",
       "  <tbody>\n",
       "    <tr>\n",
       "      <th>0</th>\n",
       "      <td>1</td>\n",
       "      <td>2011</td>\n",
       "      <td>NaN</td>\n",
       "      <td>NaN</td>\n",
       "      <td>NaN</td>\n",
       "      <td>NaN</td>\n",
       "      <td>NaN</td>\n",
       "      <td>Back to the Future Part II (1989)</td>\n",
       "      <td>Adventure|Comedy|Sci-Fi</td>\n",
       "    </tr>\n",
       "    <tr>\n",
       "      <th>1</th>\n",
       "      <td>1</td>\n",
       "      <td>4144</td>\n",
       "      <td>NaN</td>\n",
       "      <td>NaN</td>\n",
       "      <td>NaN</td>\n",
       "      <td>NaN</td>\n",
       "      <td>NaN</td>\n",
       "      <td>In the Mood For Love (Fa yeung nin wa) (2000)</td>\n",
       "      <td>Drama|Romance</td>\n",
       "    </tr>\n",
       "    <tr>\n",
       "      <th>2</th>\n",
       "      <td>1</td>\n",
       "      <td>5767</td>\n",
       "      <td>NaN</td>\n",
       "      <td>NaN</td>\n",
       "      <td>NaN</td>\n",
       "      <td>NaN</td>\n",
       "      <td>NaN</td>\n",
       "      <td>Teddy Bear (Mis) (1981)</td>\n",
       "      <td>Comedy|Crime</td>\n",
       "    </tr>\n",
       "    <tr>\n",
       "      <th>3</th>\n",
       "      <td>1</td>\n",
       "      <td>6711</td>\n",
       "      <td>Scarlett Johansson|Bill Murray|Akiko Takeshita...</td>\n",
       "      <td>Sofia Coppola</td>\n",
       "      <td>102.0</td>\n",
       "      <td>$4,000,000</td>\n",
       "      <td>older man younger woman relationship|lonelines...</td>\n",
       "      <td>Lost in Translation (2003)</td>\n",
       "      <td>Comedy|Drama|Romance</td>\n",
       "    </tr>\n",
       "    <tr>\n",
       "      <th>4</th>\n",
       "      <td>1</td>\n",
       "      <td>7318</td>\n",
       "      <td>Jim Caviezel|Maia Morgenstern|Christo Jivkov|F...</td>\n",
       "      <td>Benedict Fitzgerald</td>\n",
       "      <td>127.0</td>\n",
       "      <td>$30,000,000</td>\n",
       "      <td>suffering|torture|brutality|whipping</td>\n",
       "      <td>Passion of the Christ, The (2004)</td>\n",
       "      <td>Drama</td>\n",
       "    </tr>\n",
       "  </tbody>\n",
       "</table>\n",
       "</div>"
      ],
      "text/plain": [
       "   userId  movieId                                         title_cast  \\\n",
       "0       1     2011                                                NaN   \n",
       "1       1     4144                                                NaN   \n",
       "2       1     5767                                                NaN   \n",
       "3       1     6711  Scarlett Johansson|Bill Murray|Akiko Takeshita...   \n",
       "4       1     7318  Jim Caviezel|Maia Morgenstern|Christo Jivkov|F...   \n",
       "\n",
       "              director  runtime       budget  \\\n",
       "0                  NaN      NaN          NaN   \n",
       "1                  NaN      NaN          NaN   \n",
       "2                  NaN      NaN          NaN   \n",
       "3        Sofia Coppola    102.0   $4,000,000   \n",
       "4  Benedict Fitzgerald    127.0  $30,000,000   \n",
       "\n",
       "                                       plot_keywords  \\\n",
       "0                                                NaN   \n",
       "1                                                NaN   \n",
       "2                                                NaN   \n",
       "3  older man younger woman relationship|lonelines...   \n",
       "4               suffering|torture|brutality|whipping   \n",
       "\n",
       "                                           title                   genres  \n",
       "0              Back to the Future Part II (1989)  Adventure|Comedy|Sci-Fi  \n",
       "1  In the Mood For Love (Fa yeung nin wa) (2000)            Drama|Romance  \n",
       "2                        Teddy Bear (Mis) (1981)             Comedy|Crime  \n",
       "3                     Lost in Translation (2003)     Comedy|Drama|Romance  \n",
       "4              Passion of the Christ, The (2004)                    Drama  "
      ]
     },
     "execution_count": 78,
     "metadata": {},
     "output_type": "execute_result"
    }
   ],
   "source": [
    "# Merge test table with movies table \n",
    "test = test.merge(movies, on = 'movieId', how= 'left')\n",
    "test.head()"
   ]
  },
  {
   "cell_type": "markdown",
   "id": "0b6026c0",
   "metadata": {},
   "source": [
    "#### Merging vital colunms\n",
    "\n",
    "For this stage, we proceed to merge columns we have considered to be important in describing the content of a movie into a new column called key_words. The columns are listed below:\n",
    "- title_cast\n",
    "- director\n",
    "- plot_keywords\n",
    "- genres"
   ]
  },
  {
   "cell_type": "code",
   "execution_count": 79,
   "id": "7c06b79f",
   "metadata": {},
   "outputs": [
    {
     "data": {
      "text/html": [
       "<div>\n",
       "<style scoped>\n",
       "    .dataframe tbody tr th:only-of-type {\n",
       "        vertical-align: middle;\n",
       "    }\n",
       "\n",
       "    .dataframe tbody tr th {\n",
       "        vertical-align: top;\n",
       "    }\n",
       "\n",
       "    .dataframe thead th {\n",
       "        text-align: right;\n",
       "    }\n",
       "</style>\n",
       "<table border=\"1\" class=\"dataframe\">\n",
       "  <thead>\n",
       "    <tr style=\"text-align: right;\">\n",
       "      <th></th>\n",
       "      <th>userId</th>\n",
       "      <th>movieId</th>\n",
       "      <th>rating</th>\n",
       "      <th>timestamp</th>\n",
       "      <th>title_cast</th>\n",
       "      <th>director</th>\n",
       "      <th>runtime</th>\n",
       "      <th>budget</th>\n",
       "      <th>plot_keywords</th>\n",
       "      <th>title</th>\n",
       "      <th>genres</th>\n",
       "      <th>key_words</th>\n",
       "    </tr>\n",
       "  </thead>\n",
       "  <tbody>\n",
       "    <tr>\n",
       "      <th>0</th>\n",
       "      <td>1</td>\n",
       "      <td>3949</td>\n",
       "      <td>5.0</td>\n",
       "      <td>1147868678</td>\n",
       "      <td>Ellen Burstyn|Jared Leto|Jennifer Connelly|Mar...</td>\n",
       "      <td>Hubert Selby Jr.</td>\n",
       "      <td>102.0</td>\n",
       "      <td>$4,500,000</td>\n",
       "      <td>drug addiction|heroin|sex show|sex scene</td>\n",
       "      <td>Requiem for a Dream (2000)</td>\n",
       "      <td>Drama</td>\n",
       "      <td>Ellen Burstyn|Jared Leto|Jennifer Connelly|Mar...</td>\n",
       "    </tr>\n",
       "    <tr>\n",
       "      <th>1</th>\n",
       "      <td>1</td>\n",
       "      <td>1175</td>\n",
       "      <td>3.5</td>\n",
       "      <td>1147868826</td>\n",
       "      <td>Pascal Benezech|Dominique Pinon|Marie-Laure Do...</td>\n",
       "      <td>Jean-Pierre Jeunet</td>\n",
       "      <td>99.0</td>\n",
       "      <td>FRF24,000,000</td>\n",
       "      <td>black comedy|absurd comedy|surrealist|bed</td>\n",
       "      <td>Delicatessen (1991)</td>\n",
       "      <td>Comedy|Drama|Romance</td>\n",
       "      <td>Pascal Benezech|Dominique Pinon|Marie-Laure Do...</td>\n",
       "    </tr>\n",
       "    <tr>\n",
       "      <th>2</th>\n",
       "      <td>1</td>\n",
       "      <td>6016</td>\n",
       "      <td>5.0</td>\n",
       "      <td>1147869090</td>\n",
       "      <td>Alexandre Rodrigues|Leandro Firmino|Phellipe H...</td>\n",
       "      <td>Kátia Lund</td>\n",
       "      <td>130.0</td>\n",
       "      <td>$3,300,000</td>\n",
       "      <td>photographer|slum|gang|brazil</td>\n",
       "      <td>City of God (Cidade de Deus) (2002)</td>\n",
       "      <td>Action|Adventure|Crime|Drama|Thriller</td>\n",
       "      <td>Alexandre Rodrigues|Leandro Firmino|Phellipe H...</td>\n",
       "    </tr>\n",
       "    <tr>\n",
       "      <th>3</th>\n",
       "      <td>1</td>\n",
       "      <td>7323</td>\n",
       "      <td>3.5</td>\n",
       "      <td>1147869119</td>\n",
       "      <td>Daniel Brühl|Katrin Saß|Chulpan Khamatova|Mari...</td>\n",
       "      <td>Bernd Lichtenberg</td>\n",
       "      <td>121.0</td>\n",
       "      <td>EUR4,800,000</td>\n",
       "      <td>coma|german democratic republic|capitalism|pol...</td>\n",
       "      <td>Good bye, Lenin! (2003)</td>\n",
       "      <td>Comedy|Drama</td>\n",
       "      <td>Daniel Brühl|Katrin Saß|Chulpan Khamatova|Mari...</td>\n",
       "    </tr>\n",
       "    <tr>\n",
       "      <th>4</th>\n",
       "      <td>1</td>\n",
       "      <td>4973</td>\n",
       "      <td>4.5</td>\n",
       "      <td>1147869080</td>\n",
       "      <td>Audrey Tautou|Mathieu Kassovitz|Rufus|Lorella ...</td>\n",
       "      <td>Guillaume Laurant</td>\n",
       "      <td>122.0</td>\n",
       "      <td>$10,000,000</td>\n",
       "      <td>female protagonist|paris france|france|montmar...</td>\n",
       "      <td>Amelie (Fabuleux destin d'Amélie Poulain, Le) ...</td>\n",
       "      <td>Comedy|Romance</td>\n",
       "      <td>Audrey Tautou|Mathieu Kassovitz|Rufus|Lorella ...</td>\n",
       "    </tr>\n",
       "  </tbody>\n",
       "</table>\n",
       "</div>"
      ],
      "text/plain": [
       "   userId  movieId  rating   timestamp  \\\n",
       "0       1     3949     5.0  1147868678   \n",
       "1       1     1175     3.5  1147868826   \n",
       "2       1     6016     5.0  1147869090   \n",
       "3       1     7323     3.5  1147869119   \n",
       "4       1     4973     4.5  1147869080   \n",
       "\n",
       "                                          title_cast            director  \\\n",
       "0  Ellen Burstyn|Jared Leto|Jennifer Connelly|Mar...    Hubert Selby Jr.   \n",
       "1  Pascal Benezech|Dominique Pinon|Marie-Laure Do...  Jean-Pierre Jeunet   \n",
       "2  Alexandre Rodrigues|Leandro Firmino|Phellipe H...          Kátia Lund   \n",
       "3  Daniel Brühl|Katrin Saß|Chulpan Khamatova|Mari...   Bernd Lichtenberg   \n",
       "4  Audrey Tautou|Mathieu Kassovitz|Rufus|Lorella ...   Guillaume Laurant   \n",
       "\n",
       "   runtime         budget                                      plot_keywords  \\\n",
       "0    102.0     $4,500,000           drug addiction|heroin|sex show|sex scene   \n",
       "1     99.0  FRF24,000,000          black comedy|absurd comedy|surrealist|bed   \n",
       "2    130.0     $3,300,000                      photographer|slum|gang|brazil   \n",
       "3    121.0   EUR4,800,000  coma|german democratic republic|capitalism|pol...   \n",
       "4    122.0    $10,000,000  female protagonist|paris france|france|montmar...   \n",
       "\n",
       "                                               title  \\\n",
       "0                         Requiem for a Dream (2000)   \n",
       "1                                Delicatessen (1991)   \n",
       "2                City of God (Cidade de Deus) (2002)   \n",
       "3                            Good bye, Lenin! (2003)   \n",
       "4  Amelie (Fabuleux destin d'Amélie Poulain, Le) ...   \n",
       "\n",
       "                                  genres  \\\n",
       "0                                  Drama   \n",
       "1                   Comedy|Drama|Romance   \n",
       "2  Action|Adventure|Crime|Drama|Thriller   \n",
       "3                           Comedy|Drama   \n",
       "4                         Comedy|Romance   \n",
       "\n",
       "                                           key_words  \n",
       "0  Ellen Burstyn|Jared Leto|Jennifer Connelly|Mar...  \n",
       "1  Pascal Benezech|Dominique Pinon|Marie-Laure Do...  \n",
       "2  Alexandre Rodrigues|Leandro Firmino|Phellipe H...  \n",
       "3  Daniel Brühl|Katrin Saß|Chulpan Khamatova|Mari...  \n",
       "4  Audrey Tautou|Mathieu Kassovitz|Rufus|Lorella ...  "
      ]
     },
     "execution_count": 79,
     "metadata": {},
     "output_type": "execute_result"
    }
   ],
   "source": [
    "# Merge the columns listed above into a new column named key_words fot the train data\n",
    "useful_train['key_words'] = (pd.Series(useful_train[['title_cast', 'director', 'plot_keywords', 'genres']].fillna('')\n",
    "                      .values.tolist()).str.join(' '))\n",
    "useful_train.head()"
   ]
  },
  {
   "cell_type": "code",
   "execution_count": 80,
   "id": "fa0d1183",
   "metadata": {},
   "outputs": [
    {
     "name": "stdout",
     "output_type": "stream",
     "text": [
      " There are 0 numbers of NaN values in the train keywords column\n"
     ]
    }
   ],
   "source": [
    "# confrim the absense of NaN value in the key_word column for the train data\n",
    "nan = useful_train['key_words'].isna().sum()\n",
    "print(f' There are {nan} numbers of NaN values in the train keywords column')"
   ]
  },
  {
   "cell_type": "code",
   "execution_count": 81,
   "id": "ae4f684d",
   "metadata": {},
   "outputs": [
    {
     "data": {
      "text/html": [
       "<div>\n",
       "<style scoped>\n",
       "    .dataframe tbody tr th:only-of-type {\n",
       "        vertical-align: middle;\n",
       "    }\n",
       "\n",
       "    .dataframe tbody tr th {\n",
       "        vertical-align: top;\n",
       "    }\n",
       "\n",
       "    .dataframe thead th {\n",
       "        text-align: right;\n",
       "    }\n",
       "</style>\n",
       "<table border=\"1\" class=\"dataframe\">\n",
       "  <thead>\n",
       "    <tr style=\"text-align: right;\">\n",
       "      <th></th>\n",
       "      <th>userId</th>\n",
       "      <th>movieId</th>\n",
       "      <th>title_cast</th>\n",
       "      <th>director</th>\n",
       "      <th>runtime</th>\n",
       "      <th>budget</th>\n",
       "      <th>plot_keywords</th>\n",
       "      <th>title</th>\n",
       "      <th>genres</th>\n",
       "      <th>key_words</th>\n",
       "    </tr>\n",
       "  </thead>\n",
       "  <tbody>\n",
       "    <tr>\n",
       "      <th>0</th>\n",
       "      <td>1</td>\n",
       "      <td>2011</td>\n",
       "      <td>NaN</td>\n",
       "      <td>NaN</td>\n",
       "      <td>NaN</td>\n",
       "      <td>NaN</td>\n",
       "      <td>NaN</td>\n",
       "      <td>Back to the Future Part II (1989)</td>\n",
       "      <td>Adventure|Comedy|Sci-Fi</td>\n",
       "      <td>Adventure|Comedy|Sci-Fi</td>\n",
       "    </tr>\n",
       "    <tr>\n",
       "      <th>1</th>\n",
       "      <td>1</td>\n",
       "      <td>4144</td>\n",
       "      <td>NaN</td>\n",
       "      <td>NaN</td>\n",
       "      <td>NaN</td>\n",
       "      <td>NaN</td>\n",
       "      <td>NaN</td>\n",
       "      <td>In the Mood For Love (Fa yeung nin wa) (2000)</td>\n",
       "      <td>Drama|Romance</td>\n",
       "      <td>Drama|Romance</td>\n",
       "    </tr>\n",
       "    <tr>\n",
       "      <th>2</th>\n",
       "      <td>1</td>\n",
       "      <td>5767</td>\n",
       "      <td>NaN</td>\n",
       "      <td>NaN</td>\n",
       "      <td>NaN</td>\n",
       "      <td>NaN</td>\n",
       "      <td>NaN</td>\n",
       "      <td>Teddy Bear (Mis) (1981)</td>\n",
       "      <td>Comedy|Crime</td>\n",
       "      <td>Comedy|Crime</td>\n",
       "    </tr>\n",
       "    <tr>\n",
       "      <th>3</th>\n",
       "      <td>1</td>\n",
       "      <td>6711</td>\n",
       "      <td>Scarlett Johansson|Bill Murray|Akiko Takeshita...</td>\n",
       "      <td>Sofia Coppola</td>\n",
       "      <td>102.0</td>\n",
       "      <td>$4,000,000</td>\n",
       "      <td>older man younger woman relationship|lonelines...</td>\n",
       "      <td>Lost in Translation (2003)</td>\n",
       "      <td>Comedy|Drama|Romance</td>\n",
       "      <td>Scarlett Johansson|Bill Murray|Akiko Takeshita...</td>\n",
       "    </tr>\n",
       "    <tr>\n",
       "      <th>4</th>\n",
       "      <td>1</td>\n",
       "      <td>7318</td>\n",
       "      <td>Jim Caviezel|Maia Morgenstern|Christo Jivkov|F...</td>\n",
       "      <td>Benedict Fitzgerald</td>\n",
       "      <td>127.0</td>\n",
       "      <td>$30,000,000</td>\n",
       "      <td>suffering|torture|brutality|whipping</td>\n",
       "      <td>Passion of the Christ, The (2004)</td>\n",
       "      <td>Drama</td>\n",
       "      <td>Jim Caviezel|Maia Morgenstern|Christo Jivkov|F...</td>\n",
       "    </tr>\n",
       "  </tbody>\n",
       "</table>\n",
       "</div>"
      ],
      "text/plain": [
       "   userId  movieId                                         title_cast  \\\n",
       "0       1     2011                                                NaN   \n",
       "1       1     4144                                                NaN   \n",
       "2       1     5767                                                NaN   \n",
       "3       1     6711  Scarlett Johansson|Bill Murray|Akiko Takeshita...   \n",
       "4       1     7318  Jim Caviezel|Maia Morgenstern|Christo Jivkov|F...   \n",
       "\n",
       "              director  runtime       budget  \\\n",
       "0                  NaN      NaN          NaN   \n",
       "1                  NaN      NaN          NaN   \n",
       "2                  NaN      NaN          NaN   \n",
       "3        Sofia Coppola    102.0   $4,000,000   \n",
       "4  Benedict Fitzgerald    127.0  $30,000,000   \n",
       "\n",
       "                                       plot_keywords  \\\n",
       "0                                                NaN   \n",
       "1                                                NaN   \n",
       "2                                                NaN   \n",
       "3  older man younger woman relationship|lonelines...   \n",
       "4               suffering|torture|brutality|whipping   \n",
       "\n",
       "                                           title                   genres  \\\n",
       "0              Back to the Future Part II (1989)  Adventure|Comedy|Sci-Fi   \n",
       "1  In the Mood For Love (Fa yeung nin wa) (2000)            Drama|Romance   \n",
       "2                        Teddy Bear (Mis) (1981)             Comedy|Crime   \n",
       "3                     Lost in Translation (2003)     Comedy|Drama|Romance   \n",
       "4              Passion of the Christ, The (2004)                    Drama   \n",
       "\n",
       "                                           key_words  \n",
       "0                            Adventure|Comedy|Sci-Fi  \n",
       "1                                      Drama|Romance  \n",
       "2                                       Comedy|Crime  \n",
       "3  Scarlett Johansson|Bill Murray|Akiko Takeshita...  \n",
       "4  Jim Caviezel|Maia Morgenstern|Christo Jivkov|F...  "
      ]
     },
     "execution_count": 81,
     "metadata": {},
     "output_type": "execute_result"
    }
   ],
   "source": [
    "# Merge the columns listed above into a new column named key_words fot the test data\n",
    "test['key_words'] = (pd.Series(test[['title_cast', 'director', 'plot_keywords', 'genres']].fillna('')\n",
    "                      .values.tolist()).str.join(' '))\n",
    "test.head()"
   ]
  },
  {
   "cell_type": "code",
   "execution_count": 82,
   "id": "3eaada7d",
   "metadata": {},
   "outputs": [
    {
     "name": "stdout",
     "output_type": "stream",
     "text": [
      " There are 0 numbers of NaN values in the test keywords column\n"
     ]
    }
   ],
   "source": [
    "# confrim the absense of NaN value in the key_word column for the test data\n",
    "nan = test['key_words'].isna().sum()\n",
    "print(f' There are {nan} numbers of NaN values in the test keywords column')"
   ]
  },
  {
   "cell_type": "markdown",
   "id": "cee57e09",
   "metadata": {},
   "source": [
    "#### Droping of colunms not needed\n",
    "\n",
    "Going forward, we drop colunms we have considered not realy important for the task at hand. The columns are listed below:\n",
    "- runtime\n",
    "- budget\n",
    "- timestamp\n",
    "- title_cast\n",
    "- director\n",
    "- plot_keywords \n",
    "- genres'"
   ]
  },
  {
   "cell_type": "code",
   "execution_count": 83,
   "id": "d740bf23",
   "metadata": {},
   "outputs": [
    {
     "data": {
      "text/html": [
       "<div>\n",
       "<style scoped>\n",
       "    .dataframe tbody tr th:only-of-type {\n",
       "        vertical-align: middle;\n",
       "    }\n",
       "\n",
       "    .dataframe tbody tr th {\n",
       "        vertical-align: top;\n",
       "    }\n",
       "\n",
       "    .dataframe thead th {\n",
       "        text-align: right;\n",
       "    }\n",
       "</style>\n",
       "<table border=\"1\" class=\"dataframe\">\n",
       "  <thead>\n",
       "    <tr style=\"text-align: right;\">\n",
       "      <th></th>\n",
       "      <th>userId</th>\n",
       "      <th>movieId</th>\n",
       "      <th>rating</th>\n",
       "      <th>title</th>\n",
       "      <th>key_words</th>\n",
       "    </tr>\n",
       "  </thead>\n",
       "  <tbody>\n",
       "    <tr>\n",
       "      <th>0</th>\n",
       "      <td>1</td>\n",
       "      <td>3949</td>\n",
       "      <td>5.0</td>\n",
       "      <td>Requiem for a Dream (2000)</td>\n",
       "      <td>Ellen Burstyn|Jared Leto|Jennifer Connelly|Mar...</td>\n",
       "    </tr>\n",
       "    <tr>\n",
       "      <th>1</th>\n",
       "      <td>1</td>\n",
       "      <td>1175</td>\n",
       "      <td>3.5</td>\n",
       "      <td>Delicatessen (1991)</td>\n",
       "      <td>Pascal Benezech|Dominique Pinon|Marie-Laure Do...</td>\n",
       "    </tr>\n",
       "    <tr>\n",
       "      <th>2</th>\n",
       "      <td>1</td>\n",
       "      <td>6016</td>\n",
       "      <td>5.0</td>\n",
       "      <td>City of God (Cidade de Deus) (2002)</td>\n",
       "      <td>Alexandre Rodrigues|Leandro Firmino|Phellipe H...</td>\n",
       "    </tr>\n",
       "    <tr>\n",
       "      <th>3</th>\n",
       "      <td>1</td>\n",
       "      <td>7323</td>\n",
       "      <td>3.5</td>\n",
       "      <td>Good bye, Lenin! (2003)</td>\n",
       "      <td>Daniel Brühl|Katrin Saß|Chulpan Khamatova|Mari...</td>\n",
       "    </tr>\n",
       "    <tr>\n",
       "      <th>4</th>\n",
       "      <td>1</td>\n",
       "      <td>4973</td>\n",
       "      <td>4.5</td>\n",
       "      <td>Amelie (Fabuleux destin d'Amélie Poulain, Le) ...</td>\n",
       "      <td>Audrey Tautou|Mathieu Kassovitz|Rufus|Lorella ...</td>\n",
       "    </tr>\n",
       "  </tbody>\n",
       "</table>\n",
       "</div>"
      ],
      "text/plain": [
       "   userId  movieId  rating                                              title  \\\n",
       "0       1     3949     5.0                         Requiem for a Dream (2000)   \n",
       "1       1     1175     3.5                                Delicatessen (1991)   \n",
       "2       1     6016     5.0                City of God (Cidade de Deus) (2002)   \n",
       "3       1     7323     3.5                            Good bye, Lenin! (2003)   \n",
       "4       1     4973     4.5  Amelie (Fabuleux destin d'Amélie Poulain, Le) ...   \n",
       "\n",
       "                                           key_words  \n",
       "0  Ellen Burstyn|Jared Leto|Jennifer Connelly|Mar...  \n",
       "1  Pascal Benezech|Dominique Pinon|Marie-Laure Do...  \n",
       "2  Alexandre Rodrigues|Leandro Firmino|Phellipe H...  \n",
       "3  Daniel Brühl|Katrin Saß|Chulpan Khamatova|Mari...  \n",
       "4  Audrey Tautou|Mathieu Kassovitz|Rufus|Lorella ...  "
      ]
     },
     "execution_count": 83,
     "metadata": {},
     "output_type": "execute_result"
    }
   ],
   "source": [
    "# Drop the above listed columns in the train data\n",
    "useful_train.drop(columns=['timestamp', 'runtime', 'budget', 'title_cast', 'director', \n",
    "                           'plot_keywords','genres'], inplace= True)\n",
    "useful_train.head()"
   ]
  },
  {
   "cell_type": "code",
   "execution_count": 88,
   "id": "de0f7a42",
   "metadata": {},
   "outputs": [
    {
     "data": {
      "text/html": [
       "<div>\n",
       "<style scoped>\n",
       "    .dataframe tbody tr th:only-of-type {\n",
       "        vertical-align: middle;\n",
       "    }\n",
       "\n",
       "    .dataframe tbody tr th {\n",
       "        vertical-align: top;\n",
       "    }\n",
       "\n",
       "    .dataframe thead th {\n",
       "        text-align: right;\n",
       "    }\n",
       "</style>\n",
       "<table border=\"1\" class=\"dataframe\">\n",
       "  <thead>\n",
       "    <tr style=\"text-align: right;\">\n",
       "      <th></th>\n",
       "      <th>userId</th>\n",
       "      <th>movieId</th>\n",
       "      <th>title</th>\n",
       "      <th>key_words</th>\n",
       "    </tr>\n",
       "  </thead>\n",
       "  <tbody>\n",
       "    <tr>\n",
       "      <th>0</th>\n",
       "      <td>1</td>\n",
       "      <td>2011</td>\n",
       "      <td>Back to the Future Part II (1989)</td>\n",
       "      <td>Adventure|Comedy|Sci-Fi</td>\n",
       "    </tr>\n",
       "    <tr>\n",
       "      <th>1</th>\n",
       "      <td>1</td>\n",
       "      <td>4144</td>\n",
       "      <td>In the Mood For Love (Fa yeung nin wa) (2000)</td>\n",
       "      <td>Drama|Romance</td>\n",
       "    </tr>\n",
       "    <tr>\n",
       "      <th>2</th>\n",
       "      <td>1</td>\n",
       "      <td>5767</td>\n",
       "      <td>Teddy Bear (Mis) (1981)</td>\n",
       "      <td>Comedy|Crime</td>\n",
       "    </tr>\n",
       "    <tr>\n",
       "      <th>3</th>\n",
       "      <td>1</td>\n",
       "      <td>6711</td>\n",
       "      <td>Lost in Translation (2003)</td>\n",
       "      <td>Scarlett Johansson|Bill Murray|Akiko Takeshita...</td>\n",
       "    </tr>\n",
       "    <tr>\n",
       "      <th>4</th>\n",
       "      <td>1</td>\n",
       "      <td>7318</td>\n",
       "      <td>Passion of the Christ, The (2004)</td>\n",
       "      <td>Jim Caviezel|Maia Morgenstern|Christo Jivkov|F...</td>\n",
       "    </tr>\n",
       "  </tbody>\n",
       "</table>\n",
       "</div>"
      ],
      "text/plain": [
       "   userId  movieId                                          title  \\\n",
       "0       1     2011              Back to the Future Part II (1989)   \n",
       "1       1     4144  In the Mood For Love (Fa yeung nin wa) (2000)   \n",
       "2       1     5767                        Teddy Bear (Mis) (1981)   \n",
       "3       1     6711                     Lost in Translation (2003)   \n",
       "4       1     7318              Passion of the Christ, The (2004)   \n",
       "\n",
       "                                           key_words  \n",
       "0                            Adventure|Comedy|Sci-Fi  \n",
       "1                                      Drama|Romance  \n",
       "2                                       Comedy|Crime  \n",
       "3  Scarlett Johansson|Bill Murray|Akiko Takeshita...  \n",
       "4  Jim Caviezel|Maia Morgenstern|Christo Jivkov|F...  "
      ]
     },
     "execution_count": 88,
     "metadata": {},
     "output_type": "execute_result"
    }
   ],
   "source": [
    "# Drop the above listed columns in the test data\n",
    "test.drop(columns=['runtime', 'budget', 'title_cast', 'director', \n",
    "                           'plot_keywords','genres'], inplace= True)\n",
    "test.head()"
   ]
  },
  {
   "cell_type": "markdown",
   "id": "630b7187",
   "metadata": {},
   "source": [
    "#### Data Formating\n",
    "\n",
    "As can be seen in the title and key_words colunm, each enity are separated by a **|**, **(** and **)**, and this character which is a separator(delimiter) if left with the data, will affect the accuracy of our model, hence needs to be removed. \n",
    "\n",
    "To achieve this, we write a function called splitter, to operate on both the train and test dataset. "
   ]
  },
  {
   "cell_type": "code",
   "execution_count": 92,
   "id": "d5e44048",
   "metadata": {},
   "outputs": [],
   "source": [
    "# Remove delimeters(Separators) from string data\n",
    "def splitter(df, col_list, delim, separator= ' '):\n",
    "    \"\"\"\n",
    "        This function accepts a dataframe(df) and a list of columns(col_list), which contains the delimiter\n",
    "        to be removed, it also accepts the delimiter which is to be removed\n",
    "    \"\"\"\n",
    "    new_df = df.copy()\n",
    "    \n",
    "    for col in col_list:\n",
    "        new_df[col] = new_df[col].str.split(delim).str.join(separator)\n",
    "    \n",
    "    return new_df"
   ]
  },
  {
   "cell_type": "markdown",
   "id": "3afd01c7",
   "metadata": {},
   "source": [
    "#### Format Train Dataset"
   ]
  },
  {
   "cell_type": "code",
   "execution_count": 93,
   "id": "61a5388e",
   "metadata": {},
   "outputs": [
    {
     "data": {
      "text/html": [
       "<div>\n",
       "<style scoped>\n",
       "    .dataframe tbody tr th:only-of-type {\n",
       "        vertical-align: middle;\n",
       "    }\n",
       "\n",
       "    .dataframe tbody tr th {\n",
       "        vertical-align: top;\n",
       "    }\n",
       "\n",
       "    .dataframe thead th {\n",
       "        text-align: right;\n",
       "    }\n",
       "</style>\n",
       "<table border=\"1\" class=\"dataframe\">\n",
       "  <thead>\n",
       "    <tr style=\"text-align: right;\">\n",
       "      <th></th>\n",
       "      <th>userId</th>\n",
       "      <th>movieId</th>\n",
       "      <th>rating</th>\n",
       "      <th>title</th>\n",
       "      <th>key_words</th>\n",
       "    </tr>\n",
       "  </thead>\n",
       "  <tbody>\n",
       "    <tr>\n",
       "      <th>0</th>\n",
       "      <td>1</td>\n",
       "      <td>3949</td>\n",
       "      <td>5.0</td>\n",
       "      <td>Requiem for a Dream 2000)</td>\n",
       "      <td>Ellen Burstyn|Jared Leto|Jennifer Connelly|Mar...</td>\n",
       "    </tr>\n",
       "    <tr>\n",
       "      <th>1</th>\n",
       "      <td>1</td>\n",
       "      <td>1175</td>\n",
       "      <td>3.5</td>\n",
       "      <td>Delicatessen 1991)</td>\n",
       "      <td>Pascal Benezech|Dominique Pinon|Marie-Laure Do...</td>\n",
       "    </tr>\n",
       "    <tr>\n",
       "      <th>2</th>\n",
       "      <td>1</td>\n",
       "      <td>6016</td>\n",
       "      <td>5.0</td>\n",
       "      <td>City of God Cidade de Deus) 2002)</td>\n",
       "      <td>Alexandre Rodrigues|Leandro Firmino|Phellipe H...</td>\n",
       "    </tr>\n",
       "    <tr>\n",
       "      <th>3</th>\n",
       "      <td>1</td>\n",
       "      <td>7323</td>\n",
       "      <td>3.5</td>\n",
       "      <td>Good bye, Lenin! 2003)</td>\n",
       "      <td>Daniel Brühl|Katrin Saß|Chulpan Khamatova|Mari...</td>\n",
       "    </tr>\n",
       "    <tr>\n",
       "      <th>4</th>\n",
       "      <td>1</td>\n",
       "      <td>4973</td>\n",
       "      <td>4.5</td>\n",
       "      <td>Amelie Fabuleux destin d'Amélie Poulain, Le) 2...</td>\n",
       "      <td>Audrey Tautou|Mathieu Kassovitz|Rufus|Lorella ...</td>\n",
       "    </tr>\n",
       "  </tbody>\n",
       "</table>\n",
       "</div>"
      ],
      "text/plain": [
       "   userId  movieId  rating                                              title  \\\n",
       "0       1     3949     5.0                          Requiem for a Dream 2000)   \n",
       "1       1     1175     3.5                                 Delicatessen 1991)   \n",
       "2       1     6016     5.0                  City of God Cidade de Deus) 2002)   \n",
       "3       1     7323     3.5                             Good bye, Lenin! 2003)   \n",
       "4       1     4973     4.5  Amelie Fabuleux destin d'Amélie Poulain, Le) 2...   \n",
       "\n",
       "                                           key_words  \n",
       "0  Ellen Burstyn|Jared Leto|Jennifer Connelly|Mar...  \n",
       "1  Pascal Benezech|Dominique Pinon|Marie-Laure Do...  \n",
       "2  Alexandre Rodrigues|Leandro Firmino|Phellipe H...  \n",
       "3  Daniel Brühl|Katrin Saß|Chulpan Khamatova|Mari...  \n",
       "4  Audrey Tautou|Mathieu Kassovitz|Rufus|Lorella ...  "
      ]
     },
     "execution_count": 93,
     "metadata": {},
     "output_type": "execute_result"
    }
   ],
   "source": [
    "# Remove Opening brackets separating title of movies and year \n",
    "useful_train = splitter(useful_train, ['title'], '(', '')\n",
    "useful_train.head()"
   ]
  },
  {
   "cell_type": "code",
   "execution_count": 95,
   "id": "2a27a050",
   "metadata": {},
   "outputs": [
    {
     "data": {
      "text/html": [
       "<div>\n",
       "<style scoped>\n",
       "    .dataframe tbody tr th:only-of-type {\n",
       "        vertical-align: middle;\n",
       "    }\n",
       "\n",
       "    .dataframe tbody tr th {\n",
       "        vertical-align: top;\n",
       "    }\n",
       "\n",
       "    .dataframe thead th {\n",
       "        text-align: right;\n",
       "    }\n",
       "</style>\n",
       "<table border=\"1\" class=\"dataframe\">\n",
       "  <thead>\n",
       "    <tr style=\"text-align: right;\">\n",
       "      <th></th>\n",
       "      <th>userId</th>\n",
       "      <th>movieId</th>\n",
       "      <th>rating</th>\n",
       "      <th>title</th>\n",
       "      <th>key_words</th>\n",
       "    </tr>\n",
       "  </thead>\n",
       "  <tbody>\n",
       "    <tr>\n",
       "      <th>0</th>\n",
       "      <td>1</td>\n",
       "      <td>3949</td>\n",
       "      <td>5.0</td>\n",
       "      <td>Requiem for a Dream 2000</td>\n",
       "      <td>Ellen Burstyn|Jared Leto|Jennifer Connelly|Mar...</td>\n",
       "    </tr>\n",
       "    <tr>\n",
       "      <th>1</th>\n",
       "      <td>1</td>\n",
       "      <td>1175</td>\n",
       "      <td>3.5</td>\n",
       "      <td>Delicatessen 1991</td>\n",
       "      <td>Pascal Benezech|Dominique Pinon|Marie-Laure Do...</td>\n",
       "    </tr>\n",
       "    <tr>\n",
       "      <th>2</th>\n",
       "      <td>1</td>\n",
       "      <td>6016</td>\n",
       "      <td>5.0</td>\n",
       "      <td>City of God Cidade de Deus 2002</td>\n",
       "      <td>Alexandre Rodrigues|Leandro Firmino|Phellipe H...</td>\n",
       "    </tr>\n",
       "    <tr>\n",
       "      <th>3</th>\n",
       "      <td>1</td>\n",
       "      <td>7323</td>\n",
       "      <td>3.5</td>\n",
       "      <td>Good bye, Lenin! 2003</td>\n",
       "      <td>Daniel Brühl|Katrin Saß|Chulpan Khamatova|Mari...</td>\n",
       "    </tr>\n",
       "    <tr>\n",
       "      <th>4</th>\n",
       "      <td>1</td>\n",
       "      <td>4973</td>\n",
       "      <td>4.5</td>\n",
       "      <td>Amelie Fabuleux destin d'Amélie Poulain, Le 2001</td>\n",
       "      <td>Audrey Tautou|Mathieu Kassovitz|Rufus|Lorella ...</td>\n",
       "    </tr>\n",
       "  </tbody>\n",
       "</table>\n",
       "</div>"
      ],
      "text/plain": [
       "   userId  movieId  rating                                             title  \\\n",
       "0       1     3949     5.0                          Requiem for a Dream 2000   \n",
       "1       1     1175     3.5                                 Delicatessen 1991   \n",
       "2       1     6016     5.0                   City of God Cidade de Deus 2002   \n",
       "3       1     7323     3.5                             Good bye, Lenin! 2003   \n",
       "4       1     4973     4.5  Amelie Fabuleux destin d'Amélie Poulain, Le 2001   \n",
       "\n",
       "                                           key_words  \n",
       "0  Ellen Burstyn|Jared Leto|Jennifer Connelly|Mar...  \n",
       "1  Pascal Benezech|Dominique Pinon|Marie-Laure Do...  \n",
       "2  Alexandre Rodrigues|Leandro Firmino|Phellipe H...  \n",
       "3  Daniel Brühl|Katrin Saß|Chulpan Khamatova|Mari...  \n",
       "4  Audrey Tautou|Mathieu Kassovitz|Rufus|Lorella ...  "
      ]
     },
     "execution_count": 95,
     "metadata": {},
     "output_type": "execute_result"
    }
   ],
   "source": [
    "# Remove close brackets separating title of movies and year \n",
    "useful_train = splitter(useful_train, ['title'], ')','')\n",
    "useful_train.head()"
   ]
  },
  {
   "cell_type": "code",
   "execution_count": 96,
   "id": "070aefa2",
   "metadata": {},
   "outputs": [
    {
     "data": {
      "text/html": [
       "<div>\n",
       "<style scoped>\n",
       "    .dataframe tbody tr th:only-of-type {\n",
       "        vertical-align: middle;\n",
       "    }\n",
       "\n",
       "    .dataframe tbody tr th {\n",
       "        vertical-align: top;\n",
       "    }\n",
       "\n",
       "    .dataframe thead th {\n",
       "        text-align: right;\n",
       "    }\n",
       "</style>\n",
       "<table border=\"1\" class=\"dataframe\">\n",
       "  <thead>\n",
       "    <tr style=\"text-align: right;\">\n",
       "      <th></th>\n",
       "      <th>userId</th>\n",
       "      <th>movieId</th>\n",
       "      <th>rating</th>\n",
       "      <th>title</th>\n",
       "      <th>key_words</th>\n",
       "    </tr>\n",
       "  </thead>\n",
       "  <tbody>\n",
       "    <tr>\n",
       "      <th>0</th>\n",
       "      <td>1</td>\n",
       "      <td>3949</td>\n",
       "      <td>5.0</td>\n",
       "      <td>Requiem for a Dream 2000</td>\n",
       "      <td>Ellen Burstyn Jared Leto Jennifer Connelly Mar...</td>\n",
       "    </tr>\n",
       "    <tr>\n",
       "      <th>1</th>\n",
       "      <td>1</td>\n",
       "      <td>1175</td>\n",
       "      <td>3.5</td>\n",
       "      <td>Delicatessen 1991</td>\n",
       "      <td>Pascal Benezech Dominique Pinon Marie-Laure Do...</td>\n",
       "    </tr>\n",
       "    <tr>\n",
       "      <th>2</th>\n",
       "      <td>1</td>\n",
       "      <td>6016</td>\n",
       "      <td>5.0</td>\n",
       "      <td>City of God Cidade de Deus 2002</td>\n",
       "      <td>Alexandre Rodrigues Leandro Firmino Phellipe H...</td>\n",
       "    </tr>\n",
       "    <tr>\n",
       "      <th>3</th>\n",
       "      <td>1</td>\n",
       "      <td>7323</td>\n",
       "      <td>3.5</td>\n",
       "      <td>Good bye, Lenin! 2003</td>\n",
       "      <td>Daniel Brühl Katrin Saß Chulpan Khamatova Mari...</td>\n",
       "    </tr>\n",
       "    <tr>\n",
       "      <th>4</th>\n",
       "      <td>1</td>\n",
       "      <td>4973</td>\n",
       "      <td>4.5</td>\n",
       "      <td>Amelie Fabuleux destin d'Amélie Poulain, Le 2001</td>\n",
       "      <td>Audrey Tautou Mathieu Kassovitz Rufus Lorella ...</td>\n",
       "    </tr>\n",
       "  </tbody>\n",
       "</table>\n",
       "</div>"
      ],
      "text/plain": [
       "   userId  movieId  rating                                             title  \\\n",
       "0       1     3949     5.0                          Requiem for a Dream 2000   \n",
       "1       1     1175     3.5                                 Delicatessen 1991   \n",
       "2       1     6016     5.0                   City of God Cidade de Deus 2002   \n",
       "3       1     7323     3.5                             Good bye, Lenin! 2003   \n",
       "4       1     4973     4.5  Amelie Fabuleux destin d'Amélie Poulain, Le 2001   \n",
       "\n",
       "                                           key_words  \n",
       "0  Ellen Burstyn Jared Leto Jennifer Connelly Mar...  \n",
       "1  Pascal Benezech Dominique Pinon Marie-Laure Do...  \n",
       "2  Alexandre Rodrigues Leandro Firmino Phellipe H...  \n",
       "3  Daniel Brühl Katrin Saß Chulpan Khamatova Mari...  \n",
       "4  Audrey Tautou Mathieu Kassovitz Rufus Lorella ...  "
      ]
     },
     "execution_count": 96,
     "metadata": {},
     "output_type": "execute_result"
    }
   ],
   "source": [
    "# Remove delimeter from key_words colunm in train data\n",
    "useful_train = splitter(useful_train, ['key_words'], '|')\n",
    "useful_train.head()"
   ]
  },
  {
   "cell_type": "markdown",
   "id": "e8312551",
   "metadata": {},
   "source": [
    "#### Format Test Dataset"
   ]
  },
  {
   "cell_type": "code",
   "execution_count": 97,
   "id": "b71f4335",
   "metadata": {},
   "outputs": [
    {
     "data": {
      "text/html": [
       "<div>\n",
       "<style scoped>\n",
       "    .dataframe tbody tr th:only-of-type {\n",
       "        vertical-align: middle;\n",
       "    }\n",
       "\n",
       "    .dataframe tbody tr th {\n",
       "        vertical-align: top;\n",
       "    }\n",
       "\n",
       "    .dataframe thead th {\n",
       "        text-align: right;\n",
       "    }\n",
       "</style>\n",
       "<table border=\"1\" class=\"dataframe\">\n",
       "  <thead>\n",
       "    <tr style=\"text-align: right;\">\n",
       "      <th></th>\n",
       "      <th>userId</th>\n",
       "      <th>movieId</th>\n",
       "      <th>title</th>\n",
       "      <th>key_words</th>\n",
       "    </tr>\n",
       "  </thead>\n",
       "  <tbody>\n",
       "    <tr>\n",
       "      <th>0</th>\n",
       "      <td>1</td>\n",
       "      <td>2011</td>\n",
       "      <td>Back to the Future Part II 1989)</td>\n",
       "      <td>Adventure|Comedy|Sci-Fi</td>\n",
       "    </tr>\n",
       "    <tr>\n",
       "      <th>1</th>\n",
       "      <td>1</td>\n",
       "      <td>4144</td>\n",
       "      <td>In the Mood For Love Fa yeung nin wa) 2000)</td>\n",
       "      <td>Drama|Romance</td>\n",
       "    </tr>\n",
       "    <tr>\n",
       "      <th>2</th>\n",
       "      <td>1</td>\n",
       "      <td>5767</td>\n",
       "      <td>Teddy Bear Mis) 1981)</td>\n",
       "      <td>Comedy|Crime</td>\n",
       "    </tr>\n",
       "    <tr>\n",
       "      <th>3</th>\n",
       "      <td>1</td>\n",
       "      <td>6711</td>\n",
       "      <td>Lost in Translation 2003)</td>\n",
       "      <td>Scarlett Johansson|Bill Murray|Akiko Takeshita...</td>\n",
       "    </tr>\n",
       "    <tr>\n",
       "      <th>4</th>\n",
       "      <td>1</td>\n",
       "      <td>7318</td>\n",
       "      <td>Passion of the Christ, The 2004)</td>\n",
       "      <td>Jim Caviezel|Maia Morgenstern|Christo Jivkov|F...</td>\n",
       "    </tr>\n",
       "  </tbody>\n",
       "</table>\n",
       "</div>"
      ],
      "text/plain": [
       "   userId  movieId                                        title  \\\n",
       "0       1     2011             Back to the Future Part II 1989)   \n",
       "1       1     4144  In the Mood For Love Fa yeung nin wa) 2000)   \n",
       "2       1     5767                        Teddy Bear Mis) 1981)   \n",
       "3       1     6711                    Lost in Translation 2003)   \n",
       "4       1     7318             Passion of the Christ, The 2004)   \n",
       "\n",
       "                                           key_words  \n",
       "0                            Adventure|Comedy|Sci-Fi  \n",
       "1                                      Drama|Romance  \n",
       "2                                       Comedy|Crime  \n",
       "3  Scarlett Johansson|Bill Murray|Akiko Takeshita...  \n",
       "4  Jim Caviezel|Maia Morgenstern|Christo Jivkov|F...  "
      ]
     },
     "execution_count": 97,
     "metadata": {},
     "output_type": "execute_result"
    }
   ],
   "source": [
    "# Remove Opening brackets separating title of movies and year \n",
    "test = splitter(test, ['title'], '(', '')\n",
    "test.head()"
   ]
  },
  {
   "cell_type": "code",
   "execution_count": 98,
   "id": "8bd030bd",
   "metadata": {},
   "outputs": [
    {
     "data": {
      "text/html": [
       "<div>\n",
       "<style scoped>\n",
       "    .dataframe tbody tr th:only-of-type {\n",
       "        vertical-align: middle;\n",
       "    }\n",
       "\n",
       "    .dataframe tbody tr th {\n",
       "        vertical-align: top;\n",
       "    }\n",
       "\n",
       "    .dataframe thead th {\n",
       "        text-align: right;\n",
       "    }\n",
       "</style>\n",
       "<table border=\"1\" class=\"dataframe\">\n",
       "  <thead>\n",
       "    <tr style=\"text-align: right;\">\n",
       "      <th></th>\n",
       "      <th>userId</th>\n",
       "      <th>movieId</th>\n",
       "      <th>title</th>\n",
       "      <th>key_words</th>\n",
       "    </tr>\n",
       "  </thead>\n",
       "  <tbody>\n",
       "    <tr>\n",
       "      <th>0</th>\n",
       "      <td>1</td>\n",
       "      <td>2011</td>\n",
       "      <td>Back to the Future Part II 1989</td>\n",
       "      <td>Adventure|Comedy|Sci-Fi</td>\n",
       "    </tr>\n",
       "    <tr>\n",
       "      <th>1</th>\n",
       "      <td>1</td>\n",
       "      <td>4144</td>\n",
       "      <td>In the Mood For Love Fa yeung nin wa 2000</td>\n",
       "      <td>Drama|Romance</td>\n",
       "    </tr>\n",
       "    <tr>\n",
       "      <th>2</th>\n",
       "      <td>1</td>\n",
       "      <td>5767</td>\n",
       "      <td>Teddy Bear Mis 1981</td>\n",
       "      <td>Comedy|Crime</td>\n",
       "    </tr>\n",
       "    <tr>\n",
       "      <th>3</th>\n",
       "      <td>1</td>\n",
       "      <td>6711</td>\n",
       "      <td>Lost in Translation 2003</td>\n",
       "      <td>Scarlett Johansson|Bill Murray|Akiko Takeshita...</td>\n",
       "    </tr>\n",
       "    <tr>\n",
       "      <th>4</th>\n",
       "      <td>1</td>\n",
       "      <td>7318</td>\n",
       "      <td>Passion of the Christ, The 2004</td>\n",
       "      <td>Jim Caviezel|Maia Morgenstern|Christo Jivkov|F...</td>\n",
       "    </tr>\n",
       "  </tbody>\n",
       "</table>\n",
       "</div>"
      ],
      "text/plain": [
       "   userId  movieId                                      title  \\\n",
       "0       1     2011            Back to the Future Part II 1989   \n",
       "1       1     4144  In the Mood For Love Fa yeung nin wa 2000   \n",
       "2       1     5767                        Teddy Bear Mis 1981   \n",
       "3       1     6711                   Lost in Translation 2003   \n",
       "4       1     7318            Passion of the Christ, The 2004   \n",
       "\n",
       "                                           key_words  \n",
       "0                            Adventure|Comedy|Sci-Fi  \n",
       "1                                      Drama|Romance  \n",
       "2                                       Comedy|Crime  \n",
       "3  Scarlett Johansson|Bill Murray|Akiko Takeshita...  \n",
       "4  Jim Caviezel|Maia Morgenstern|Christo Jivkov|F...  "
      ]
     },
     "execution_count": 98,
     "metadata": {},
     "output_type": "execute_result"
    }
   ],
   "source": [
    "# Remove Opening brackets separating title of movies and year \n",
    "test = splitter(test, ['title'], ')', '')\n",
    "test.head()"
   ]
  },
  {
   "cell_type": "code",
   "execution_count": 99,
   "id": "7cd7a324",
   "metadata": {},
   "outputs": [
    {
     "data": {
      "text/html": [
       "<div>\n",
       "<style scoped>\n",
       "    .dataframe tbody tr th:only-of-type {\n",
       "        vertical-align: middle;\n",
       "    }\n",
       "\n",
       "    .dataframe tbody tr th {\n",
       "        vertical-align: top;\n",
       "    }\n",
       "\n",
       "    .dataframe thead th {\n",
       "        text-align: right;\n",
       "    }\n",
       "</style>\n",
       "<table border=\"1\" class=\"dataframe\">\n",
       "  <thead>\n",
       "    <tr style=\"text-align: right;\">\n",
       "      <th></th>\n",
       "      <th>userId</th>\n",
       "      <th>movieId</th>\n",
       "      <th>title</th>\n",
       "      <th>key_words</th>\n",
       "    </tr>\n",
       "  </thead>\n",
       "  <tbody>\n",
       "    <tr>\n",
       "      <th>0</th>\n",
       "      <td>1</td>\n",
       "      <td>2011</td>\n",
       "      <td>Back to the Future Part II 1989</td>\n",
       "      <td>Adventure Comedy Sci-Fi</td>\n",
       "    </tr>\n",
       "    <tr>\n",
       "      <th>1</th>\n",
       "      <td>1</td>\n",
       "      <td>4144</td>\n",
       "      <td>In the Mood For Love Fa yeung nin wa 2000</td>\n",
       "      <td>Drama Romance</td>\n",
       "    </tr>\n",
       "    <tr>\n",
       "      <th>2</th>\n",
       "      <td>1</td>\n",
       "      <td>5767</td>\n",
       "      <td>Teddy Bear Mis 1981</td>\n",
       "      <td>Comedy Crime</td>\n",
       "    </tr>\n",
       "    <tr>\n",
       "      <th>3</th>\n",
       "      <td>1</td>\n",
       "      <td>6711</td>\n",
       "      <td>Lost in Translation 2003</td>\n",
       "      <td>Scarlett Johansson Bill Murray Akiko Takeshita...</td>\n",
       "    </tr>\n",
       "    <tr>\n",
       "      <th>4</th>\n",
       "      <td>1</td>\n",
       "      <td>7318</td>\n",
       "      <td>Passion of the Christ, The 2004</td>\n",
       "      <td>Jim Caviezel Maia Morgenstern Christo Jivkov F...</td>\n",
       "    </tr>\n",
       "  </tbody>\n",
       "</table>\n",
       "</div>"
      ],
      "text/plain": [
       "   userId  movieId                                      title  \\\n",
       "0       1     2011            Back to the Future Part II 1989   \n",
       "1       1     4144  In the Mood For Love Fa yeung nin wa 2000   \n",
       "2       1     5767                        Teddy Bear Mis 1981   \n",
       "3       1     6711                   Lost in Translation 2003   \n",
       "4       1     7318            Passion of the Christ, The 2004   \n",
       "\n",
       "                                           key_words  \n",
       "0                            Adventure Comedy Sci-Fi  \n",
       "1                                      Drama Romance  \n",
       "2                                       Comedy Crime  \n",
       "3  Scarlett Johansson Bill Murray Akiko Takeshita...  \n",
       "4  Jim Caviezel Maia Morgenstern Christo Jivkov F...  "
      ]
     },
     "execution_count": 99,
     "metadata": {},
     "output_type": "execute_result"
    }
   ],
   "source": [
    "# Remove delimeter from key_words colunm in test data\n",
    "test = splitter(test, ['key_words'], '|')\n",
    "test.head()"
   ]
  },
  {
   "cell_type": "markdown",
   "id": "11019088",
   "metadata": {},
   "source": [
    "#### Merge title to key_words column"
   ]
  },
  {
   "cell_type": "code",
   "execution_count": 103,
   "id": "52ac3f0c",
   "metadata": {},
   "outputs": [
    {
     "data": {
      "text/html": [
       "<div>\n",
       "<style scoped>\n",
       "    .dataframe tbody tr th:only-of-type {\n",
       "        vertical-align: middle;\n",
       "    }\n",
       "\n",
       "    .dataframe tbody tr th {\n",
       "        vertical-align: top;\n",
       "    }\n",
       "\n",
       "    .dataframe thead th {\n",
       "        text-align: right;\n",
       "    }\n",
       "</style>\n",
       "<table border=\"1\" class=\"dataframe\">\n",
       "  <thead>\n",
       "    <tr style=\"text-align: right;\">\n",
       "      <th></th>\n",
       "      <th>userId</th>\n",
       "      <th>movieId</th>\n",
       "      <th>key_words</th>\n",
       "    </tr>\n",
       "  </thead>\n",
       "  <tbody>\n",
       "    <tr>\n",
       "      <th>0</th>\n",
       "      <td>1</td>\n",
       "      <td>2011</td>\n",
       "      <td>Back to the Future Part II 1989    Adventure C...</td>\n",
       "    </tr>\n",
       "    <tr>\n",
       "      <th>1</th>\n",
       "      <td>1</td>\n",
       "      <td>4144</td>\n",
       "      <td>In the Mood For Love Fa yeung nin wa 2000    D...</td>\n",
       "    </tr>\n",
       "    <tr>\n",
       "      <th>2</th>\n",
       "      <td>1</td>\n",
       "      <td>5767</td>\n",
       "      <td>Teddy Bear Mis 1981    Comedy Crime</td>\n",
       "    </tr>\n",
       "    <tr>\n",
       "      <th>3</th>\n",
       "      <td>1</td>\n",
       "      <td>6711</td>\n",
       "      <td>Lost in Translation 2003 Scarlett Johansson Bi...</td>\n",
       "    </tr>\n",
       "    <tr>\n",
       "      <th>4</th>\n",
       "      <td>1</td>\n",
       "      <td>7318</td>\n",
       "      <td>Passion of the Christ, The 2004 Jim Caviezel M...</td>\n",
       "    </tr>\n",
       "  </tbody>\n",
       "</table>\n",
       "</div>"
      ],
      "text/plain": [
       "   userId  movieId                                          key_words\n",
       "0       1     2011  Back to the Future Part II 1989    Adventure C...\n",
       "1       1     4144  In the Mood For Love Fa yeung nin wa 2000    D...\n",
       "2       1     5767                Teddy Bear Mis 1981    Comedy Crime\n",
       "3       1     6711  Lost in Translation 2003 Scarlett Johansson Bi...\n",
       "4       1     7318  Passion of the Christ, The 2004 Jim Caviezel M..."
      ]
     },
     "execution_count": 103,
     "metadata": {},
     "output_type": "execute_result"
    }
   ],
   "source": [
    "# Merge the columns listed above into a new column named key_words fot the test data\n",
    "test['key_words'] = (pd.Series(test[['title', 'key_words']].fillna('')\n",
    "                      .values.tolist()).str.join(' '))\n",
    "\n",
    "# Drop title column\n",
    "test.drop(columns=['title'], inplace=True)\n",
    "test.head()"
   ]
  },
  {
   "cell_type": "code",
   "execution_count": 104,
   "id": "2721d667",
   "metadata": {},
   "outputs": [
    {
     "data": {
      "text/html": [
       "<div>\n",
       "<style scoped>\n",
       "    .dataframe tbody tr th:only-of-type {\n",
       "        vertical-align: middle;\n",
       "    }\n",
       "\n",
       "    .dataframe tbody tr th {\n",
       "        vertical-align: top;\n",
       "    }\n",
       "\n",
       "    .dataframe thead th {\n",
       "        text-align: right;\n",
       "    }\n",
       "</style>\n",
       "<table border=\"1\" class=\"dataframe\">\n",
       "  <thead>\n",
       "    <tr style=\"text-align: right;\">\n",
       "      <th></th>\n",
       "      <th>userId</th>\n",
       "      <th>movieId</th>\n",
       "      <th>rating</th>\n",
       "      <th>key_words</th>\n",
       "    </tr>\n",
       "  </thead>\n",
       "  <tbody>\n",
       "    <tr>\n",
       "      <th>0</th>\n",
       "      <td>1</td>\n",
       "      <td>3949</td>\n",
       "      <td>5.0</td>\n",
       "      <td>Requiem for a Dream 2000 Ellen Burstyn Jared L...</td>\n",
       "    </tr>\n",
       "    <tr>\n",
       "      <th>1</th>\n",
       "      <td>1</td>\n",
       "      <td>1175</td>\n",
       "      <td>3.5</td>\n",
       "      <td>Delicatessen 1991 Pascal Benezech Dominique Pi...</td>\n",
       "    </tr>\n",
       "    <tr>\n",
       "      <th>2</th>\n",
       "      <td>1</td>\n",
       "      <td>6016</td>\n",
       "      <td>5.0</td>\n",
       "      <td>City of God Cidade de Deus 2002 Alexandre Rodr...</td>\n",
       "    </tr>\n",
       "    <tr>\n",
       "      <th>3</th>\n",
       "      <td>1</td>\n",
       "      <td>7323</td>\n",
       "      <td>3.5</td>\n",
       "      <td>Good bye, Lenin! 2003 Daniel Brühl Katrin Saß ...</td>\n",
       "    </tr>\n",
       "    <tr>\n",
       "      <th>4</th>\n",
       "      <td>1</td>\n",
       "      <td>4973</td>\n",
       "      <td>4.5</td>\n",
       "      <td>Amelie Fabuleux destin d'Amélie Poulain, Le 20...</td>\n",
       "    </tr>\n",
       "  </tbody>\n",
       "</table>\n",
       "</div>"
      ],
      "text/plain": [
       "   userId  movieId  rating                                          key_words\n",
       "0       1     3949     5.0  Requiem for a Dream 2000 Ellen Burstyn Jared L...\n",
       "1       1     1175     3.5  Delicatessen 1991 Pascal Benezech Dominique Pi...\n",
       "2       1     6016     5.0  City of God Cidade de Deus 2002 Alexandre Rodr...\n",
       "3       1     7323     3.5  Good bye, Lenin! 2003 Daniel Brühl Katrin Saß ...\n",
       "4       1     4973     4.5  Amelie Fabuleux destin d'Amélie Poulain, Le 20..."
      ]
     },
     "execution_count": 104,
     "metadata": {},
     "output_type": "execute_result"
    }
   ],
   "source": [
    "# Merge the columns listed above into a new column named key_words fot the test data\n",
    "useful_train['key_words'] = (pd.Series(useful_train[['title', 'key_words']].fillna('')\n",
    "                      .values.tolist()).str.join(' '))\n",
    "useful_train.drop(columns=['title'], inplace=True)\n",
    "useful_train.head()"
   ]
  },
  {
   "cell_type": "markdown",
   "id": "d0de24a7",
   "metadata": {},
   "source": [
    "#### Dividing dataset into chunks\n",
    "\n",
    "We shall now proceed to divide both dataset into chunks. The numbers of chunk we have chosen is 162350, which is the numbers of unique userIds we have for both dataset. We do this to enables us save these chunks into local storage system of our machines, fetch these chunks back individualy and separately processing these chunks and making prediction afterwards. This act is necessary because our machines all have limited capacity, which prevents us from processing theses dataset at once.\n",
    "\n"
   ]
  },
  {
   "cell_type": "code",
   "execution_count": 105,
   "id": "7f0dd369",
   "metadata": {},
   "outputs": [],
   "source": [
    "# A function that generate a list of chunks\n",
    "def create_chunk_list(df, col_ref, col_val):\n",
    "    \"\"\"\n",
    "        This function accepts a dataframe, the dataframe column and the colunm value to filter by\n",
    "        It returns a new dataframe, which is a datframe where the reference column matches the passed column value.\n",
    "    \"\"\"\n",
    "    new_df = df[df[col_ref] == col_val]\n",
    "        \n",
    "    return new_df\n",
    "            "
   ]
  },
  {
   "cell_type": "markdown",
   "id": "48831549",
   "metadata": {},
   "source": [
    "#### Collection of unique userIds\n",
    "\n",
    "As can be observed from our work so far, the userId are not ordered numerically, hence, there is need to collect these userIds into a list, which we use as the extensions to the chunks to be created."
   ]
  },
  {
   "cell_type": "code",
   "execution_count": 106,
   "id": "1f5d185e",
   "metadata": {},
   "outputs": [
    {
     "name": "stdout",
     "output_type": "stream",
     "text": [
      "The total numbers of extensions is:  162350\n"
     ]
    }
   ],
   "source": [
    "extentions = test['userId'].unique().tolist()\n",
    "\n",
    "print('The total numbers of extensions is: ', len(extentions))"
   ]
  },
  {
   "cell_type": "code",
   "execution_count": 107,
   "id": "0ac71644",
   "metadata": {},
   "outputs": [
    {
     "data": {
      "text/plain": [
       "[1, 2, 3, 4, 5, 6, 7, 8, 9, 10]"
      ]
     },
     "execution_count": 107,
     "metadata": {},
     "output_type": "execute_result"
    }
   ],
   "source": [
    "extentions[:10]"
   ]
  },
  {
   "cell_type": "markdown",
   "id": "cd10f5e7",
   "metadata": {},
   "source": [
    "### RUN ONCE\n",
    "\n",
    "Only run the two immediate cells bellow once, for the entire lifecycle of the project, except you delete the directories and data created after the first run."
   ]
  },
  {
   "cell_type": "code",
   "execution_count": 108,
   "id": "6e94a471",
   "metadata": {},
   "outputs": [
    {
     "name": "stdout",
     "output_type": "stream",
     "text": [
      "I took 24.567322897911072 to create these chunks\n"
     ]
    }
   ],
   "source": [
    "# Run ONCE\n",
    "# Create and store chunk for train data\n",
    "t0 = time()\n",
    "for index, extention in enumerate (extentions):\n",
    "    \n",
    "    # Create chunk name\n",
    "    chunk_name = \"train_chunk_{0}\".format(extention)\n",
    "    \n",
    "    # Create and store chunk\n",
    "    globals()[chunk_name] = create_chunk_list(useful_train, 'userId', extention)\n",
    "    \n",
    "    # Create create directory and save chunk\n",
    "    directory = './data/chunked_train_data/'+chunk_name+'.csv'\n",
    "    globals()[chunk_name].to_csv(directory,index=False)\n",
    "    \n",
    "    # Delete chunk from global memory space\n",
    "    del globals()[chunk_name]\n",
    "t1 = time()\n",
    "\n",
    "print(f'I took {(t1 - t0) / 60} to create these chunks')"
   ]
  },
  {
   "cell_type": "code",
   "execution_count": 109,
   "id": "6bfcddcc",
   "metadata": {},
   "outputs": [
    {
     "name": "stdout",
     "output_type": "stream",
     "text": [
      "I took 13.82291675011317 to create these chunks\n"
     ]
    }
   ],
   "source": [
    "# Run ONCE\n",
    "# Create and store chunk for test data\n",
    "t0 = time()\n",
    "for index, extention in enumerate (extentions):\n",
    "    # Create chunk name\n",
    "    chunk_name = \"test_chunk_{0}\".format(extention)\n",
    "    \n",
    "    # Create and store chunk\n",
    "    globals()[chunk_name] = create_chunk_list(test, 'userId', extention)\n",
    "    \n",
    "    # Create create directory and save chunk\n",
    "    directory = './data/chunked_test_data/'+chunk_name+'.csv'\n",
    "    globals()[chunk_name].to_csv(directory,index=False)\n",
    "    \n",
    "    # Delete chunk from global memory space\n",
    "    del globals()[chunk_name]\n",
    "t1 = time()\n",
    "\n",
    "print(f'I took {(t1 - t0) / 60} to create these chunks')"
   ]
  },
  {
   "cell_type": "markdown",
   "id": "b8cf410a",
   "metadata": {},
   "source": [
    "<a id=\"five\"></a>\n",
    "## 5. Modelling\n",
    "<a class=\"anchor\" id=\"1.1\"></a>\n",
    "<a href=#cont>Back to Table of Contents</a>\n",
    "\n",
    "---\n",
    "    \n",
    "| ⚡ Description: Modelling ⚡ |\n",
    "| :--------------------------- |\n",
    "| In this section, you are required to create one or more regression models that are able to accurately predict the thee hour load shortfall. |\n",
    "\n",
    "---"
   ]
  },
  {
   "cell_type": "markdown",
   "id": "e42d8b26",
   "metadata": {},
   "source": [
    "### 5.2 Content-based Filtering \n",
    "Making recommendations based on how similar the properties or features of an item are to other items"
   ]
  },
  {
   "cell_type": "code",
   "execution_count": 48,
   "id": "22a3eb0d",
   "metadata": {},
   "outputs": [],
   "source": [
    "def content_generate_rating_estimate(k=4, threshold=0.0):\n",
    "    frames = []\n",
    "    for index, extention in enumerate (extentions):\n",
    "        new_ids = []\n",
    "        t0 = time()\n",
    "        \n",
    "        # Create chunk name\n",
    "        chunk_name = \"prediction_{0}\".format(extention)\n",
    "        directory = './data/prediction3/'+chunk_name+'.csv'\n",
    "        \n",
    "        \n",
    "        rating_data = './data/chunked_train_data/train_chunk_{0}.csv'.format(extention)\n",
    "        user = './data/chunked_test_data/test_chunk_{0}.csv'.format(extention)\n",
    "        \n",
    "        rating_data = pd.read_csv(rating_data)\n",
    "        user = pd.read_csv(user)\n",
    "        \n",
    "        user_record = rating_data.drop(columns = ['rating'])\n",
    "        \n",
    "        \n",
    "        \n",
    "        combined_movies_table = pd.concat([user_record, user], ignore_index=True)\n",
    "        \n",
    "        titles = combined_movies_table['movieId']\n",
    "        indices = pd.Series(combined_movies_table.index, combined_movies_table['movieId'])\n",
    "        \n",
    "        tf = TfidfVectorizer(analyzer='word', ngram_range=(1,2),\n",
    "                     min_df=0, stop_words='english')\n",
    "\n",
    "        # Produce a feature matrix, where each row corresponds to a book,\n",
    "        # with TF-IDF features as columns \n",
    "        tf_authTags_matrix = tf.fit_transform(combined_movies_table['key_words'])\n",
    "        \n",
    "        cosine_sim_authTags = cosine_similarity(tf_authTags_matrix, \n",
    "                                        tf_authTags_matrix)\n",
    "        \n",
    "        interested_movies = user['movieId'].tolist()\n",
    "        \n",
    "        new_ids = []\n",
    "        predictedRatings = []\n",
    "        for i, movie in enumerate(interested_movies):\n",
    "            \n",
    "            b_idx = indices[movie]\n",
    "            neighbors = [] # <-- Stores our collection of similarity values \n",
    "        \n",
    "            for j, row in rating_data.iterrows():\n",
    "                sim = cosine_sim_authTags[b_idx-1, indices[row['movieId']]-1]\n",
    "                \n",
    "                neighbors.append((sim, row['rating']))\n",
    "            \n",
    "            # Select the top-N values from our collection\n",
    "            k_neighbors = heapq.nlargest(k, neighbors, key=lambda t: t[0])\n",
    "            \n",
    "            # Compute the weighted average using similarity scores and \n",
    "            # user item ratings. \n",
    "            simTotal, weightedSum = 0, 0\n",
    "            \n",
    "            for (simScore, rating) in k_neighbors:\n",
    "                # Ensure that similarity ratings are above a given threshold\n",
    "                if (simScore > threshold):\n",
    "                    simTotal += simScore\n",
    "                    weightedSum += simScore * rating\n",
    "            try:\n",
    "                predictedRating = weightedSum / simTotal\n",
    "            except ZeroDivisionError:\n",
    "                # Cold-start problem - No ratings given by user. \n",
    "                # We use the average rating for the reference item as a proxy in this case \n",
    "                predictedRating = np.mean(rating_data[rating_data['movieId']==movie]['rating'])\n",
    "            \n",
    "            # Prepare Id colunm for submission \n",
    "            new_id = str(extention)+ '_' + str(movie)\n",
    "            \n",
    "            # Append the new id generated\n",
    "            new_ids.append(new_id)\n",
    "            \n",
    "            # append the new prediction\n",
    "            predictedRatings.append(predictedRating)\n",
    "        \n",
    "            \n",
    "        df = pd.DataFrame({\n",
    "        'Id': new_ids,\n",
    "        'rating': predictedRatings\n",
    "         })\n",
    "        \n",
    "        frames.append(df)\n",
    "        df.to_csv(directory,index=False)\n",
    "        \n",
    "        t1 = time()\n",
    "        print('Pridiction for chunk no: ', (index+1))\n",
    "        print('Time elapsed: ', (t1-t0))\n",
    "        \n",
    "       \n",
    "        \n",
    "    return frames"
   ]
  },
  {
   "cell_type": "code",
   "execution_count": 1,
   "id": "c96fe669",
   "metadata": {},
   "outputs": [],
   "source": [
    "# frames = content_generate_rating_estimate(k=4, threshold=0.0)"
   ]
  },
  {
   "cell_type": "markdown",
   "id": "300236d2",
   "metadata": {},
   "source": [
    "### Load Prediction Files\n",
    "\n",
    "We load prediction files from our local machine"
   ]
  },
  {
   "cell_type": "markdown",
   "id": "ecbfa212",
   "metadata": {},
   "source": [
    "#### New Predicted files"
   ]
  },
  {
   "cell_type": "code",
   "execution_count": 3,
   "id": "1ae03f05",
   "metadata": {},
   "outputs": [
    {
     "name": "stdout",
     "output_type": "stream",
     "text": [
      "72216\n"
     ]
    }
   ],
   "source": [
    "# Check the numbers of predictions we have made so far\n",
    "onlyfiles = next(os.walk('./data/predictions'))[2] #dir is your directory path as string\n",
    "print (len(onlyfiles))"
   ]
  },
  {
   "cell_type": "code",
   "execution_count": 4,
   "id": "e3158857",
   "metadata": {},
   "outputs": [
    {
     "data": {
      "text/plain": [
       "10709"
      ]
     },
     "execution_count": 4,
     "metadata": {},
     "output_type": "execute_result"
    }
   ],
   "source": [
    "# Confirm and delete '.Ds_Store'\n",
    "onlyfiles.index('.DS_Store')"
   ]
  },
  {
   "cell_type": "code",
   "execution_count": 5,
   "id": "14147fbc",
   "metadata": {},
   "outputs": [
    {
     "name": "stdout",
     "output_type": "stream",
     "text": [
      "The exact length of predicted files is:  72215\n"
     ]
    }
   ],
   "source": [
    "# Delete the unwanted file '.Ds_Store' from the list\n",
    "del onlyfiles[onlyfiles.index('.DS_Store')]\n",
    "\n",
    "print('The exact length of predicted files is: ', len(onlyfiles))"
   ]
  },
  {
   "cell_type": "code",
   "execution_count": 6,
   "id": "67c9191a",
   "metadata": {},
   "outputs": [
    {
     "name": "stdout",
     "output_type": "stream",
     "text": [
      "The name of the first predicted file is:  prediction_1.csv\n"
     ]
    }
   ],
   "source": [
    "# Confrim the naming convention of the predicted files\n",
    "print('The name of the first predicted file is: ', sorted(onlyfiles)[0])"
   ]
  },
  {
   "cell_type": "code",
   "execution_count": 7,
   "id": "8e61593e",
   "metadata": {},
   "outputs": [
    {
     "name": "stdout",
     "output_type": "stream",
     "text": [
      "The length of predictions loaded is:  72215\n"
     ]
    }
   ],
   "source": [
    "# Load all predictions \n",
    "predictions = []\n",
    "for i, file_name in enumerate(onlyfiles):\n",
    "    direcory = './data/predictions/'+file_name\n",
    "    df = pd.read_csv(direcory)\n",
    "    predictions.append(df)\n",
    "\n",
    "# Print the length of prediction loaded\n",
    "print('The length of predictions loaded is: ', len(predictions))"
   ]
  },
  {
   "cell_type": "code",
   "execution_count": 8,
   "id": "9e43dece",
   "metadata": {},
   "outputs": [
    {
     "data": {
      "text/html": [
       "<div>\n",
       "<style scoped>\n",
       "    .dataframe tbody tr th:only-of-type {\n",
       "        vertical-align: middle;\n",
       "    }\n",
       "\n",
       "    .dataframe tbody tr th {\n",
       "        vertical-align: top;\n",
       "    }\n",
       "\n",
       "    .dataframe thead th {\n",
       "        text-align: right;\n",
       "    }\n",
       "</style>\n",
       "<table border=\"1\" class=\"dataframe\">\n",
       "  <thead>\n",
       "    <tr style=\"text-align: right;\">\n",
       "      <th></th>\n",
       "      <th>Id</th>\n",
       "      <th>rating</th>\n",
       "    </tr>\n",
       "  </thead>\n",
       "  <tbody>\n",
       "    <tr>\n",
       "      <th>0</th>\n",
       "      <td>65746_34319</td>\n",
       "      <td>2.923165</td>\n",
       "    </tr>\n",
       "    <tr>\n",
       "      <th>1</th>\n",
       "      <td>65746_44191</td>\n",
       "      <td>2.340489</td>\n",
       "    </tr>\n",
       "    <tr>\n",
       "      <th>2</th>\n",
       "      <td>65746_57640</td>\n",
       "      <td>2.889391</td>\n",
       "    </tr>\n",
       "    <tr>\n",
       "      <th>3</th>\n",
       "      <td>65746_33004</td>\n",
       "      <td>2.618487</td>\n",
       "    </tr>\n",
       "    <tr>\n",
       "      <th>4</th>\n",
       "      <td>65746_66934</td>\n",
       "      <td>2.600922</td>\n",
       "    </tr>\n",
       "  </tbody>\n",
       "</table>\n",
       "</div>"
      ],
      "text/plain": [
       "            Id    rating\n",
       "0  65746_34319  2.923165\n",
       "1  65746_44191  2.340489\n",
       "2  65746_57640  2.889391\n",
       "3  65746_33004  2.618487\n",
       "4  65746_66934  2.600922"
      ]
     },
     "execution_count": 8,
     "metadata": {},
     "output_type": "execute_result"
    }
   ],
   "source": [
    "# View the first prediction dataframe\n",
    "predictions[0].head()"
   ]
  },
  {
   "cell_type": "code",
   "execution_count": 9,
   "id": "212b8a6b",
   "metadata": {},
   "outputs": [
    {
     "name": "stdout",
     "output_type": "stream",
     "text": [
      "Prediction shape is:  (2222268, 2)\n"
     ]
    },
    {
     "data": {
      "text/html": [
       "<div>\n",
       "<style scoped>\n",
       "    .dataframe tbody tr th:only-of-type {\n",
       "        vertical-align: middle;\n",
       "    }\n",
       "\n",
       "    .dataframe tbody tr th {\n",
       "        vertical-align: top;\n",
       "    }\n",
       "\n",
       "    .dataframe thead th {\n",
       "        text-align: right;\n",
       "    }\n",
       "</style>\n",
       "<table border=\"1\" class=\"dataframe\">\n",
       "  <thead>\n",
       "    <tr style=\"text-align: right;\">\n",
       "      <th></th>\n",
       "      <th>Id</th>\n",
       "      <th>rating</th>\n",
       "    </tr>\n",
       "  </thead>\n",
       "  <tbody>\n",
       "    <tr>\n",
       "      <th>0</th>\n",
       "      <td>65746_34319</td>\n",
       "      <td>2.923165</td>\n",
       "    </tr>\n",
       "    <tr>\n",
       "      <th>1</th>\n",
       "      <td>65746_44191</td>\n",
       "      <td>2.340489</td>\n",
       "    </tr>\n",
       "    <tr>\n",
       "      <th>2</th>\n",
       "      <td>65746_57640</td>\n",
       "      <td>2.889391</td>\n",
       "    </tr>\n",
       "    <tr>\n",
       "      <th>3</th>\n",
       "      <td>65746_33004</td>\n",
       "      <td>2.618487</td>\n",
       "    </tr>\n",
       "    <tr>\n",
       "      <th>4</th>\n",
       "      <td>65746_66934</td>\n",
       "      <td>2.600922</td>\n",
       "    </tr>\n",
       "  </tbody>\n",
       "</table>\n",
       "</div>"
      ],
      "text/plain": [
       "            Id    rating\n",
       "0  65746_34319  2.923165\n",
       "1  65746_44191  2.340489\n",
       "2  65746_57640  2.889391\n",
       "3  65746_33004  2.618487\n",
       "4  65746_66934  2.600922"
      ]
     },
     "execution_count": 9,
     "metadata": {},
     "output_type": "execute_result"
    }
   ],
   "source": [
    "# Merge the prediction files\n",
    "combined_predic_table = pd.concat(predictions, ignore_index=True)\n",
    "\n",
    "print('Prediction shape is: ', combined_predic_table.shape)\n",
    "combined_predic_table.head()"
   ]
  },
  {
   "cell_type": "markdown",
   "id": "9a310f6e",
   "metadata": {},
   "source": [
    "#### Old Prediction File"
   ]
  },
  {
   "cell_type": "code",
   "execution_count": 10,
   "id": "ccd36d0e",
   "metadata": {},
   "outputs": [
    {
     "name": "stdout",
     "output_type": "stream",
     "text": [
      "old_prediction shape is:  (5000019, 2)\n"
     ]
    },
    {
     "data": {
      "text/html": [
       "<div>\n",
       "<style scoped>\n",
       "    .dataframe tbody tr th:only-of-type {\n",
       "        vertical-align: middle;\n",
       "    }\n",
       "\n",
       "    .dataframe tbody tr th {\n",
       "        vertical-align: top;\n",
       "    }\n",
       "\n",
       "    .dataframe thead th {\n",
       "        text-align: right;\n",
       "    }\n",
       "</style>\n",
       "<table border=\"1\" class=\"dataframe\">\n",
       "  <thead>\n",
       "    <tr style=\"text-align: right;\">\n",
       "      <th></th>\n",
       "      <th>Id</th>\n",
       "      <th>rating</th>\n",
       "    </tr>\n",
       "  </thead>\n",
       "  <tbody>\n",
       "    <tr>\n",
       "      <th>0</th>\n",
       "      <td>1_2011</td>\n",
       "      <td>4.0</td>\n",
       "    </tr>\n",
       "    <tr>\n",
       "      <th>1</th>\n",
       "      <td>1_4144</td>\n",
       "      <td>4.0</td>\n",
       "    </tr>\n",
       "    <tr>\n",
       "      <th>2</th>\n",
       "      <td>1_5767</td>\n",
       "      <td>4.0</td>\n",
       "    </tr>\n",
       "    <tr>\n",
       "      <th>3</th>\n",
       "      <td>1_6711</td>\n",
       "      <td>4.0</td>\n",
       "    </tr>\n",
       "    <tr>\n",
       "      <th>4</th>\n",
       "      <td>1_7318</td>\n",
       "      <td>3.0</td>\n",
       "    </tr>\n",
       "  </tbody>\n",
       "</table>\n",
       "</div>"
      ],
      "text/plain": [
       "       Id  rating\n",
       "0  1_2011     4.0\n",
       "1  1_4144     4.0\n",
       "2  1_5767     4.0\n",
       "3  1_6711     4.0\n",
       "4  1_7318     3.0"
      ]
     },
     "execution_count": 10,
     "metadata": {},
     "output_type": "execute_result"
    }
   ],
   "source": [
    "# Load old prediciton file\n",
    "old_prediction = pd.read_csv('file_001.csv')\n",
    "print('old_prediction shape is: ', old_prediction.shape)\n",
    "old_prediction.head()"
   ]
  },
  {
   "cell_type": "markdown",
   "id": "5ad3c514",
   "metadata": {},
   "source": [
    "#### Delete old prediction in new prediction file"
   ]
  },
  {
   "cell_type": "code",
   "execution_count": 11,
   "id": "63162348",
   "metadata": {},
   "outputs": [
    {
     "name": "stdout",
     "output_type": "stream",
     "text": [
      "old_prediction shape is:  (2777751, 2)\n"
     ]
    },
    {
     "data": {
      "text/html": [
       "<div>\n",
       "<style scoped>\n",
       "    .dataframe tbody tr th:only-of-type {\n",
       "        vertical-align: middle;\n",
       "    }\n",
       "\n",
       "    .dataframe tbody tr th {\n",
       "        vertical-align: top;\n",
       "    }\n",
       "\n",
       "    .dataframe thead th {\n",
       "        text-align: right;\n",
       "    }\n",
       "</style>\n",
       "<table border=\"1\" class=\"dataframe\">\n",
       "  <thead>\n",
       "    <tr style=\"text-align: right;\">\n",
       "      <th></th>\n",
       "      <th>Id</th>\n",
       "      <th>rating</th>\n",
       "    </tr>\n",
       "  </thead>\n",
       "  <tbody>\n",
       "    <tr>\n",
       "      <th>2222268</th>\n",
       "      <td>72315_6</td>\n",
       "      <td>3.0</td>\n",
       "    </tr>\n",
       "    <tr>\n",
       "      <th>2222269</th>\n",
       "      <td>72315_7</td>\n",
       "      <td>3.0</td>\n",
       "    </tr>\n",
       "    <tr>\n",
       "      <th>2222270</th>\n",
       "      <td>72315_14</td>\n",
       "      <td>3.0</td>\n",
       "    </tr>\n",
       "    <tr>\n",
       "      <th>2222271</th>\n",
       "      <td>72315_19</td>\n",
       "      <td>3.0</td>\n",
       "    </tr>\n",
       "    <tr>\n",
       "      <th>2222272</th>\n",
       "      <td>72315_29</td>\n",
       "      <td>3.0</td>\n",
       "    </tr>\n",
       "  </tbody>\n",
       "</table>\n",
       "</div>"
      ],
      "text/plain": [
       "               Id  rating\n",
       "2222268   72315_6     3.0\n",
       "2222269   72315_7     3.0\n",
       "2222270  72315_14     3.0\n",
       "2222271  72315_19     3.0\n",
       "2222272  72315_29     3.0"
      ]
     },
     "execution_count": 11,
     "metadata": {},
     "output_type": "execute_result"
    }
   ],
   "source": [
    "# Collect new prediction Ids\n",
    "new_ids = combined_predic_table['Id'].tolist()\n",
    "\n",
    "# Drop rows with ids in new ids\n",
    "old_prediction.drop(old_prediction.index[old_prediction['Id'].isin(new_ids)], inplace=True)\n",
    "print('old_prediction shape is: ', old_prediction.shape)\n",
    "old_prediction.head()"
   ]
  },
  {
   "cell_type": "code",
   "execution_count": 45,
   "id": "18537616",
   "metadata": {},
   "outputs": [
    {
     "name": "stdout",
     "output_type": "stream",
     "text": [
      "The shape of the complete table is:  (5000019, 2)\n"
     ]
    },
    {
     "data": {
      "text/html": [
       "<div>\n",
       "<style scoped>\n",
       "    .dataframe tbody tr th:only-of-type {\n",
       "        vertical-align: middle;\n",
       "    }\n",
       "\n",
       "    .dataframe tbody tr th {\n",
       "        vertical-align: top;\n",
       "    }\n",
       "\n",
       "    .dataframe thead th {\n",
       "        text-align: right;\n",
       "    }\n",
       "</style>\n",
       "<table border=\"1\" class=\"dataframe\">\n",
       "  <thead>\n",
       "    <tr style=\"text-align: right;\">\n",
       "      <th></th>\n",
       "      <th>Id</th>\n",
       "      <th>rating</th>\n",
       "    </tr>\n",
       "  </thead>\n",
       "  <tbody>\n",
       "    <tr>\n",
       "      <th>0</th>\n",
       "      <td>65746_34319</td>\n",
       "      <td>2.92</td>\n",
       "    </tr>\n",
       "    <tr>\n",
       "      <th>1</th>\n",
       "      <td>65746_44191</td>\n",
       "      <td>2.34</td>\n",
       "    </tr>\n",
       "    <tr>\n",
       "      <th>2</th>\n",
       "      <td>65746_57640</td>\n",
       "      <td>2.89</td>\n",
       "    </tr>\n",
       "    <tr>\n",
       "      <th>3</th>\n",
       "      <td>65746_33004</td>\n",
       "      <td>2.62</td>\n",
       "    </tr>\n",
       "    <tr>\n",
       "      <th>4</th>\n",
       "      <td>65746_66934</td>\n",
       "      <td>2.60</td>\n",
       "    </tr>\n",
       "  </tbody>\n",
       "</table>\n",
       "</div>"
      ],
      "text/plain": [
       "            Id  rating\n",
       "0  65746_34319    2.92\n",
       "1  65746_44191    2.34\n",
       "2  65746_57640    2.89\n",
       "3  65746_33004    2.62\n",
       "4  65746_66934    2.60"
      ]
     },
     "execution_count": 45,
     "metadata": {},
     "output_type": "execute_result"
    }
   ],
   "source": [
    "# Combine old and new prediction files\n",
    "complete_table = pd.concat([combined_predic_table,old_prediction], ignore_index=True)\n",
    "print('The shape of the complete table is: ', complete_table.shape)\n",
    "complete_table['rating'] = complete_table['rating'].round(2)\n",
    "complete_table.head()"
   ]
  },
  {
   "cell_type": "code",
   "execution_count": 46,
   "id": "bf7a5393",
   "metadata": {},
   "outputs": [],
   "source": [
    "complete_table = complete_table.fillna(3.5)"
   ]
  },
  {
   "cell_type": "code",
   "execution_count": 47,
   "id": "3cbb554e",
   "metadata": {},
   "outputs": [
    {
     "data": {
      "text/plain": [
       "Id        0\n",
       "rating    0\n",
       "dtype: int64"
      ]
     },
     "execution_count": 47,
     "metadata": {},
     "output_type": "execute_result"
    }
   ],
   "source": [
    "complete_table.isna().sum()"
   ]
  },
  {
   "cell_type": "code",
   "execution_count": 48,
   "id": "ce0865cc",
   "metadata": {},
   "outputs": [
    {
     "data": {
      "text/plain": [
       "Id        61246_922\n",
       "rating         3.99\n",
       "Name: 1262, dtype: object"
      ]
     },
     "execution_count": 48,
     "metadata": {},
     "output_type": "execute_result"
    }
   ],
   "source": [
    "complete_table.iloc[1262]"
   ]
  },
  {
   "cell_type": "code",
   "execution_count": 49,
   "id": "c82482da",
   "metadata": {},
   "outputs": [
    {
     "data": {
      "text/plain": [
       "Id        5705_175661\n",
       "rating            3.5\n",
       "Name: 1993, dtype: object"
      ]
     },
     "execution_count": 49,
     "metadata": {},
     "output_type": "execute_result"
    }
   ],
   "source": [
    "complete_table.iloc[1993]"
   ]
  },
  {
   "cell_type": "code",
   "execution_count": 50,
   "id": "7087ba42",
   "metadata": {},
   "outputs": [],
   "source": [
    "\n",
    "complete_table.to_csv('file_004.csv', index=False)"
   ]
  },
  {
   "cell_type": "markdown",
   "id": "62791fa2",
   "metadata": {},
   "source": [
    "### 4.2 Collaborative filtering"
   ]
  },
  {
   "cell_type": "code",
   "execution_count": null,
   "id": "7beca5f3",
   "metadata": {},
   "outputs": [],
   "source": []
  },
  {
   "cell_type": "markdown",
   "id": "da5beef9",
   "metadata": {},
   "source": [
    "### 4.3 Rating Prediction\n",
    "\n",
    "As motivated previously, in some cases we may wish to directly calculate what rating a user _would_ give a book that they haven't read yet. \n",
    "\n",
    "We can modify our content-based filtering algorithm to do this in the following manner: \n",
    "\n",
    "   1. Select a reference user from the database and a reference item (movie) they have _not_ rated. \n",
    "   2. For the user, gather the similarity values between the reference item and each item the user _has_ rated. \n",
    "   3. Sort the gathered similarity values in descending order. \n",
    "   4. Select the $k$ highest similarity values which are above a given threshold value, creating a collection $K$. \n",
    "   5. Compute a weighted average rating from these values, which is the sum of the similarity values of each item multiplied by its assigned user-rating, divided by the sum of the similarity values. This can be expressed in formula as:\n",
    "   \n",
    "   $$ \\hat{R}_{ju} = \\frac{\\sum_{i \\in K} s_{ij} \\times r_{iu}}{\\sum_{i \\in K} s_{ij}}   $$\n",
    "   \n",
    "   where $\\hat{R}_{ju}$ is the weighted average computed for the reference item $j$ and reference user $u$, $K$ is the collection of items, $s_{ij}$ is the similarity computed between items $i$ and $j$, and $r_{iu}$ is the known rating user $u$ has given item $i$.\n",
    "   6. We return the weighted average $\\hat{R}_{ju}$ as the prediction for our reference item.\n",
    "   \n",
    "   \n",
    "We implement this algorithmic process in the function below:"
   ]
  },
  {
   "cell_type": "code",
   "execution_count": null,
   "id": "02375f53",
   "metadata": {},
   "outputs": [],
   "source": []
  },
  {
   "cell_type": "markdown",
   "id": "6b530251",
   "metadata": {
    "id": "6b530251"
   },
   "source": [
    "<a id=\"six\"></a>\n",
    "## 6. Model Performance\n",
    "<a class=\"anchor\" id=\"1.1\"></a>\n",
    "<a href=#cont>Back to Table of Contents</a>\n",
    "\n",
    "---\n",
    "    \n",
    "| ⚡ Description: Model performance ⚡ |\n",
    "| :--------------------------- |\n",
    "| In this section you are required to compare the relative performance of the various trained ML models on a holdout dataset and comment on what model is the best and why. |\n",
    "\n",
    "---"
   ]
  },
  {
   "cell_type": "code",
   "execution_count": null,
   "id": "6a69b5a1",
   "metadata": {
    "id": "6a69b5a1"
   },
   "outputs": [],
   "source": [
    "# Compare model performance"
   ]
  },
  {
   "cell_type": "code",
   "execution_count": null,
   "id": "3874a7c6",
   "metadata": {
    "id": "3874a7c6"
   },
   "outputs": [],
   "source": [
    "# Choose best model and motivate why it is the best choice"
   ]
  },
  {
   "cell_type": "markdown",
   "id": "a8ad0c0d",
   "metadata": {
    "id": "a8ad0c0d"
   },
   "source": [
    "<a id=\"seven\"></a>\n",
    "## 7. Model Explanations\n",
    "<a class=\"anchor\" id=\"1.1\"></a>\n",
    "<a href=#cont>Back to Table of Contents</a>\n",
    "\n",
    "---\n",
    "    \n",
    "| ⚡ Description: Model explanation ⚡ |\n",
    "| :--------------------------- |\n",
    "| In this section, you are required to discuss how the best performing model works in a simple way so that both technical and non-technical stakeholders can grasp the intuition behind the model's inner workings. |\n",
    "\n",
    "---"
   ]
  },
  {
   "cell_type": "code",
   "execution_count": null,
   "id": "5c39ad6e",
   "metadata": {
    "id": "5c39ad6e"
   },
   "outputs": [],
   "source": []
  },
  {
   "cell_type": "code",
   "execution_count": null,
   "id": "5ff741c2",
   "metadata": {
    "id": "5ff741c2"
   },
   "outputs": [],
   "source": [
    "# discuss chosen methods logic"
   ]
  },
  {
   "cell_type": "markdown",
   "id": "1c3d6e8d",
   "metadata": {},
   "source": [
    "Run the next cell to make sure the experiment as ended. It notifies comit."
   ]
  },
  {
   "cell_type": "code",
   "execution_count": null,
   "id": "eb735b1d",
   "metadata": {},
   "outputs": [],
   "source": [
    "experiment.end()"
   ]
  }
 ],
 "metadata": {
  "colab": {
   "include_colab_link": true,
   "name": "2110ACDS_T7-starter-notebook.ipynb",
   "provenance": []
  },
  "kernelspec": {
   "display_name": "Python 3 (ipykernel)",
   "language": "python",
   "name": "python3"
  },
  "language_info": {
   "codemirror_mode": {
    "name": "ipython",
    "version": 3
   },
   "file_extension": ".py",
   "mimetype": "text/x-python",
   "name": "python",
   "nbconvert_exporter": "python",
   "pygments_lexer": "ipython3",
   "version": "3.8.12"
  },
  "latex_envs": {
   "LaTeX_envs_menu_present": true,
   "autoclose": false,
   "autocomplete": true,
   "bibliofile": "biblio.bib",
   "cite_by": "apalike",
   "current_citInitial": 1,
   "eqLabelWithNumbers": true,
   "eqNumInitial": 1,
   "hotkeys": {
    "equation": "Ctrl-E",
    "itemize": "Ctrl-I"
   },
   "labels_anchors": false,
   "latex_user_defs": false,
   "report_style_numbering": false,
   "user_envs_cfg": false
  },
  "toc": {
   "base_numbering": 1,
   "nav_menu": {},
   "number_sections": true,
   "sideBar": true,
   "skip_h1_title": false,
   "title_cell": "Table of Contents",
   "title_sidebar": "Contents",
   "toc_cell": false,
   "toc_position": {},
   "toc_section_display": true,
   "toc_window_display": false
  },
  "varInspector": {
   "cols": {
    "lenName": 16,
    "lenType": 16,
    "lenVar": 40
   },
   "kernels_config": {
    "python": {
     "delete_cmd_postfix": "",
     "delete_cmd_prefix": "del ",
     "library": "var_list.py",
     "varRefreshCmd": "print(var_dic_list())"
    },
    "r": {
     "delete_cmd_postfix": ") ",
     "delete_cmd_prefix": "rm(",
     "library": "var_list.r",
     "varRefreshCmd": "cat(var_dic_list()) "
    }
   },
   "types_to_exclude": [
    "module",
    "function",
    "builtin_function_or_method",
    "instance",
    "_Feature"
   ],
   "window_display": false
  }
 },
 "nbformat": 4,
 "nbformat_minor": 5
}
