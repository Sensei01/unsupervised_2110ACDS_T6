{
 "cells": [
  {
   "cell_type": "markdown",
   "id": "06b34c5c",
   "metadata": {
    "colab_type": "text",
    "id": "view-in-github"
   },
   "source": [
    "<a href=\"https://colab.research.google.com/github/endiesworld/2110ACDS_T7_C_Predict/blob/main/2110ACDS_T7_starter_notebook.ipynb\" target=\"_parent\"><img src=\"https://colab.research.google.com/assets/colab-badge.svg\" alt=\"Open In Colab\"/></a>"
   ]
  },
  {
   "cell_type": "markdown",
   "id": "6c7e849a",
   "metadata": {
    "ExecuteTime": {
     "end_time": "2021-06-11T09:24:53.643384Z",
     "start_time": "2021-06-11T09:24:53.622385Z"
    },
    "id": "6c7e849a"
   },
   "source": [
    "# EDSA Movie Recommendation 2022\n",
    "\n",
    "© Explore Data Science Academy\n",
    "\n",
    "---\n",
    "### Honour Code\n",
    "\n",
    "**2110ACDS_T6**, confirm - by submitting this document - that the solutions in this notebook are a result of my own work and that I abide by the [EDSA honour code](https://drive.google.com/file/d/1QDCjGZJ8-FmJE3bZdIQNwnJyQKPhHZBn/view?usp=sharing).\n",
    "\n",
    "Non-compliance with the honour code constitutes a material breach of contract.\n",
    "\n",
    "\n",
    "  "
   ]
  },
  {
   "cell_type": "markdown",
   "id": "BgJDS_T07vuC",
   "metadata": {
    "id": "BgJDS_T07vuC"
   },
   "source": [
    "<h2><center> EDSA Movie Recommendation 2022</h2></center>\n",
    "<figure>\n",
    "<center><img src =\"./assets/movies.png\" width = \"800\" height = '500'/>\n",
    "\n",
    "*Introduction*\n",
    "<p align = \"justify\">Recommender System is a system that seeks to predict or filter preferences according to the user’s choices. Recommender systems are utilized in a variety of areas, and in this project we will use a recommender system to recommend movies for movie lovers.\n",
    "\n",
    "\n",
    "*About the problem*\n",
    "<p align = \"justify\">PUT PROBLEM STATEMENT HERE.\n",
    "\n",
    "*Objective*\n",
    "<p align = \"justify\"> We aim to provide an accurate and robust solution to this problem, by providing personalised recommendations to users of this product, and generating platform affinity for the streaming services which best facilitates their audience's viewing\n",
    "\n",
    "*Process*\n",
    "<p align = \"justify\"> In order to achieve this objective the team will follow the process below:-\n",
    "\n",
    "1. analyse the supplied data, identify potential errors in the data and clean the existing data set;\n",
    "\n",
    "2. determine if additional features can be added to enrich the data set;\n",
    "\n",
    "3. build a model that is capable of predicting how a user will rate a movie;\n",
    "\n",
    "4. evaluate the accuracy of the best machine learning model;\n",
    "\n",
    "5. accurately predicting how a user will rate a movie they have not yet viewed, based on their historical preferences, and\n",
    "\n",
    "6. explain the inner working of the model to a non-technical audience."
   ]
  },
  {
   "cell_type": "markdown",
   "id": "05600c92",
   "metadata": {
    "id": "05600c92"
   },
   "source": [
    "<a id=\"cont\"></a>\n",
    "\n",
    "## Table of Contents\n",
    "\n",
    "<a href=#one>1. Importing Packages</a>\n",
    "\n",
    "<a href=#two>2. Loading Data</a>\n",
    "\n",
    "<a href=#three>3. Exploratory Data Analysis (EDA)</a>\n",
    "\n",
    "<a href=#four>4. Data Engineering</a>\n",
    "\n",
    "<a href=#five>5. Modeling</a>\n",
    "\n",
    "<a href=#six>6. Model Performance</a>\n",
    "\n",
    "<a href=#seven>7. Model Explanations</a>"
   ]
  },
  {
   "cell_type": "markdown",
   "id": "997462e2",
   "metadata": {
    "id": "997462e2"
   },
   "source": [
    " <a id=\"one\"></a>\n",
    "## 1. Importing Packages\n",
    "<a href=#cont>Back to Table of Contents</a>\n",
    "\n",
    "---\n",
    "    \n",
    "| ⚡ Description: Importing Packages ⚡ |\n",
    "| :--------------------------- |\n",
    "| In this section you are required to import, and briefly discuss, the libraries that will be used throughout your analysis and modelling. |\n",
    "\n",
    "---"
   ]
  },
  {
   "cell_type": "code",
   "execution_count": 1,
   "id": "14e96617",
   "metadata": {},
   "outputs": [],
   "source": [
    "\n",
    "# Import comet_ml at the top of your file\n",
    "# from comet_ml import Experiment\n",
    "\n",
    "# # Create an experiment with your api key\n",
    "# experiment = Experiment(\n",
    "#     api_key=\"emBEBYBp72gW5tfeZBSGftD0Y\",\n",
    "#     project_name=\"movie-recommendation\",\n",
    "#     workspace=\"emmanuelokoro\",\n",
    "#     log_code = True\n",
    "# )"
   ]
  },
  {
   "cell_type": "code",
   "execution_count": 2,
   "id": "475dbe93",
   "metadata": {
    "ExecuteTime": {
     "end_time": "2021-06-23T10:30:53.800892Z",
     "start_time": "2021-06-23T10:30:50.215449Z"
    },
    "id": "475dbe93"
   },
   "outputs": [],
   "source": [
    "# Libraries for importing and loading data\n",
    "import numpy as np\n",
    "import pandas as pd\n",
    "import scipy as sp # <-- The sister of Numpy, used in our code for numerical efficientcy. \n",
    "import matplotlib.pyplot as plt\n",
    "import seaborn as sns\n",
    "import os\n",
    "os.environ['KMP_DUPLICATE_LIB_OK']='True'\n",
    "\n",
    "# Entity featurization and similarity computation\n",
    "from sklearn.metrics.pairwise import cosine_similarity \n",
    "from sklearn.feature_extraction.text import TfidfVectorizer\n",
    "\n",
    "# Libraries used during sorting procedures.\n",
    "import operator # <-- Convienient item retrieval during iteration \n",
    "import heapq # <-- Efficient sorting of large lists\n",
    "\n",
    "\n",
    "# Setting global constants to ensure notebook results are reproducible\n",
    "\n",
    "RANDOM_STATE = 42\n",
    "\n",
    "\n",
    "import warnings\n",
    "warnings.filterwarnings('ignore')"
   ]
  },
  {
   "cell_type": "markdown",
   "id": "f22a6718",
   "metadata": {
    "id": "f22a6718"
   },
   "source": [
    "<a id=\"two\"></a>\n",
    "## 2. Loading the Data\n",
    "<a class=\"anchor\" id=\"1.1\"></a>\n",
    "<a href=#cont>Back to Table of Contents</a>\n",
    "\n",
    "---\n",
    "    \n",
    "| ⚡ Description: Loading the data ⚡ |\n",
    "| :--------------------------- |\n",
    "| In this section you are required to load the data from the `df_train` file into a DataFrame. |\n",
    "\n",
    "---"
   ]
  },
  {
   "cell_type": "markdown",
   "id": "siWxqSkjCc6d",
   "metadata": {
    "id": "siWxqSkjCc6d"
   },
   "source": [
    "### 2.1 Brief description of the data\n",
    "\n"
   ]
  },
  {
   "cell_type": "code",
   "execution_count": 3,
   "id": "fbbb6c18",
   "metadata": {
    "ExecuteTime": {
     "end_time": "2021-06-28T08:49:35.311495Z",
     "start_time": "2021-06-28T08:49:35.295494Z"
    },
    "colab": {
     "base_uri": "https://localhost:8080/",
     "height": 206
    },
    "id": "fbbb6c18",
    "outputId": "4e1a8735-9ea3-45bd-ce9a-31d0135f5dfc"
   },
   "outputs": [],
   "source": [
    "# load the data\n",
    "train = pd.read_csv('./data/train.csv')\n",
    "test = pd.read_csv('./data/test.csv')\n",
    "genome_scores = pd.read_csv('./data/genome_scores.csv')\n",
    "genome_tags = pd.read_csv('./data/tags.csv')\n",
    "imdb_data = pd.read_csv('./data/imdb_data.csv')\n",
    "links = pd.read_csv('./data/links.csv')\n",
    "movies = pd.read_csv('./data/movies.csv')\n",
    "# tags = pd.read_csv('./data/tags.csv')"
   ]
  },
  {
   "cell_type": "code",
   "execution_count": 4,
   "id": "IJ4DkY-NDivs",
   "metadata": {
    "colab": {
     "base_uri": "https://localhost:8080/",
     "height": 206
    },
    "id": "IJ4DkY-NDivs",
    "outputId": "f6a66550-ba46-47d7-dd03-c49cdf4af1f5"
   },
   "outputs": [
    {
     "name": "stdout",
     "output_type": "stream",
     "text": [
      "The Shape of the data is:  (10000038, 4)\n"
     ]
    },
    {
     "data": {
      "text/html": [
       "<div>\n",
       "<style scoped>\n",
       "    .dataframe tbody tr th:only-of-type {\n",
       "        vertical-align: middle;\n",
       "    }\n",
       "\n",
       "    .dataframe tbody tr th {\n",
       "        vertical-align: top;\n",
       "    }\n",
       "\n",
       "    .dataframe thead th {\n",
       "        text-align: right;\n",
       "    }\n",
       "</style>\n",
       "<table border=\"1\" class=\"dataframe\">\n",
       "  <thead>\n",
       "    <tr style=\"text-align: right;\">\n",
       "      <th></th>\n",
       "      <th>userId</th>\n",
       "      <th>movieId</th>\n",
       "      <th>rating</th>\n",
       "      <th>timestamp</th>\n",
       "    </tr>\n",
       "  </thead>\n",
       "  <tbody>\n",
       "    <tr>\n",
       "      <th>0</th>\n",
       "      <td>5163</td>\n",
       "      <td>57669</td>\n",
       "      <td>4.0</td>\n",
       "      <td>1518349992</td>\n",
       "    </tr>\n",
       "    <tr>\n",
       "      <th>1</th>\n",
       "      <td>106343</td>\n",
       "      <td>5</td>\n",
       "      <td>4.5</td>\n",
       "      <td>1206238739</td>\n",
       "    </tr>\n",
       "    <tr>\n",
       "      <th>2</th>\n",
       "      <td>146790</td>\n",
       "      <td>5459</td>\n",
       "      <td>5.0</td>\n",
       "      <td>1076215539</td>\n",
       "    </tr>\n",
       "    <tr>\n",
       "      <th>3</th>\n",
       "      <td>106362</td>\n",
       "      <td>32296</td>\n",
       "      <td>2.0</td>\n",
       "      <td>1423042565</td>\n",
       "    </tr>\n",
       "    <tr>\n",
       "      <th>4</th>\n",
       "      <td>9041</td>\n",
       "      <td>366</td>\n",
       "      <td>3.0</td>\n",
       "      <td>833375837</td>\n",
       "    </tr>\n",
       "  </tbody>\n",
       "</table>\n",
       "</div>"
      ],
      "text/plain": [
       "   userId  movieId  rating   timestamp\n",
       "0    5163    57669     4.0  1518349992\n",
       "1  106343        5     4.5  1206238739\n",
       "2  146790     5459     5.0  1076215539\n",
       "3  106362    32296     2.0  1423042565\n",
       "4    9041      366     3.0   833375837"
      ]
     },
     "execution_count": 4,
     "metadata": {},
     "output_type": "execute_result"
    }
   ],
   "source": [
    "# Preview train dataset\n",
    "print('The Shape of the data is: ', train.shape)\n",
    "train.head()"
   ]
  },
  {
   "cell_type": "code",
   "execution_count": 5,
   "id": "72d22858",
   "metadata": {},
   "outputs": [
    {
     "data": {
      "text/plain": [
       "162541"
      ]
     },
     "execution_count": 5,
     "metadata": {},
     "output_type": "execute_result"
    }
   ],
   "source": [
    "train['userId'].nunique()"
   ]
  },
  {
   "cell_type": "code",
   "execution_count": 6,
   "id": "17aad2f9",
   "metadata": {},
   "outputs": [
    {
     "name": "stdout",
     "output_type": "stream",
     "text": [
      "The Shape of the data is:  (5000019, 2)\n"
     ]
    },
    {
     "data": {
      "text/html": [
       "<div>\n",
       "<style scoped>\n",
       "    .dataframe tbody tr th:only-of-type {\n",
       "        vertical-align: middle;\n",
       "    }\n",
       "\n",
       "    .dataframe tbody tr th {\n",
       "        vertical-align: top;\n",
       "    }\n",
       "\n",
       "    .dataframe thead th {\n",
       "        text-align: right;\n",
       "    }\n",
       "</style>\n",
       "<table border=\"1\" class=\"dataframe\">\n",
       "  <thead>\n",
       "    <tr style=\"text-align: right;\">\n",
       "      <th></th>\n",
       "      <th>userId</th>\n",
       "      <th>movieId</th>\n",
       "    </tr>\n",
       "  </thead>\n",
       "  <tbody>\n",
       "    <tr>\n",
       "      <th>0</th>\n",
       "      <td>1</td>\n",
       "      <td>2011</td>\n",
       "    </tr>\n",
       "    <tr>\n",
       "      <th>1</th>\n",
       "      <td>1</td>\n",
       "      <td>4144</td>\n",
       "    </tr>\n",
       "    <tr>\n",
       "      <th>2</th>\n",
       "      <td>1</td>\n",
       "      <td>5767</td>\n",
       "    </tr>\n",
       "    <tr>\n",
       "      <th>3</th>\n",
       "      <td>1</td>\n",
       "      <td>6711</td>\n",
       "    </tr>\n",
       "    <tr>\n",
       "      <th>4</th>\n",
       "      <td>1</td>\n",
       "      <td>7318</td>\n",
       "    </tr>\n",
       "  </tbody>\n",
       "</table>\n",
       "</div>"
      ],
      "text/plain": [
       "   userId  movieId\n",
       "0       1     2011\n",
       "1       1     4144\n",
       "2       1     5767\n",
       "3       1     6711\n",
       "4       1     7318"
      ]
     },
     "execution_count": 6,
     "metadata": {},
     "output_type": "execute_result"
    }
   ],
   "source": [
    "# Preview train dataset\n",
    "print('The Shape of the data is: ', test.shape)\n",
    "test.head()"
   ]
  },
  {
   "cell_type": "code",
   "execution_count": 7,
   "id": "c4786314",
   "metadata": {},
   "outputs": [
    {
     "data": {
      "text/plain": [
       "39643"
      ]
     },
     "execution_count": 7,
     "metadata": {},
     "output_type": "execute_result"
    }
   ],
   "source": [
    "test['movieId'].nunique()"
   ]
  },
  {
   "cell_type": "code",
   "execution_count": 8,
   "id": "378b3e60",
   "metadata": {},
   "outputs": [
    {
     "data": {
      "text/html": [
       "<div>\n",
       "<style scoped>\n",
       "    .dataframe tbody tr th:only-of-type {\n",
       "        vertical-align: middle;\n",
       "    }\n",
       "\n",
       "    .dataframe tbody tr th {\n",
       "        vertical-align: top;\n",
       "    }\n",
       "\n",
       "    .dataframe thead th {\n",
       "        text-align: right;\n",
       "    }\n",
       "</style>\n",
       "<table border=\"1\" class=\"dataframe\">\n",
       "  <thead>\n",
       "    <tr style=\"text-align: right;\">\n",
       "      <th></th>\n",
       "      <th>userId</th>\n",
       "      <th>movieId</th>\n",
       "    </tr>\n",
       "  </thead>\n",
       "  <tbody>\n",
       "    <tr>\n",
       "      <th>5000014</th>\n",
       "      <td>162541</td>\n",
       "      <td>4079</td>\n",
       "    </tr>\n",
       "    <tr>\n",
       "      <th>5000015</th>\n",
       "      <td>162541</td>\n",
       "      <td>4467</td>\n",
       "    </tr>\n",
       "    <tr>\n",
       "      <th>5000016</th>\n",
       "      <td>162541</td>\n",
       "      <td>4980</td>\n",
       "    </tr>\n",
       "    <tr>\n",
       "      <th>5000017</th>\n",
       "      <td>162541</td>\n",
       "      <td>5689</td>\n",
       "    </tr>\n",
       "    <tr>\n",
       "      <th>5000018</th>\n",
       "      <td>162541</td>\n",
       "      <td>7153</td>\n",
       "    </tr>\n",
       "  </tbody>\n",
       "</table>\n",
       "</div>"
      ],
      "text/plain": [
       "         userId  movieId\n",
       "5000014  162541     4079\n",
       "5000015  162541     4467\n",
       "5000016  162541     4980\n",
       "5000017  162541     5689\n",
       "5000018  162541     7153"
      ]
     },
     "execution_count": 8,
     "metadata": {},
     "output_type": "execute_result"
    }
   ],
   "source": [
    "test.tail()"
   ]
  },
  {
   "cell_type": "code",
   "execution_count": 9,
   "id": "10b1e0e1",
   "metadata": {},
   "outputs": [
    {
     "name": "stdout",
     "output_type": "stream",
     "text": [
      "The Shape of the data is:  (15584448, 3)\n"
     ]
    },
    {
     "data": {
      "text/html": [
       "<div>\n",
       "<style scoped>\n",
       "    .dataframe tbody tr th:only-of-type {\n",
       "        vertical-align: middle;\n",
       "    }\n",
       "\n",
       "    .dataframe tbody tr th {\n",
       "        vertical-align: top;\n",
       "    }\n",
       "\n",
       "    .dataframe thead th {\n",
       "        text-align: right;\n",
       "    }\n",
       "</style>\n",
       "<table border=\"1\" class=\"dataframe\">\n",
       "  <thead>\n",
       "    <tr style=\"text-align: right;\">\n",
       "      <th></th>\n",
       "      <th>movieId</th>\n",
       "      <th>tagId</th>\n",
       "      <th>relevance</th>\n",
       "    </tr>\n",
       "  </thead>\n",
       "  <tbody>\n",
       "    <tr>\n",
       "      <th>0</th>\n",
       "      <td>1</td>\n",
       "      <td>1</td>\n",
       "      <td>0.02875</td>\n",
       "    </tr>\n",
       "    <tr>\n",
       "      <th>1</th>\n",
       "      <td>1</td>\n",
       "      <td>2</td>\n",
       "      <td>0.02375</td>\n",
       "    </tr>\n",
       "    <tr>\n",
       "      <th>2</th>\n",
       "      <td>1</td>\n",
       "      <td>3</td>\n",
       "      <td>0.06250</td>\n",
       "    </tr>\n",
       "    <tr>\n",
       "      <th>3</th>\n",
       "      <td>1</td>\n",
       "      <td>4</td>\n",
       "      <td>0.07575</td>\n",
       "    </tr>\n",
       "    <tr>\n",
       "      <th>4</th>\n",
       "      <td>1</td>\n",
       "      <td>5</td>\n",
       "      <td>0.14075</td>\n",
       "    </tr>\n",
       "  </tbody>\n",
       "</table>\n",
       "</div>"
      ],
      "text/plain": [
       "   movieId  tagId  relevance\n",
       "0        1      1    0.02875\n",
       "1        1      2    0.02375\n",
       "2        1      3    0.06250\n",
       "3        1      4    0.07575\n",
       "4        1      5    0.14075"
      ]
     },
     "execution_count": 9,
     "metadata": {},
     "output_type": "execute_result"
    }
   ],
   "source": [
    "# Preview genome_scores dataset\n",
    "print('The Shape of the data is: ', genome_scores.shape)\n",
    "genome_scores.head()"
   ]
  },
  {
   "cell_type": "code",
   "execution_count": 10,
   "id": "9c5385b6",
   "metadata": {},
   "outputs": [
    {
     "name": "stdout",
     "output_type": "stream",
     "text": [
      "The Shape of the data is:  (1093360, 4)\n"
     ]
    },
    {
     "data": {
      "text/html": [
       "<div>\n",
       "<style scoped>\n",
       "    .dataframe tbody tr th:only-of-type {\n",
       "        vertical-align: middle;\n",
       "    }\n",
       "\n",
       "    .dataframe tbody tr th {\n",
       "        vertical-align: top;\n",
       "    }\n",
       "\n",
       "    .dataframe thead th {\n",
       "        text-align: right;\n",
       "    }\n",
       "</style>\n",
       "<table border=\"1\" class=\"dataframe\">\n",
       "  <thead>\n",
       "    <tr style=\"text-align: right;\">\n",
       "      <th></th>\n",
       "      <th>userId</th>\n",
       "      <th>movieId</th>\n",
       "      <th>tag</th>\n",
       "      <th>timestamp</th>\n",
       "    </tr>\n",
       "  </thead>\n",
       "  <tbody>\n",
       "    <tr>\n",
       "      <th>0</th>\n",
       "      <td>3</td>\n",
       "      <td>260</td>\n",
       "      <td>classic</td>\n",
       "      <td>1439472355</td>\n",
       "    </tr>\n",
       "    <tr>\n",
       "      <th>1</th>\n",
       "      <td>3</td>\n",
       "      <td>260</td>\n",
       "      <td>sci-fi</td>\n",
       "      <td>1439472256</td>\n",
       "    </tr>\n",
       "    <tr>\n",
       "      <th>2</th>\n",
       "      <td>4</td>\n",
       "      <td>1732</td>\n",
       "      <td>dark comedy</td>\n",
       "      <td>1573943598</td>\n",
       "    </tr>\n",
       "    <tr>\n",
       "      <th>3</th>\n",
       "      <td>4</td>\n",
       "      <td>1732</td>\n",
       "      <td>great dialogue</td>\n",
       "      <td>1573943604</td>\n",
       "    </tr>\n",
       "    <tr>\n",
       "      <th>4</th>\n",
       "      <td>4</td>\n",
       "      <td>7569</td>\n",
       "      <td>so bad it's good</td>\n",
       "      <td>1573943455</td>\n",
       "    </tr>\n",
       "  </tbody>\n",
       "</table>\n",
       "</div>"
      ],
      "text/plain": [
       "   userId  movieId               tag   timestamp\n",
       "0       3      260           classic  1439472355\n",
       "1       3      260            sci-fi  1439472256\n",
       "2       4     1732       dark comedy  1573943598\n",
       "3       4     1732    great dialogue  1573943604\n",
       "4       4     7569  so bad it's good  1573943455"
      ]
     },
     "execution_count": 10,
     "metadata": {},
     "output_type": "execute_result"
    }
   ],
   "source": [
    "# Preview genome_scores dataset\n",
    "print('The Shape of the data is: ', genome_tags.shape)\n",
    "genome_tags.head()"
   ]
  },
  {
   "cell_type": "code",
   "execution_count": 11,
   "id": "c421f825",
   "metadata": {},
   "outputs": [
    {
     "name": "stdout",
     "output_type": "stream",
     "text": [
      "The Shape of the data is:  (27278, 6)\n"
     ]
    },
    {
     "data": {
      "text/html": [
       "<div>\n",
       "<style scoped>\n",
       "    .dataframe tbody tr th:only-of-type {\n",
       "        vertical-align: middle;\n",
       "    }\n",
       "\n",
       "    .dataframe tbody tr th {\n",
       "        vertical-align: top;\n",
       "    }\n",
       "\n",
       "    .dataframe thead th {\n",
       "        text-align: right;\n",
       "    }\n",
       "</style>\n",
       "<table border=\"1\" class=\"dataframe\">\n",
       "  <thead>\n",
       "    <tr style=\"text-align: right;\">\n",
       "      <th></th>\n",
       "      <th>movieId</th>\n",
       "      <th>title_cast</th>\n",
       "      <th>director</th>\n",
       "      <th>runtime</th>\n",
       "      <th>budget</th>\n",
       "      <th>plot_keywords</th>\n",
       "    </tr>\n",
       "  </thead>\n",
       "  <tbody>\n",
       "    <tr>\n",
       "      <th>0</th>\n",
       "      <td>1</td>\n",
       "      <td>Tom Hanks|Tim Allen|Don Rickles|Jim Varney|Wal...</td>\n",
       "      <td>John Lasseter</td>\n",
       "      <td>81.0</td>\n",
       "      <td>$30,000,000</td>\n",
       "      <td>toy|rivalry|cowboy|cgi animation</td>\n",
       "    </tr>\n",
       "    <tr>\n",
       "      <th>1</th>\n",
       "      <td>2</td>\n",
       "      <td>Robin Williams|Jonathan Hyde|Kirsten Dunst|Bra...</td>\n",
       "      <td>Jonathan Hensleigh</td>\n",
       "      <td>104.0</td>\n",
       "      <td>$65,000,000</td>\n",
       "      <td>board game|adventurer|fight|game</td>\n",
       "    </tr>\n",
       "    <tr>\n",
       "      <th>2</th>\n",
       "      <td>3</td>\n",
       "      <td>Walter Matthau|Jack Lemmon|Sophia Loren|Ann-Ma...</td>\n",
       "      <td>Mark Steven Johnson</td>\n",
       "      <td>101.0</td>\n",
       "      <td>$25,000,000</td>\n",
       "      <td>boat|lake|neighbor|rivalry</td>\n",
       "    </tr>\n",
       "    <tr>\n",
       "      <th>3</th>\n",
       "      <td>4</td>\n",
       "      <td>Whitney Houston|Angela Bassett|Loretta Devine|...</td>\n",
       "      <td>Terry McMillan</td>\n",
       "      <td>124.0</td>\n",
       "      <td>$16,000,000</td>\n",
       "      <td>black american|husband wife relationship|betra...</td>\n",
       "    </tr>\n",
       "    <tr>\n",
       "      <th>4</th>\n",
       "      <td>5</td>\n",
       "      <td>Steve Martin|Diane Keaton|Martin Short|Kimberl...</td>\n",
       "      <td>Albert Hackett</td>\n",
       "      <td>106.0</td>\n",
       "      <td>$30,000,000</td>\n",
       "      <td>fatherhood|doberman|dog|mansion</td>\n",
       "    </tr>\n",
       "  </tbody>\n",
       "</table>\n",
       "</div>"
      ],
      "text/plain": [
       "   movieId                                         title_cast  \\\n",
       "0        1  Tom Hanks|Tim Allen|Don Rickles|Jim Varney|Wal...   \n",
       "1        2  Robin Williams|Jonathan Hyde|Kirsten Dunst|Bra...   \n",
       "2        3  Walter Matthau|Jack Lemmon|Sophia Loren|Ann-Ma...   \n",
       "3        4  Whitney Houston|Angela Bassett|Loretta Devine|...   \n",
       "4        5  Steve Martin|Diane Keaton|Martin Short|Kimberl...   \n",
       "\n",
       "              director  runtime       budget  \\\n",
       "0        John Lasseter     81.0  $30,000,000   \n",
       "1   Jonathan Hensleigh    104.0  $65,000,000   \n",
       "2  Mark Steven Johnson    101.0  $25,000,000   \n",
       "3       Terry McMillan    124.0  $16,000,000   \n",
       "4       Albert Hackett    106.0  $30,000,000   \n",
       "\n",
       "                                       plot_keywords  \n",
       "0                   toy|rivalry|cowboy|cgi animation  \n",
       "1                   board game|adventurer|fight|game  \n",
       "2                         boat|lake|neighbor|rivalry  \n",
       "3  black american|husband wife relationship|betra...  \n",
       "4                    fatherhood|doberman|dog|mansion  "
      ]
     },
     "execution_count": 11,
     "metadata": {},
     "output_type": "execute_result"
    }
   ],
   "source": [
    "# Preview imdb_data dataset\n",
    "print('The Shape of the data is: ', imdb_data.shape)\n",
    "imdb_data.head()"
   ]
  },
  {
   "cell_type": "code",
   "execution_count": 12,
   "id": "ec4b7f00",
   "metadata": {},
   "outputs": [
    {
     "data": {
      "text/plain": [
       "movieId              0\n",
       "title_cast       10068\n",
       "director          9874\n",
       "runtime          12089\n",
       "budget           19372\n",
       "plot_keywords    11078\n",
       "dtype: int64"
      ]
     },
     "execution_count": 12,
     "metadata": {},
     "output_type": "execute_result"
    }
   ],
   "source": [
    "imdb_data.isna().sum()"
   ]
  },
  {
   "cell_type": "code",
   "execution_count": 13,
   "id": "1b4e345b",
   "metadata": {},
   "outputs": [
    {
     "data": {
      "text/plain": [
       "movieId          0\n",
       "title_cast       0\n",
       "director         0\n",
       "runtime          0\n",
       "budget           0\n",
       "plot_keywords    0\n",
       "dtype: int64"
      ]
     },
     "execution_count": 13,
     "metadata": {},
     "output_type": "execute_result"
    }
   ],
   "source": [
    "imdb_data = imdb_data.dropna()\n",
    "imdb_data.isna().sum()"
   ]
  },
  {
   "cell_type": "code",
   "execution_count": 14,
   "id": "d816be6c",
   "metadata": {},
   "outputs": [
    {
     "name": "stdout",
     "output_type": "stream",
     "text": [
      "The Shape of the data is:  (62423, 3)\n"
     ]
    },
    {
     "data": {
      "text/html": [
       "<div>\n",
       "<style scoped>\n",
       "    .dataframe tbody tr th:only-of-type {\n",
       "        vertical-align: middle;\n",
       "    }\n",
       "\n",
       "    .dataframe tbody tr th {\n",
       "        vertical-align: top;\n",
       "    }\n",
       "\n",
       "    .dataframe thead th {\n",
       "        text-align: right;\n",
       "    }\n",
       "</style>\n",
       "<table border=\"1\" class=\"dataframe\">\n",
       "  <thead>\n",
       "    <tr style=\"text-align: right;\">\n",
       "      <th></th>\n",
       "      <th>movieId</th>\n",
       "      <th>imdbId</th>\n",
       "      <th>tmdbId</th>\n",
       "    </tr>\n",
       "  </thead>\n",
       "  <tbody>\n",
       "    <tr>\n",
       "      <th>0</th>\n",
       "      <td>1</td>\n",
       "      <td>114709</td>\n",
       "      <td>862.0</td>\n",
       "    </tr>\n",
       "    <tr>\n",
       "      <th>1</th>\n",
       "      <td>2</td>\n",
       "      <td>113497</td>\n",
       "      <td>8844.0</td>\n",
       "    </tr>\n",
       "    <tr>\n",
       "      <th>2</th>\n",
       "      <td>3</td>\n",
       "      <td>113228</td>\n",
       "      <td>15602.0</td>\n",
       "    </tr>\n",
       "    <tr>\n",
       "      <th>3</th>\n",
       "      <td>4</td>\n",
       "      <td>114885</td>\n",
       "      <td>31357.0</td>\n",
       "    </tr>\n",
       "    <tr>\n",
       "      <th>4</th>\n",
       "      <td>5</td>\n",
       "      <td>113041</td>\n",
       "      <td>11862.0</td>\n",
       "    </tr>\n",
       "  </tbody>\n",
       "</table>\n",
       "</div>"
      ],
      "text/plain": [
       "   movieId  imdbId   tmdbId\n",
       "0        1  114709    862.0\n",
       "1        2  113497   8844.0\n",
       "2        3  113228  15602.0\n",
       "3        4  114885  31357.0\n",
       "4        5  113041  11862.0"
      ]
     },
     "execution_count": 14,
     "metadata": {},
     "output_type": "execute_result"
    }
   ],
   "source": [
    "# Preview links dataset\n",
    "print('The Shape of the data is: ', links.shape)\n",
    "links.head()"
   ]
  },
  {
   "cell_type": "code",
   "execution_count": 15,
   "id": "bf066e16",
   "metadata": {},
   "outputs": [
    {
     "name": "stdout",
     "output_type": "stream",
     "text": [
      "The Shape of the data is:  (62423, 3)\n"
     ]
    },
    {
     "data": {
      "text/html": [
       "<div>\n",
       "<style scoped>\n",
       "    .dataframe tbody tr th:only-of-type {\n",
       "        vertical-align: middle;\n",
       "    }\n",
       "\n",
       "    .dataframe tbody tr th {\n",
       "        vertical-align: top;\n",
       "    }\n",
       "\n",
       "    .dataframe thead th {\n",
       "        text-align: right;\n",
       "    }\n",
       "</style>\n",
       "<table border=\"1\" class=\"dataframe\">\n",
       "  <thead>\n",
       "    <tr style=\"text-align: right;\">\n",
       "      <th></th>\n",
       "      <th>movieId</th>\n",
       "      <th>title</th>\n",
       "      <th>genres</th>\n",
       "    </tr>\n",
       "  </thead>\n",
       "  <tbody>\n",
       "    <tr>\n",
       "      <th>0</th>\n",
       "      <td>1</td>\n",
       "      <td>Toy Story (1995)</td>\n",
       "      <td>Adventure|Animation|Children|Comedy|Fantasy</td>\n",
       "    </tr>\n",
       "    <tr>\n",
       "      <th>1</th>\n",
       "      <td>2</td>\n",
       "      <td>Jumanji (1995)</td>\n",
       "      <td>Adventure|Children|Fantasy</td>\n",
       "    </tr>\n",
       "    <tr>\n",
       "      <th>2</th>\n",
       "      <td>3</td>\n",
       "      <td>Grumpier Old Men (1995)</td>\n",
       "      <td>Comedy|Romance</td>\n",
       "    </tr>\n",
       "    <tr>\n",
       "      <th>3</th>\n",
       "      <td>4</td>\n",
       "      <td>Waiting to Exhale (1995)</td>\n",
       "      <td>Comedy|Drama|Romance</td>\n",
       "    </tr>\n",
       "    <tr>\n",
       "      <th>4</th>\n",
       "      <td>5</td>\n",
       "      <td>Father of the Bride Part II (1995)</td>\n",
       "      <td>Comedy</td>\n",
       "    </tr>\n",
       "  </tbody>\n",
       "</table>\n",
       "</div>"
      ],
      "text/plain": [
       "   movieId                               title  \\\n",
       "0        1                    Toy Story (1995)   \n",
       "1        2                      Jumanji (1995)   \n",
       "2        3             Grumpier Old Men (1995)   \n",
       "3        4            Waiting to Exhale (1995)   \n",
       "4        5  Father of the Bride Part II (1995)   \n",
       "\n",
       "                                        genres  \n",
       "0  Adventure|Animation|Children|Comedy|Fantasy  \n",
       "1                   Adventure|Children|Fantasy  \n",
       "2                               Comedy|Romance  \n",
       "3                         Comedy|Drama|Romance  \n",
       "4                                       Comedy  "
      ]
     },
     "execution_count": 15,
     "metadata": {},
     "output_type": "execute_result"
    }
   ],
   "source": [
    "# Preview movies dataset\n",
    "print('The Shape of the data is: ', movies.shape)\n",
    "movies.head()"
   ]
  },
  {
   "cell_type": "code",
   "execution_count": 16,
   "id": "c5d79797",
   "metadata": {},
   "outputs": [
    {
     "data": {
      "text/plain": [
       "movieId    0\n",
       "title      0\n",
       "genres     0\n",
       "dtype: int64"
      ]
     },
     "execution_count": 16,
     "metadata": {},
     "output_type": "execute_result"
    }
   ],
   "source": [
    "movies.isna().sum()"
   ]
  },
  {
   "cell_type": "code",
   "execution_count": 16,
   "id": "dc921e59",
   "metadata": {},
   "outputs": [],
   "source": [
    "# Preview tags dataset\n",
    "# print('The Shape of the data is: ', tags.shape)\n",
    "# tags.head()"
   ]
  },
  {
   "cell_type": "markdown",
   "id": "j5bRGQAXECgt",
   "metadata": {
    "id": "j5bRGQAXECgt"
   },
   "source": [
    "#### Dataset summary\n"
   ]
  },
  {
   "cell_type": "markdown",
   "id": "81132ab3",
   "metadata": {
    "id": "81132ab3"
   },
   "source": [
    "<a id=\"three\"></a>\n",
    "## 3. Exploratory Data Analysis (EDA)\n",
    "<a class=\"anchor\" id=\"1.1\"></a>\n",
    "<a href=#cont>Back to Table of Contents</a>\n",
    "\n",
    "---\n",
    "    \n",
    "| ⚡ Description: Exploratory data analysis ⚡ |\n",
    "| :--------------------------- |\n",
    "| In this section, you are required to perform an in-depth analysis of all the variables in the DataFrame. |\n",
    "\n",
    "---\n"
   ]
  },
  {
   "cell_type": "markdown",
   "id": "98c044ea",
   "metadata": {
    "id": "98c044ea"
   },
   "source": [
    "### 3.1 Exploratory Data Analysis\n",
    "*What is Exploratory data analysis?*\n",
    "    Exploratory data analysis (EDA) is the process of analysing and investigating data sets and summarizing their main characteristics, often employing both non-graphical and graphical methods. \n",
    "\n",
    "*Why is conducting EDA important?*\n",
    "    It aids in determining how best to manipulate data to get the required answers, expose trends, patterns, and relationships that are not readily apparent i.e. get insights into the dataset.\n",
    "\n",
    "*How is EDA conducted?*\n",
    "    EDA can be conducted in the following ways:\n",
    "- **Univariate**:- \\\n",
    "    i. **non-graphical**:- This is simplest form of data analysis, where the data being analyzed consists of just one variable. Since it’s a single variable, it doesn’t deal with causes or relationships.\\\n",
    "    ii. **graphical**:- Non-graphical methods don’t provide a full picture of the data. Graphical methods are therefore required. It involves visual exploratory analysis of the data.\n",
    "- Multivariate:-  \\\n",
    "    i. **non-graphical**:- Multivariate non-graphical EDA techniques generally show the relationship between two or more variables of the data through cross-tabulation or statistics. \\\n",
    "    ii. **graphical**:- Multivariate data uses graphics to display relationships between two or more sets of data. The most used graphic is a grouped bar plot or bar chart with each group representing one level of one of the variables and each bar within a group representing the levels of the other variable.\n",
    "    \n",
    "To achieve the above, while considering the volume of dataset for this project, we make use of this python module **pandas_profiling**"
   ]
  },
  {
   "cell_type": "markdown",
   "id": "1e773ee3",
   "metadata": {
    "id": "1e773ee3"
   },
   "source": [
    "#### 3.1.1 pandas_profiling\n",
    "Pandas profiling is an open source Python module with which we can quickly do an exploratory data analysis with just a few lines of code. It offers report generation for the dataset with lots of features and customizations for the report generated."
   ]
  },
  {
   "cell_type": "code",
   "execution_count": 17,
   "id": "254e20c8",
   "metadata": {
    "colab": {
     "base_uri": "https://localhost:8080/"
    },
    "id": "254e20c8",
    "outputId": "653f6811-d3ca-433b-860c-f998b508639f",
    "scrolled": false
   },
   "outputs": [],
   "source": [
    "# Generate EDA report of train dataset\n",
    "# from pandas_profiling import ProfileReport\n",
    "# profile = ProfileReport(train, title=\"Report\")\n",
    "# profile\n"
   ]
  },
  {
   "cell_type": "code",
   "execution_count": 18,
   "id": "e805134e",
   "metadata": {
    "ExecuteTime": {
     "end_time": "2021-06-28T08:52:37.824204Z",
     "start_time": "2021-06-28T08:52:37.811206Z"
    },
    "colab": {
     "base_uri": "https://localhost:8080/"
    },
    "id": "e805134e",
    "outputId": "2a7b2a80-7b6a-45ea-b5cf-6865a9e95370",
    "scrolled": true
   },
   "outputs": [],
   "source": [
    "# Generate report for genome_scores\n",
    "# profile = ProfileReport(genome_scores, title=\"genome_scores report\")\n",
    "# profile\n"
   ]
  },
  {
   "cell_type": "markdown",
   "id": "nQgDlx-7c94s",
   "metadata": {
    "id": "nQgDlx-7c94s"
   },
   "source": [
    "#### summarize the above."
   ]
  },
  {
   "cell_type": "markdown",
   "id": "CRGApgCvgUbM",
   "metadata": {
    "id": "CRGApgCvgUbM"
   },
   "source": [
    " **Descriptive Statistics**\n",
    "\n",
    ">Descriptive statistics summarize the data by computing mean, median, mode, standard deviation likewise.descriptive statistics describe the dataset in a way simpler manner through;\n",
    "\n",
    "*   The measure of central tendency \n",
    ">*  Mean:- The average value \n",
    ">*  Median:- The mid point value \n",
    ">*  Mode:- The most common value\n",
    "\n",
    "*   Measure of spread  \n",
    ">* Percentiles:- Percentiles are used in statistics to give you a number that describes the value that a given percent of the values are lower than.\n",
    ">* standard deviation:-a number that describes how spread out the values are.\n",
    "*  Measure of symmetry \n",
    ">* Skewness:- a measure of the asymmetry of the probability distribution of a real-valued random variable about its mean.\n",
    ">>* If skewness is less than -1 or greater than 1, the distribution is highly skewed.\n",
    ">>* If skewness is between -1 and -0.5 or between 0.5 and 1, the distribution is moderately skewed.\n",
    ">>* If skewness is between -0.5 and 0.5, the distribution is approximately symmetric. \n",
    "*  Measure of Peakedness \n",
    ">* Kurtosis:-  a measure of relative peakedness of a probability distribution, or alternatively how heavy or how light its tails are. A standard normal distribution has kurtosis of 3 and is recognized as mesokurtic. An increased kurtosis (>3) can be visualized as a thin “bell” with a high peak whereas a decreased kurtosis corresponds to a broadening of the peak and “thickening” of the tails. Kurtosis >3 is recognized as leptokurtic and <3 as platykurtic (lepto=thin; platy=broad).\n",
    ">>\n",
    "\n",
    "\n",
    "\n",
    "\n",
    "\n",
    "\n"
   ]
  },
  {
   "cell_type": "code",
   "execution_count": 19,
   "id": "f855bfbb",
   "metadata": {
    "colab": {
     "base_uri": "https://localhost:8080/",
     "height": 187
    },
    "id": "f855bfbb",
    "outputId": "36d7c694-5a0c-4c60-93ea-12f5e3d1e7f6"
   },
   "outputs": [],
   "source": [
    "# look at data statistics\n"
   ]
  },
  {
   "cell_type": "markdown",
   "id": "ad2f2a7d",
   "metadata": {
    "id": "ad2f2a7d"
   },
   "source": [
    "### 3.2 Key Insights from EDA \n"
   ]
  },
  {
   "cell_type": "markdown",
   "id": "3fa93ec6",
   "metadata": {
    "id": "3fa93ec6"
   },
   "source": [
    "<a id=\"four\"></a>\n",
    "## 4. Data Engineering\n",
    "<a class=\"anchor\" id=\"1.1\"></a>\n",
    "<a href=#cont>Back to Table of Contents</a>\n",
    "\n",
    "---\n",
    "    \n",
    "| ⚡ Description: Data engineering ⚡ |\n",
    "| :--------------------------- |\n",
    "| In this section you are required to: clean the dataset, and possibly create new features - as identified in the EDA phase. |\n",
    "\n",
    "---"
   ]
  },
  {
   "cell_type": "markdown",
   "id": "d7950f23",
   "metadata": {},
   "source": [
    "### 4.1 Content-based Filtering \n",
    "Making recommendations based on how similar the properties or features of an item are to other items"
   ]
  },
  {
   "cell_type": "markdown",
   "id": "ae4ccb05",
   "metadata": {},
   "source": [
    "Considering the large volume of dataset we have, we shall restrict this work to only userIds present in the test dataset."
   ]
  },
  {
   "cell_type": "markdown",
   "id": "e2a3c3b3",
   "metadata": {},
   "source": [
    "**Unique userid**\n",
    "We want to evaluate the difference between the unique userId in the Train dataset and Test dataset"
   ]
  },
  {
   "cell_type": "code",
   "execution_count": 17,
   "id": "0f114b4d",
   "metadata": {},
   "outputs": [
    {
     "data": {
      "text/plain": [
       "162350"
      ]
     },
     "execution_count": 17,
     "metadata": {},
     "output_type": "execute_result"
    }
   ],
   "source": [
    "test['userId'].nunique()"
   ]
  },
  {
   "cell_type": "code",
   "execution_count": 18,
   "id": "3e2f7ce1",
   "metadata": {},
   "outputs": [
    {
     "name": "stdout",
     "output_type": "stream",
     "text": [
      "The difference in unique userID count between train and test data set is: 191\n"
     ]
    }
   ],
   "source": [
    "test_case = test['userId'].nunique()\n",
    "train_case = train['userId'].nunique()\n",
    "print('The difference in unique userID count between train and test data set is:', (train_case - test_case))"
   ]
  },
  {
   "cell_type": "markdown",
   "id": "41136c73",
   "metadata": {},
   "source": [
    "From the above, proceed to extract these 191 userIds, that are not required for prediction"
   ]
  },
  {
   "cell_type": "code",
   "execution_count": 19,
   "id": "0f0767dc",
   "metadata": {},
   "outputs": [
    {
     "data": {
      "text/plain": [
       "[1, 2, 3, 4, 5, 6, 7, 8, 9, 10, 11, 12, 13, 14, 15, 16, 17, 18, 19, 20]"
      ]
     },
     "execution_count": 19,
     "metadata": {},
     "output_type": "execute_result"
    }
   ],
   "source": [
    "test_userids = test['userId'].unique().tolist()\n",
    "test_userids[:20]"
   ]
  },
  {
   "cell_type": "code",
   "execution_count": 20,
   "id": "816c9e5b",
   "metadata": {},
   "outputs": [
    {
     "data": {
      "text/plain": [
       "(9997845, 4)"
      ]
     },
     "execution_count": 20,
     "metadata": {},
     "output_type": "execute_result"
    }
   ],
   "source": [
    "#Extract rows with userId present in test userId\n",
    "useful_train = train[train['userId'].isin(test_userids)]\n",
    "useful_train.shape"
   ]
  },
  {
   "cell_type": "markdown",
   "id": "f5ea2d8f",
   "metadata": {},
   "source": [
    "#### Sorting of Tables\n",
    "\n",
    "We proceed to sort both tables( train and test ) by useId"
   ]
  },
  {
   "cell_type": "code",
   "execution_count": 32,
   "id": "bfab7447",
   "metadata": {},
   "outputs": [
    {
     "data": {
      "text/html": [
       "<div>\n",
       "<style scoped>\n",
       "    .dataframe tbody tr th:only-of-type {\n",
       "        vertical-align: middle;\n",
       "    }\n",
       "\n",
       "    .dataframe tbody tr th {\n",
       "        vertical-align: top;\n",
       "    }\n",
       "\n",
       "    .dataframe thead th {\n",
       "        text-align: right;\n",
       "    }\n",
       "</style>\n",
       "<table border=\"1\" class=\"dataframe\">\n",
       "  <thead>\n",
       "    <tr style=\"text-align: right;\">\n",
       "      <th></th>\n",
       "      <th>userId</th>\n",
       "      <th>movieId</th>\n",
       "      <th>rating</th>\n",
       "      <th>timestamp</th>\n",
       "    </tr>\n",
       "  </thead>\n",
       "  <tbody>\n",
       "    <tr>\n",
       "      <th>5122500</th>\n",
       "      <td>1</td>\n",
       "      <td>3949</td>\n",
       "      <td>5.0</td>\n",
       "      <td>1147868678</td>\n",
       "    </tr>\n",
       "    <tr>\n",
       "      <th>9258011</th>\n",
       "      <td>1</td>\n",
       "      <td>2351</td>\n",
       "      <td>4.5</td>\n",
       "      <td>1147877957</td>\n",
       "    </tr>\n",
       "    <tr>\n",
       "      <th>2858468</th>\n",
       "      <td>1</td>\n",
       "      <td>2068</td>\n",
       "      <td>2.5</td>\n",
       "      <td>1147869044</td>\n",
       "    </tr>\n",
       "    <tr>\n",
       "      <th>2625067</th>\n",
       "      <td>1</td>\n",
       "      <td>27266</td>\n",
       "      <td>4.5</td>\n",
       "      <td>1147879365</td>\n",
       "    </tr>\n",
       "    <tr>\n",
       "      <th>6239556</th>\n",
       "      <td>1</td>\n",
       "      <td>7939</td>\n",
       "      <td>2.5</td>\n",
       "      <td>1147869183</td>\n",
       "    </tr>\n",
       "  </tbody>\n",
       "</table>\n",
       "</div>"
      ],
      "text/plain": [
       "         userId  movieId  rating   timestamp\n",
       "5122500       1     3949     5.0  1147868678\n",
       "9258011       1     2351     4.5  1147877957\n",
       "2858468       1     2068     2.5  1147869044\n",
       "2625067       1    27266     4.5  1147879365\n",
       "6239556       1     7939     2.5  1147869183"
      ]
     },
     "execution_count": 32,
     "metadata": {},
     "output_type": "execute_result"
    }
   ],
   "source": [
    "# Sort train dataset by userId\n",
    "useful_train.sort_values(by=['userId'], inplace= True)\n",
    "useful_train.head()"
   ]
  },
  {
   "cell_type": "code",
   "execution_count": 33,
   "id": "b8ebdf2e",
   "metadata": {},
   "outputs": [
    {
     "data": {
      "text/html": [
       "<div>\n",
       "<style scoped>\n",
       "    .dataframe tbody tr th:only-of-type {\n",
       "        vertical-align: middle;\n",
       "    }\n",
       "\n",
       "    .dataframe tbody tr th {\n",
       "        vertical-align: top;\n",
       "    }\n",
       "\n",
       "    .dataframe thead th {\n",
       "        text-align: right;\n",
       "    }\n",
       "</style>\n",
       "<table border=\"1\" class=\"dataframe\">\n",
       "  <thead>\n",
       "    <tr style=\"text-align: right;\">\n",
       "      <th></th>\n",
       "      <th>userId</th>\n",
       "      <th>movieId</th>\n",
       "    </tr>\n",
       "  </thead>\n",
       "  <tbody>\n",
       "    <tr>\n",
       "      <th>0</th>\n",
       "      <td>1</td>\n",
       "      <td>2011</td>\n",
       "    </tr>\n",
       "    <tr>\n",
       "      <th>1</th>\n",
       "      <td>1</td>\n",
       "      <td>4144</td>\n",
       "    </tr>\n",
       "    <tr>\n",
       "      <th>2</th>\n",
       "      <td>1</td>\n",
       "      <td>5767</td>\n",
       "    </tr>\n",
       "    <tr>\n",
       "      <th>3</th>\n",
       "      <td>1</td>\n",
       "      <td>6711</td>\n",
       "    </tr>\n",
       "    <tr>\n",
       "      <th>4</th>\n",
       "      <td>1</td>\n",
       "      <td>7318</td>\n",
       "    </tr>\n",
       "  </tbody>\n",
       "</table>\n",
       "</div>"
      ],
      "text/plain": [
       "   userId  movieId\n",
       "0       1     2011\n",
       "1       1     4144\n",
       "2       1     5767\n",
       "3       1     6711\n",
       "4       1     7318"
      ]
     },
     "execution_count": 33,
     "metadata": {},
     "output_type": "execute_result"
    }
   ],
   "source": [
    "# Sort test dataset by userId\n",
    "test.sort_values(by=['userId'], inplace= True)\n",
    "test.head()"
   ]
  },
  {
   "cell_type": "markdown",
   "id": "0866280c",
   "metadata": {},
   "source": [
    "#### Merging of relevant tables\n",
    "\n",
    "At this stage, we merge both tables with other tables considered to be useful for the task at hand.\n",
    "The tables we merge with are listed below:\n",
    "- imdb_data\n",
    "- movies\n"
   ]
  },
  {
   "cell_type": "code",
   "execution_count": 34,
   "id": "c616ee53",
   "metadata": {},
   "outputs": [
    {
     "data": {
      "text/html": [
       "<div>\n",
       "<style scoped>\n",
       "    .dataframe tbody tr th:only-of-type {\n",
       "        vertical-align: middle;\n",
       "    }\n",
       "\n",
       "    .dataframe tbody tr th {\n",
       "        vertical-align: top;\n",
       "    }\n",
       "\n",
       "    .dataframe thead th {\n",
       "        text-align: right;\n",
       "    }\n",
       "</style>\n",
       "<table border=\"1\" class=\"dataframe\">\n",
       "  <thead>\n",
       "    <tr style=\"text-align: right;\">\n",
       "      <th></th>\n",
       "      <th>userId</th>\n",
       "      <th>movieId</th>\n",
       "      <th>rating</th>\n",
       "      <th>timestamp</th>\n",
       "      <th>title_cast</th>\n",
       "      <th>director</th>\n",
       "      <th>runtime</th>\n",
       "      <th>budget</th>\n",
       "      <th>plot_keywords</th>\n",
       "    </tr>\n",
       "  </thead>\n",
       "  <tbody>\n",
       "    <tr>\n",
       "      <th>0</th>\n",
       "      <td>1</td>\n",
       "      <td>3949</td>\n",
       "      <td>5.0</td>\n",
       "      <td>1147868678</td>\n",
       "      <td>Ellen Burstyn|Jared Leto|Jennifer Connelly|Mar...</td>\n",
       "      <td>Hubert Selby Jr.</td>\n",
       "      <td>102.0</td>\n",
       "      <td>$4,500,000</td>\n",
       "      <td>drug addiction|heroin|sex show|sex scene</td>\n",
       "    </tr>\n",
       "    <tr>\n",
       "      <th>1</th>\n",
       "      <td>1</td>\n",
       "      <td>2351</td>\n",
       "      <td>4.5</td>\n",
       "      <td>1147877957</td>\n",
       "      <td>NaN</td>\n",
       "      <td>NaN</td>\n",
       "      <td>NaN</td>\n",
       "      <td>NaN</td>\n",
       "      <td>NaN</td>\n",
       "    </tr>\n",
       "    <tr>\n",
       "      <th>2</th>\n",
       "      <td>1</td>\n",
       "      <td>2068</td>\n",
       "      <td>2.5</td>\n",
       "      <td>1147869044</td>\n",
       "      <td>NaN</td>\n",
       "      <td>NaN</td>\n",
       "      <td>NaN</td>\n",
       "      <td>NaN</td>\n",
       "      <td>NaN</td>\n",
       "    </tr>\n",
       "    <tr>\n",
       "      <th>3</th>\n",
       "      <td>1</td>\n",
       "      <td>27266</td>\n",
       "      <td>4.5</td>\n",
       "      <td>1147879365</td>\n",
       "      <td>Tony Chiu-Wai Leung|Li Gong|Faye Wong|Takuya K...</td>\n",
       "      <td>Kar-Wai Wong</td>\n",
       "      <td>129.0</td>\n",
       "      <td>$12,000,000</td>\n",
       "      <td>nostalgia|loneliness|room 2046|1960s</td>\n",
       "    </tr>\n",
       "    <tr>\n",
       "      <th>4</th>\n",
       "      <td>1</td>\n",
       "      <td>7939</td>\n",
       "      <td>2.5</td>\n",
       "      <td>1147869183</td>\n",
       "      <td>NaN</td>\n",
       "      <td>NaN</td>\n",
       "      <td>NaN</td>\n",
       "      <td>NaN</td>\n",
       "      <td>NaN</td>\n",
       "    </tr>\n",
       "  </tbody>\n",
       "</table>\n",
       "</div>"
      ],
      "text/plain": [
       "   userId  movieId  rating   timestamp  \\\n",
       "0       1     3949     5.0  1147868678   \n",
       "1       1     2351     4.5  1147877957   \n",
       "2       1     2068     2.5  1147869044   \n",
       "3       1    27266     4.5  1147879365   \n",
       "4       1     7939     2.5  1147869183   \n",
       "\n",
       "                                          title_cast          director  \\\n",
       "0  Ellen Burstyn|Jared Leto|Jennifer Connelly|Mar...  Hubert Selby Jr.   \n",
       "1                                                NaN               NaN   \n",
       "2                                                NaN               NaN   \n",
       "3  Tony Chiu-Wai Leung|Li Gong|Faye Wong|Takuya K...      Kar-Wai Wong   \n",
       "4                                                NaN               NaN   \n",
       "\n",
       "   runtime       budget                             plot_keywords  \n",
       "0    102.0   $4,500,000  drug addiction|heroin|sex show|sex scene  \n",
       "1      NaN          NaN                                       NaN  \n",
       "2      NaN          NaN                                       NaN  \n",
       "3    129.0  $12,000,000      nostalgia|loneliness|room 2046|1960s  \n",
       "4      NaN          NaN                                       NaN  "
      ]
     },
     "execution_count": 34,
     "metadata": {},
     "output_type": "execute_result"
    }
   ],
   "source": [
    "# Merge train table with imdb_data table \n",
    "useful_train = useful_train.merge(imdb_data, on = 'movieId', how= 'left')\n",
    "useful_train.head()"
   ]
  },
  {
   "cell_type": "code",
   "execution_count": 35,
   "id": "383107a7",
   "metadata": {},
   "outputs": [
    {
     "data": {
      "text/html": [
       "<div>\n",
       "<style scoped>\n",
       "    .dataframe tbody tr th:only-of-type {\n",
       "        vertical-align: middle;\n",
       "    }\n",
       "\n",
       "    .dataframe tbody tr th {\n",
       "        vertical-align: top;\n",
       "    }\n",
       "\n",
       "    .dataframe thead th {\n",
       "        text-align: right;\n",
       "    }\n",
       "</style>\n",
       "<table border=\"1\" class=\"dataframe\">\n",
       "  <thead>\n",
       "    <tr style=\"text-align: right;\">\n",
       "      <th></th>\n",
       "      <th>userId</th>\n",
       "      <th>movieId</th>\n",
       "      <th>title_cast</th>\n",
       "      <th>director</th>\n",
       "      <th>runtime</th>\n",
       "      <th>budget</th>\n",
       "      <th>plot_keywords</th>\n",
       "    </tr>\n",
       "  </thead>\n",
       "  <tbody>\n",
       "    <tr>\n",
       "      <th>0</th>\n",
       "      <td>1</td>\n",
       "      <td>2011</td>\n",
       "      <td>NaN</td>\n",
       "      <td>NaN</td>\n",
       "      <td>NaN</td>\n",
       "      <td>NaN</td>\n",
       "      <td>NaN</td>\n",
       "    </tr>\n",
       "    <tr>\n",
       "      <th>1</th>\n",
       "      <td>1</td>\n",
       "      <td>4144</td>\n",
       "      <td>NaN</td>\n",
       "      <td>NaN</td>\n",
       "      <td>NaN</td>\n",
       "      <td>NaN</td>\n",
       "      <td>NaN</td>\n",
       "    </tr>\n",
       "    <tr>\n",
       "      <th>2</th>\n",
       "      <td>1</td>\n",
       "      <td>5767</td>\n",
       "      <td>NaN</td>\n",
       "      <td>NaN</td>\n",
       "      <td>NaN</td>\n",
       "      <td>NaN</td>\n",
       "      <td>NaN</td>\n",
       "    </tr>\n",
       "    <tr>\n",
       "      <th>3</th>\n",
       "      <td>1</td>\n",
       "      <td>6711</td>\n",
       "      <td>Scarlett Johansson|Bill Murray|Akiko Takeshita...</td>\n",
       "      <td>Sofia Coppola</td>\n",
       "      <td>102.0</td>\n",
       "      <td>$4,000,000</td>\n",
       "      <td>older man younger woman relationship|lonelines...</td>\n",
       "    </tr>\n",
       "    <tr>\n",
       "      <th>4</th>\n",
       "      <td>1</td>\n",
       "      <td>7318</td>\n",
       "      <td>Jim Caviezel|Maia Morgenstern|Christo Jivkov|F...</td>\n",
       "      <td>Benedict Fitzgerald</td>\n",
       "      <td>127.0</td>\n",
       "      <td>$30,000,000</td>\n",
       "      <td>suffering|torture|brutality|whipping</td>\n",
       "    </tr>\n",
       "  </tbody>\n",
       "</table>\n",
       "</div>"
      ],
      "text/plain": [
       "   userId  movieId                                         title_cast  \\\n",
       "0       1     2011                                                NaN   \n",
       "1       1     4144                                                NaN   \n",
       "2       1     5767                                                NaN   \n",
       "3       1     6711  Scarlett Johansson|Bill Murray|Akiko Takeshita...   \n",
       "4       1     7318  Jim Caviezel|Maia Morgenstern|Christo Jivkov|F...   \n",
       "\n",
       "              director  runtime       budget  \\\n",
       "0                  NaN      NaN          NaN   \n",
       "1                  NaN      NaN          NaN   \n",
       "2                  NaN      NaN          NaN   \n",
       "3        Sofia Coppola    102.0   $4,000,000   \n",
       "4  Benedict Fitzgerald    127.0  $30,000,000   \n",
       "\n",
       "                                       plot_keywords  \n",
       "0                                                NaN  \n",
       "1                                                NaN  \n",
       "2                                                NaN  \n",
       "3  older man younger woman relationship|lonelines...  \n",
       "4               suffering|torture|brutality|whipping  "
      ]
     },
     "execution_count": 35,
     "metadata": {},
     "output_type": "execute_result"
    }
   ],
   "source": [
    "# Merge test table with imdb_data table \n",
    "test = test.merge(imdb_data, on = 'movieId', how= 'left')\n",
    "test.head()"
   ]
  },
  {
   "cell_type": "code",
   "execution_count": 36,
   "id": "7858afaa",
   "metadata": {},
   "outputs": [
    {
     "data": {
      "text/html": [
       "<div>\n",
       "<style scoped>\n",
       "    .dataframe tbody tr th:only-of-type {\n",
       "        vertical-align: middle;\n",
       "    }\n",
       "\n",
       "    .dataframe tbody tr th {\n",
       "        vertical-align: top;\n",
       "    }\n",
       "\n",
       "    .dataframe thead th {\n",
       "        text-align: right;\n",
       "    }\n",
       "</style>\n",
       "<table border=\"1\" class=\"dataframe\">\n",
       "  <thead>\n",
       "    <tr style=\"text-align: right;\">\n",
       "      <th></th>\n",
       "      <th>userId</th>\n",
       "      <th>movieId</th>\n",
       "      <th>rating</th>\n",
       "      <th>timestamp</th>\n",
       "      <th>title_cast</th>\n",
       "      <th>director</th>\n",
       "      <th>runtime</th>\n",
       "      <th>budget</th>\n",
       "      <th>plot_keywords</th>\n",
       "      <th>title</th>\n",
       "      <th>genres</th>\n",
       "    </tr>\n",
       "  </thead>\n",
       "  <tbody>\n",
       "    <tr>\n",
       "      <th>0</th>\n",
       "      <td>1</td>\n",
       "      <td>3949</td>\n",
       "      <td>5.0</td>\n",
       "      <td>1147868678</td>\n",
       "      <td>Ellen Burstyn|Jared Leto|Jennifer Connelly|Mar...</td>\n",
       "      <td>Hubert Selby Jr.</td>\n",
       "      <td>102.0</td>\n",
       "      <td>$4,500,000</td>\n",
       "      <td>drug addiction|heroin|sex show|sex scene</td>\n",
       "      <td>Requiem for a Dream (2000)</td>\n",
       "      <td>Drama</td>\n",
       "    </tr>\n",
       "    <tr>\n",
       "      <th>1</th>\n",
       "      <td>1</td>\n",
       "      <td>2351</td>\n",
       "      <td>4.5</td>\n",
       "      <td>1147877957</td>\n",
       "      <td>NaN</td>\n",
       "      <td>NaN</td>\n",
       "      <td>NaN</td>\n",
       "      <td>NaN</td>\n",
       "      <td>NaN</td>\n",
       "      <td>Nights of Cabiria (Notti di Cabiria, Le) (1957)</td>\n",
       "      <td>Drama</td>\n",
       "    </tr>\n",
       "    <tr>\n",
       "      <th>2</th>\n",
       "      <td>1</td>\n",
       "      <td>2068</td>\n",
       "      <td>2.5</td>\n",
       "      <td>1147869044</td>\n",
       "      <td>NaN</td>\n",
       "      <td>NaN</td>\n",
       "      <td>NaN</td>\n",
       "      <td>NaN</td>\n",
       "      <td>NaN</td>\n",
       "      <td>Fanny and Alexander (Fanny och Alexander) (1982)</td>\n",
       "      <td>Drama|Fantasy|Mystery</td>\n",
       "    </tr>\n",
       "    <tr>\n",
       "      <th>3</th>\n",
       "      <td>1</td>\n",
       "      <td>27266</td>\n",
       "      <td>4.5</td>\n",
       "      <td>1147879365</td>\n",
       "      <td>Tony Chiu-Wai Leung|Li Gong|Faye Wong|Takuya K...</td>\n",
       "      <td>Kar-Wai Wong</td>\n",
       "      <td>129.0</td>\n",
       "      <td>$12,000,000</td>\n",
       "      <td>nostalgia|loneliness|room 2046|1960s</td>\n",
       "      <td>2046 (2004)</td>\n",
       "      <td>Drama|Fantasy|Romance|Sci-Fi</td>\n",
       "    </tr>\n",
       "    <tr>\n",
       "      <th>4</th>\n",
       "      <td>1</td>\n",
       "      <td>7939</td>\n",
       "      <td>2.5</td>\n",
       "      <td>1147869183</td>\n",
       "      <td>NaN</td>\n",
       "      <td>NaN</td>\n",
       "      <td>NaN</td>\n",
       "      <td>NaN</td>\n",
       "      <td>NaN</td>\n",
       "      <td>Through a Glass Darkly (Såsom i en spegel) (1961)</td>\n",
       "      <td>Drama</td>\n",
       "    </tr>\n",
       "  </tbody>\n",
       "</table>\n",
       "</div>"
      ],
      "text/plain": [
       "   userId  movieId  rating   timestamp  \\\n",
       "0       1     3949     5.0  1147868678   \n",
       "1       1     2351     4.5  1147877957   \n",
       "2       1     2068     2.5  1147869044   \n",
       "3       1    27266     4.5  1147879365   \n",
       "4       1     7939     2.5  1147869183   \n",
       "\n",
       "                                          title_cast          director  \\\n",
       "0  Ellen Burstyn|Jared Leto|Jennifer Connelly|Mar...  Hubert Selby Jr.   \n",
       "1                                                NaN               NaN   \n",
       "2                                                NaN               NaN   \n",
       "3  Tony Chiu-Wai Leung|Li Gong|Faye Wong|Takuya K...      Kar-Wai Wong   \n",
       "4                                                NaN               NaN   \n",
       "\n",
       "   runtime       budget                             plot_keywords  \\\n",
       "0    102.0   $4,500,000  drug addiction|heroin|sex show|sex scene   \n",
       "1      NaN          NaN                                       NaN   \n",
       "2      NaN          NaN                                       NaN   \n",
       "3    129.0  $12,000,000      nostalgia|loneliness|room 2046|1960s   \n",
       "4      NaN          NaN                                       NaN   \n",
       "\n",
       "                                               title  \\\n",
       "0                         Requiem for a Dream (2000)   \n",
       "1    Nights of Cabiria (Notti di Cabiria, Le) (1957)   \n",
       "2   Fanny and Alexander (Fanny och Alexander) (1982)   \n",
       "3                                        2046 (2004)   \n",
       "4  Through a Glass Darkly (Såsom i en spegel) (1961)   \n",
       "\n",
       "                         genres  \n",
       "0                         Drama  \n",
       "1                         Drama  \n",
       "2         Drama|Fantasy|Mystery  \n",
       "3  Drama|Fantasy|Romance|Sci-Fi  \n",
       "4                         Drama  "
      ]
     },
     "execution_count": 36,
     "metadata": {},
     "output_type": "execute_result"
    }
   ],
   "source": [
    "# Merge train table with movies table \n",
    "useful_train = useful_train.merge(movies, on = 'movieId', how= 'left')\n",
    "useful_train.head()"
   ]
  },
  {
   "cell_type": "code",
   "execution_count": 37,
   "id": "4431fc46",
   "metadata": {},
   "outputs": [
    {
     "data": {
      "text/html": [
       "<div>\n",
       "<style scoped>\n",
       "    .dataframe tbody tr th:only-of-type {\n",
       "        vertical-align: middle;\n",
       "    }\n",
       "\n",
       "    .dataframe tbody tr th {\n",
       "        vertical-align: top;\n",
       "    }\n",
       "\n",
       "    .dataframe thead th {\n",
       "        text-align: right;\n",
       "    }\n",
       "</style>\n",
       "<table border=\"1\" class=\"dataframe\">\n",
       "  <thead>\n",
       "    <tr style=\"text-align: right;\">\n",
       "      <th></th>\n",
       "      <th>userId</th>\n",
       "      <th>movieId</th>\n",
       "      <th>title_cast</th>\n",
       "      <th>director</th>\n",
       "      <th>runtime</th>\n",
       "      <th>budget</th>\n",
       "      <th>plot_keywords</th>\n",
       "      <th>title</th>\n",
       "      <th>genres</th>\n",
       "    </tr>\n",
       "  </thead>\n",
       "  <tbody>\n",
       "    <tr>\n",
       "      <th>0</th>\n",
       "      <td>1</td>\n",
       "      <td>2011</td>\n",
       "      <td>NaN</td>\n",
       "      <td>NaN</td>\n",
       "      <td>NaN</td>\n",
       "      <td>NaN</td>\n",
       "      <td>NaN</td>\n",
       "      <td>Back to the Future Part II (1989)</td>\n",
       "      <td>Adventure|Comedy|Sci-Fi</td>\n",
       "    </tr>\n",
       "    <tr>\n",
       "      <th>1</th>\n",
       "      <td>1</td>\n",
       "      <td>4144</td>\n",
       "      <td>NaN</td>\n",
       "      <td>NaN</td>\n",
       "      <td>NaN</td>\n",
       "      <td>NaN</td>\n",
       "      <td>NaN</td>\n",
       "      <td>In the Mood For Love (Fa yeung nin wa) (2000)</td>\n",
       "      <td>Drama|Romance</td>\n",
       "    </tr>\n",
       "    <tr>\n",
       "      <th>2</th>\n",
       "      <td>1</td>\n",
       "      <td>5767</td>\n",
       "      <td>NaN</td>\n",
       "      <td>NaN</td>\n",
       "      <td>NaN</td>\n",
       "      <td>NaN</td>\n",
       "      <td>NaN</td>\n",
       "      <td>Teddy Bear (Mis) (1981)</td>\n",
       "      <td>Comedy|Crime</td>\n",
       "    </tr>\n",
       "    <tr>\n",
       "      <th>3</th>\n",
       "      <td>1</td>\n",
       "      <td>6711</td>\n",
       "      <td>Scarlett Johansson|Bill Murray|Akiko Takeshita...</td>\n",
       "      <td>Sofia Coppola</td>\n",
       "      <td>102.0</td>\n",
       "      <td>$4,000,000</td>\n",
       "      <td>older man younger woman relationship|lonelines...</td>\n",
       "      <td>Lost in Translation (2003)</td>\n",
       "      <td>Comedy|Drama|Romance</td>\n",
       "    </tr>\n",
       "    <tr>\n",
       "      <th>4</th>\n",
       "      <td>1</td>\n",
       "      <td>7318</td>\n",
       "      <td>Jim Caviezel|Maia Morgenstern|Christo Jivkov|F...</td>\n",
       "      <td>Benedict Fitzgerald</td>\n",
       "      <td>127.0</td>\n",
       "      <td>$30,000,000</td>\n",
       "      <td>suffering|torture|brutality|whipping</td>\n",
       "      <td>Passion of the Christ, The (2004)</td>\n",
       "      <td>Drama</td>\n",
       "    </tr>\n",
       "  </tbody>\n",
       "</table>\n",
       "</div>"
      ],
      "text/plain": [
       "   userId  movieId                                         title_cast  \\\n",
       "0       1     2011                                                NaN   \n",
       "1       1     4144                                                NaN   \n",
       "2       1     5767                                                NaN   \n",
       "3       1     6711  Scarlett Johansson|Bill Murray|Akiko Takeshita...   \n",
       "4       1     7318  Jim Caviezel|Maia Morgenstern|Christo Jivkov|F...   \n",
       "\n",
       "              director  runtime       budget  \\\n",
       "0                  NaN      NaN          NaN   \n",
       "1                  NaN      NaN          NaN   \n",
       "2                  NaN      NaN          NaN   \n",
       "3        Sofia Coppola    102.0   $4,000,000   \n",
       "4  Benedict Fitzgerald    127.0  $30,000,000   \n",
       "\n",
       "                                       plot_keywords  \\\n",
       "0                                                NaN   \n",
       "1                                                NaN   \n",
       "2                                                NaN   \n",
       "3  older man younger woman relationship|lonelines...   \n",
       "4               suffering|torture|brutality|whipping   \n",
       "\n",
       "                                           title                   genres  \n",
       "0              Back to the Future Part II (1989)  Adventure|Comedy|Sci-Fi  \n",
       "1  In the Mood For Love (Fa yeung nin wa) (2000)            Drama|Romance  \n",
       "2                        Teddy Bear (Mis) (1981)             Comedy|Crime  \n",
       "3                     Lost in Translation (2003)     Comedy|Drama|Romance  \n",
       "4              Passion of the Christ, The (2004)                    Drama  "
      ]
     },
     "execution_count": 37,
     "metadata": {},
     "output_type": "execute_result"
    }
   ],
   "source": [
    "# Merge test table with movies table \n",
    "test = test.merge(movies, on = 'movieId', how= 'left')\n",
    "test.head()"
   ]
  },
  {
   "cell_type": "markdown",
   "id": "2beceaf8",
   "metadata": {},
   "source": [
    "#### Merging vital colunms\n",
    "\n",
    "For this stage, we proceed to merge columns we have considered to be important in describing the content of a movie into a new column called key_words. The columns are listed below:\n",
    "- title_cast\n",
    "- director\n",
    "- plot_keywords\n",
    "- genres"
   ]
  },
  {
   "cell_type": "code",
   "execution_count": 38,
   "id": "afa0096a",
   "metadata": {},
   "outputs": [
    {
     "data": {
      "text/html": [
       "<div>\n",
       "<style scoped>\n",
       "    .dataframe tbody tr th:only-of-type {\n",
       "        vertical-align: middle;\n",
       "    }\n",
       "\n",
       "    .dataframe tbody tr th {\n",
       "        vertical-align: top;\n",
       "    }\n",
       "\n",
       "    .dataframe thead th {\n",
       "        text-align: right;\n",
       "    }\n",
       "</style>\n",
       "<table border=\"1\" class=\"dataframe\">\n",
       "  <thead>\n",
       "    <tr style=\"text-align: right;\">\n",
       "      <th></th>\n",
       "      <th>userId</th>\n",
       "      <th>movieId</th>\n",
       "      <th>rating</th>\n",
       "      <th>timestamp</th>\n",
       "      <th>title_cast</th>\n",
       "      <th>director</th>\n",
       "      <th>runtime</th>\n",
       "      <th>budget</th>\n",
       "      <th>plot_keywords</th>\n",
       "      <th>title</th>\n",
       "      <th>genres</th>\n",
       "      <th>key_words</th>\n",
       "    </tr>\n",
       "  </thead>\n",
       "  <tbody>\n",
       "    <tr>\n",
       "      <th>0</th>\n",
       "      <td>1</td>\n",
       "      <td>3949</td>\n",
       "      <td>5.0</td>\n",
       "      <td>1147868678</td>\n",
       "      <td>Ellen Burstyn|Jared Leto|Jennifer Connelly|Mar...</td>\n",
       "      <td>Hubert Selby Jr.</td>\n",
       "      <td>102.0</td>\n",
       "      <td>$4,500,000</td>\n",
       "      <td>drug addiction|heroin|sex show|sex scene</td>\n",
       "      <td>Requiem for a Dream (2000)</td>\n",
       "      <td>Drama</td>\n",
       "      <td>Ellen Burstyn|Jared Leto|Jennifer Connelly|Mar...</td>\n",
       "    </tr>\n",
       "    <tr>\n",
       "      <th>1</th>\n",
       "      <td>1</td>\n",
       "      <td>2351</td>\n",
       "      <td>4.5</td>\n",
       "      <td>1147877957</td>\n",
       "      <td>NaN</td>\n",
       "      <td>NaN</td>\n",
       "      <td>NaN</td>\n",
       "      <td>NaN</td>\n",
       "      <td>NaN</td>\n",
       "      <td>Nights of Cabiria (Notti di Cabiria, Le) (1957)</td>\n",
       "      <td>Drama</td>\n",
       "      <td>Drama</td>\n",
       "    </tr>\n",
       "    <tr>\n",
       "      <th>2</th>\n",
       "      <td>1</td>\n",
       "      <td>2068</td>\n",
       "      <td>2.5</td>\n",
       "      <td>1147869044</td>\n",
       "      <td>NaN</td>\n",
       "      <td>NaN</td>\n",
       "      <td>NaN</td>\n",
       "      <td>NaN</td>\n",
       "      <td>NaN</td>\n",
       "      <td>Fanny and Alexander (Fanny och Alexander) (1982)</td>\n",
       "      <td>Drama|Fantasy|Mystery</td>\n",
       "      <td>Drama|Fantasy|Mystery</td>\n",
       "    </tr>\n",
       "    <tr>\n",
       "      <th>3</th>\n",
       "      <td>1</td>\n",
       "      <td>27266</td>\n",
       "      <td>4.5</td>\n",
       "      <td>1147879365</td>\n",
       "      <td>Tony Chiu-Wai Leung|Li Gong|Faye Wong|Takuya K...</td>\n",
       "      <td>Kar-Wai Wong</td>\n",
       "      <td>129.0</td>\n",
       "      <td>$12,000,000</td>\n",
       "      <td>nostalgia|loneliness|room 2046|1960s</td>\n",
       "      <td>2046 (2004)</td>\n",
       "      <td>Drama|Fantasy|Romance|Sci-Fi</td>\n",
       "      <td>Tony Chiu-Wai Leung|Li Gong|Faye Wong|Takuya K...</td>\n",
       "    </tr>\n",
       "    <tr>\n",
       "      <th>4</th>\n",
       "      <td>1</td>\n",
       "      <td>7939</td>\n",
       "      <td>2.5</td>\n",
       "      <td>1147869183</td>\n",
       "      <td>NaN</td>\n",
       "      <td>NaN</td>\n",
       "      <td>NaN</td>\n",
       "      <td>NaN</td>\n",
       "      <td>NaN</td>\n",
       "      <td>Through a Glass Darkly (Såsom i en spegel) (1961)</td>\n",
       "      <td>Drama</td>\n",
       "      <td>Drama</td>\n",
       "    </tr>\n",
       "  </tbody>\n",
       "</table>\n",
       "</div>"
      ],
      "text/plain": [
       "   userId  movieId  rating   timestamp  \\\n",
       "0       1     3949     5.0  1147868678   \n",
       "1       1     2351     4.5  1147877957   \n",
       "2       1     2068     2.5  1147869044   \n",
       "3       1    27266     4.5  1147879365   \n",
       "4       1     7939     2.5  1147869183   \n",
       "\n",
       "                                          title_cast          director  \\\n",
       "0  Ellen Burstyn|Jared Leto|Jennifer Connelly|Mar...  Hubert Selby Jr.   \n",
       "1                                                NaN               NaN   \n",
       "2                                                NaN               NaN   \n",
       "3  Tony Chiu-Wai Leung|Li Gong|Faye Wong|Takuya K...      Kar-Wai Wong   \n",
       "4                                                NaN               NaN   \n",
       "\n",
       "   runtime       budget                             plot_keywords  \\\n",
       "0    102.0   $4,500,000  drug addiction|heroin|sex show|sex scene   \n",
       "1      NaN          NaN                                       NaN   \n",
       "2      NaN          NaN                                       NaN   \n",
       "3    129.0  $12,000,000      nostalgia|loneliness|room 2046|1960s   \n",
       "4      NaN          NaN                                       NaN   \n",
       "\n",
       "                                               title  \\\n",
       "0                         Requiem for a Dream (2000)   \n",
       "1    Nights of Cabiria (Notti di Cabiria, Le) (1957)   \n",
       "2   Fanny and Alexander (Fanny och Alexander) (1982)   \n",
       "3                                        2046 (2004)   \n",
       "4  Through a Glass Darkly (Såsom i en spegel) (1961)   \n",
       "\n",
       "                         genres  \\\n",
       "0                         Drama   \n",
       "1                         Drama   \n",
       "2         Drama|Fantasy|Mystery   \n",
       "3  Drama|Fantasy|Romance|Sci-Fi   \n",
       "4                         Drama   \n",
       "\n",
       "                                           key_words  \n",
       "0  Ellen Burstyn|Jared Leto|Jennifer Connelly|Mar...  \n",
       "1                                              Drama  \n",
       "2                              Drama|Fantasy|Mystery  \n",
       "3  Tony Chiu-Wai Leung|Li Gong|Faye Wong|Takuya K...  \n",
       "4                                              Drama  "
      ]
     },
     "execution_count": 38,
     "metadata": {},
     "output_type": "execute_result"
    }
   ],
   "source": [
    "# Merge the columns listed above into a new column named key_words fot the train data\n",
    "useful_train['key_words'] = (pd.Series(useful_train[['title_cast', 'director', 'plot_keywords', 'genres']].fillna('')\n",
    "                      .values.tolist()).str.join(' '))\n",
    "useful_train.head()"
   ]
  },
  {
   "cell_type": "code",
   "execution_count": 41,
   "id": "2f799e75",
   "metadata": {},
   "outputs": [
    {
     "name": "stdout",
     "output_type": "stream",
     "text": [
      " There are 0 numbers of NaN values in the train keywords column\n"
     ]
    }
   ],
   "source": [
    "# confrim the absense of NaN value in the key_word column for the train data\n",
    "nan = useful_train['key_words'].isna().sum()\n",
    "print(f' There are {nan} numbers of NaN values in the train keywords column')"
   ]
  },
  {
   "cell_type": "code",
   "execution_count": 42,
   "id": "3d816ec6",
   "metadata": {},
   "outputs": [
    {
     "data": {
      "text/html": [
       "<div>\n",
       "<style scoped>\n",
       "    .dataframe tbody tr th:only-of-type {\n",
       "        vertical-align: middle;\n",
       "    }\n",
       "\n",
       "    .dataframe tbody tr th {\n",
       "        vertical-align: top;\n",
       "    }\n",
       "\n",
       "    .dataframe thead th {\n",
       "        text-align: right;\n",
       "    }\n",
       "</style>\n",
       "<table border=\"1\" class=\"dataframe\">\n",
       "  <thead>\n",
       "    <tr style=\"text-align: right;\">\n",
       "      <th></th>\n",
       "      <th>userId</th>\n",
       "      <th>movieId</th>\n",
       "      <th>title_cast</th>\n",
       "      <th>director</th>\n",
       "      <th>runtime</th>\n",
       "      <th>budget</th>\n",
       "      <th>plot_keywords</th>\n",
       "      <th>title</th>\n",
       "      <th>genres</th>\n",
       "      <th>key_words</th>\n",
       "    </tr>\n",
       "  </thead>\n",
       "  <tbody>\n",
       "    <tr>\n",
       "      <th>0</th>\n",
       "      <td>1</td>\n",
       "      <td>2011</td>\n",
       "      <td>NaN</td>\n",
       "      <td>NaN</td>\n",
       "      <td>NaN</td>\n",
       "      <td>NaN</td>\n",
       "      <td>NaN</td>\n",
       "      <td>Back to the Future Part II (1989)</td>\n",
       "      <td>Adventure|Comedy|Sci-Fi</td>\n",
       "      <td>Adventure|Comedy|Sci-Fi</td>\n",
       "    </tr>\n",
       "    <tr>\n",
       "      <th>1</th>\n",
       "      <td>1</td>\n",
       "      <td>4144</td>\n",
       "      <td>NaN</td>\n",
       "      <td>NaN</td>\n",
       "      <td>NaN</td>\n",
       "      <td>NaN</td>\n",
       "      <td>NaN</td>\n",
       "      <td>In the Mood For Love (Fa yeung nin wa) (2000)</td>\n",
       "      <td>Drama|Romance</td>\n",
       "      <td>Drama|Romance</td>\n",
       "    </tr>\n",
       "    <tr>\n",
       "      <th>2</th>\n",
       "      <td>1</td>\n",
       "      <td>5767</td>\n",
       "      <td>NaN</td>\n",
       "      <td>NaN</td>\n",
       "      <td>NaN</td>\n",
       "      <td>NaN</td>\n",
       "      <td>NaN</td>\n",
       "      <td>Teddy Bear (Mis) (1981)</td>\n",
       "      <td>Comedy|Crime</td>\n",
       "      <td>Comedy|Crime</td>\n",
       "    </tr>\n",
       "    <tr>\n",
       "      <th>3</th>\n",
       "      <td>1</td>\n",
       "      <td>6711</td>\n",
       "      <td>Scarlett Johansson|Bill Murray|Akiko Takeshita...</td>\n",
       "      <td>Sofia Coppola</td>\n",
       "      <td>102.0</td>\n",
       "      <td>$4,000,000</td>\n",
       "      <td>older man younger woman relationship|lonelines...</td>\n",
       "      <td>Lost in Translation (2003)</td>\n",
       "      <td>Comedy|Drama|Romance</td>\n",
       "      <td>Scarlett Johansson|Bill Murray|Akiko Takeshita...</td>\n",
       "    </tr>\n",
       "    <tr>\n",
       "      <th>4</th>\n",
       "      <td>1</td>\n",
       "      <td>7318</td>\n",
       "      <td>Jim Caviezel|Maia Morgenstern|Christo Jivkov|F...</td>\n",
       "      <td>Benedict Fitzgerald</td>\n",
       "      <td>127.0</td>\n",
       "      <td>$30,000,000</td>\n",
       "      <td>suffering|torture|brutality|whipping</td>\n",
       "      <td>Passion of the Christ, The (2004)</td>\n",
       "      <td>Drama</td>\n",
       "      <td>Jim Caviezel|Maia Morgenstern|Christo Jivkov|F...</td>\n",
       "    </tr>\n",
       "  </tbody>\n",
       "</table>\n",
       "</div>"
      ],
      "text/plain": [
       "   userId  movieId                                         title_cast  \\\n",
       "0       1     2011                                                NaN   \n",
       "1       1     4144                                                NaN   \n",
       "2       1     5767                                                NaN   \n",
       "3       1     6711  Scarlett Johansson|Bill Murray|Akiko Takeshita...   \n",
       "4       1     7318  Jim Caviezel|Maia Morgenstern|Christo Jivkov|F...   \n",
       "\n",
       "              director  runtime       budget  \\\n",
       "0                  NaN      NaN          NaN   \n",
       "1                  NaN      NaN          NaN   \n",
       "2                  NaN      NaN          NaN   \n",
       "3        Sofia Coppola    102.0   $4,000,000   \n",
       "4  Benedict Fitzgerald    127.0  $30,000,000   \n",
       "\n",
       "                                       plot_keywords  \\\n",
       "0                                                NaN   \n",
       "1                                                NaN   \n",
       "2                                                NaN   \n",
       "3  older man younger woman relationship|lonelines...   \n",
       "4               suffering|torture|brutality|whipping   \n",
       "\n",
       "                                           title                   genres  \\\n",
       "0              Back to the Future Part II (1989)  Adventure|Comedy|Sci-Fi   \n",
       "1  In the Mood For Love (Fa yeung nin wa) (2000)            Drama|Romance   \n",
       "2                        Teddy Bear (Mis) (1981)             Comedy|Crime   \n",
       "3                     Lost in Translation (2003)     Comedy|Drama|Romance   \n",
       "4              Passion of the Christ, The (2004)                    Drama   \n",
       "\n",
       "                                           key_words  \n",
       "0                            Adventure|Comedy|Sci-Fi  \n",
       "1                                      Drama|Romance  \n",
       "2                                       Comedy|Crime  \n",
       "3  Scarlett Johansson|Bill Murray|Akiko Takeshita...  \n",
       "4  Jim Caviezel|Maia Morgenstern|Christo Jivkov|F...  "
      ]
     },
     "execution_count": 42,
     "metadata": {},
     "output_type": "execute_result"
    }
   ],
   "source": [
    "# Merge the columns listed above into a new column named key_words fot the test data\n",
    "test['key_words'] = (pd.Series(test[['title_cast', 'director', 'plot_keywords', 'genres']].fillna('')\n",
    "                      .values.tolist()).str.join(' '))\n",
    "test.head()"
   ]
  },
  {
   "cell_type": "code",
   "execution_count": 43,
   "id": "f1d65710",
   "metadata": {},
   "outputs": [
    {
     "name": "stdout",
     "output_type": "stream",
     "text": [
      " There are 0 numbers of NaN values in the test keywords column\n"
     ]
    }
   ],
   "source": [
    "# confrim the absense of NaN value in the key_word column for the test data\n",
    "nan = test['key_words'].isna().sum()\n",
    "print(f' There are {nan} numbers of NaN values in the test keywords column')"
   ]
  },
  {
   "cell_type": "markdown",
   "id": "931eedfc",
   "metadata": {},
   "source": [
    "#### Droping of colunms not needed\n",
    "\n",
    "Going forward, we drop colunms we have considered not realy important for the task at hand. The columns are listed below:\n",
    "- runtime\n",
    "- budget\n",
    "- timestamp\n",
    "- title\n",
    "- title_cast\n",
    "- director\n",
    "- plot_keywords \n",
    "- genres'"
   ]
  },
  {
   "cell_type": "code",
   "execution_count": 44,
   "id": "02fdc98d",
   "metadata": {},
   "outputs": [
    {
     "data": {
      "text/html": [
       "<div>\n",
       "<style scoped>\n",
       "    .dataframe tbody tr th:only-of-type {\n",
       "        vertical-align: middle;\n",
       "    }\n",
       "\n",
       "    .dataframe tbody tr th {\n",
       "        vertical-align: top;\n",
       "    }\n",
       "\n",
       "    .dataframe thead th {\n",
       "        text-align: right;\n",
       "    }\n",
       "</style>\n",
       "<table border=\"1\" class=\"dataframe\">\n",
       "  <thead>\n",
       "    <tr style=\"text-align: right;\">\n",
       "      <th></th>\n",
       "      <th>userId</th>\n",
       "      <th>movieId</th>\n",
       "      <th>rating</th>\n",
       "      <th>key_words</th>\n",
       "    </tr>\n",
       "  </thead>\n",
       "  <tbody>\n",
       "    <tr>\n",
       "      <th>0</th>\n",
       "      <td>1</td>\n",
       "      <td>3949</td>\n",
       "      <td>5.0</td>\n",
       "      <td>Ellen Burstyn|Jared Leto|Jennifer Connelly|Mar...</td>\n",
       "    </tr>\n",
       "    <tr>\n",
       "      <th>1</th>\n",
       "      <td>1</td>\n",
       "      <td>2351</td>\n",
       "      <td>4.5</td>\n",
       "      <td>Drama</td>\n",
       "    </tr>\n",
       "    <tr>\n",
       "      <th>2</th>\n",
       "      <td>1</td>\n",
       "      <td>2068</td>\n",
       "      <td>2.5</td>\n",
       "      <td>Drama|Fantasy|Mystery</td>\n",
       "    </tr>\n",
       "    <tr>\n",
       "      <th>3</th>\n",
       "      <td>1</td>\n",
       "      <td>27266</td>\n",
       "      <td>4.5</td>\n",
       "      <td>Tony Chiu-Wai Leung|Li Gong|Faye Wong|Takuya K...</td>\n",
       "    </tr>\n",
       "    <tr>\n",
       "      <th>4</th>\n",
       "      <td>1</td>\n",
       "      <td>7939</td>\n",
       "      <td>2.5</td>\n",
       "      <td>Drama</td>\n",
       "    </tr>\n",
       "  </tbody>\n",
       "</table>\n",
       "</div>"
      ],
      "text/plain": [
       "   userId  movieId  rating                                          key_words\n",
       "0       1     3949     5.0  Ellen Burstyn|Jared Leto|Jennifer Connelly|Mar...\n",
       "1       1     2351     4.5                                              Drama\n",
       "2       1     2068     2.5                              Drama|Fantasy|Mystery\n",
       "3       1    27266     4.5  Tony Chiu-Wai Leung|Li Gong|Faye Wong|Takuya K...\n",
       "4       1     7939     2.5                                              Drama"
      ]
     },
     "execution_count": 44,
     "metadata": {},
     "output_type": "execute_result"
    }
   ],
   "source": [
    "# Drop the above listed columns in the train data\n",
    "useful_train.drop(columns=['timestamp', 'runtime', 'budget','title', 'title_cast', 'director', \n",
    "                           'plot_keywords','genres'], inplace= True)\n",
    "useful_train.head()"
   ]
  },
  {
   "cell_type": "code",
   "execution_count": 46,
   "id": "df1e2b5a",
   "metadata": {},
   "outputs": [
    {
     "data": {
      "text/html": [
       "<div>\n",
       "<style scoped>\n",
       "    .dataframe tbody tr th:only-of-type {\n",
       "        vertical-align: middle;\n",
       "    }\n",
       "\n",
       "    .dataframe tbody tr th {\n",
       "        vertical-align: top;\n",
       "    }\n",
       "\n",
       "    .dataframe thead th {\n",
       "        text-align: right;\n",
       "    }\n",
       "</style>\n",
       "<table border=\"1\" class=\"dataframe\">\n",
       "  <thead>\n",
       "    <tr style=\"text-align: right;\">\n",
       "      <th></th>\n",
       "      <th>userId</th>\n",
       "      <th>movieId</th>\n",
       "      <th>key_words</th>\n",
       "    </tr>\n",
       "  </thead>\n",
       "  <tbody>\n",
       "    <tr>\n",
       "      <th>0</th>\n",
       "      <td>1</td>\n",
       "      <td>2011</td>\n",
       "      <td>Adventure|Comedy|Sci-Fi</td>\n",
       "    </tr>\n",
       "    <tr>\n",
       "      <th>1</th>\n",
       "      <td>1</td>\n",
       "      <td>4144</td>\n",
       "      <td>Drama|Romance</td>\n",
       "    </tr>\n",
       "    <tr>\n",
       "      <th>2</th>\n",
       "      <td>1</td>\n",
       "      <td>5767</td>\n",
       "      <td>Comedy|Crime</td>\n",
       "    </tr>\n",
       "    <tr>\n",
       "      <th>3</th>\n",
       "      <td>1</td>\n",
       "      <td>6711</td>\n",
       "      <td>Scarlett Johansson|Bill Murray|Akiko Takeshita...</td>\n",
       "    </tr>\n",
       "    <tr>\n",
       "      <th>4</th>\n",
       "      <td>1</td>\n",
       "      <td>7318</td>\n",
       "      <td>Jim Caviezel|Maia Morgenstern|Christo Jivkov|F...</td>\n",
       "    </tr>\n",
       "  </tbody>\n",
       "</table>\n",
       "</div>"
      ],
      "text/plain": [
       "   userId  movieId                                          key_words\n",
       "0       1     2011                            Adventure|Comedy|Sci-Fi\n",
       "1       1     4144                                      Drama|Romance\n",
       "2       1     5767                                       Comedy|Crime\n",
       "3       1     6711  Scarlett Johansson|Bill Murray|Akiko Takeshita...\n",
       "4       1     7318  Jim Caviezel|Maia Morgenstern|Christo Jivkov|F..."
      ]
     },
     "execution_count": 46,
     "metadata": {},
     "output_type": "execute_result"
    }
   ],
   "source": [
    "# Drop the above listed columns in the test data\n",
    "test.drop(columns=['runtime', 'budget','title', 'title_cast', 'director', \n",
    "                           'plot_keywords','genres'], inplace= True)\n",
    "test.head()"
   ]
  },
  {
   "cell_type": "markdown",
   "id": "4b5f4299",
   "metadata": {},
   "source": [
    "#### Data Formating\n",
    "\n",
    "As can be seen in the key_words colunm, each enity are separated by a '|', and this character which is a separator(delimiter) if left with the data, will affect the accuracy of our model, hence needs to be removed. \n",
    "\n",
    "To achieve this, we write a function called splitter, to operate on both the train and test dataset. "
   ]
  },
  {
   "cell_type": "code",
   "execution_count": 48,
   "id": "58c7d7b0",
   "metadata": {},
   "outputs": [],
   "source": [
    "# Remove delimeters(Separators) from string data\n",
    "def splitter(df, col_list, delim):\n",
    "    \"\"\"\n",
    "        This function accepts a dataframe(df) and a list of columns(col_list), which contains the delimiter\n",
    "        to be removed, it also accepts the delimiter which is to be removed\n",
    "    \"\"\"\n",
    "    new_df = df.copy()\n",
    "    \n",
    "    for col in col_list:\n",
    "        new_df[col] = new_df[col].str.split(delim).str.join(' ')\n",
    "    \n",
    "    return new_df"
   ]
  },
  {
   "cell_type": "code",
   "execution_count": 49,
   "id": "053055d1",
   "metadata": {},
   "outputs": [
    {
     "data": {
      "text/html": [
       "<div>\n",
       "<style scoped>\n",
       "    .dataframe tbody tr th:only-of-type {\n",
       "        vertical-align: middle;\n",
       "    }\n",
       "\n",
       "    .dataframe tbody tr th {\n",
       "        vertical-align: top;\n",
       "    }\n",
       "\n",
       "    .dataframe thead th {\n",
       "        text-align: right;\n",
       "    }\n",
       "</style>\n",
       "<table border=\"1\" class=\"dataframe\">\n",
       "  <thead>\n",
       "    <tr style=\"text-align: right;\">\n",
       "      <th></th>\n",
       "      <th>userId</th>\n",
       "      <th>movieId</th>\n",
       "      <th>rating</th>\n",
       "      <th>key_words</th>\n",
       "    </tr>\n",
       "  </thead>\n",
       "  <tbody>\n",
       "    <tr>\n",
       "      <th>0</th>\n",
       "      <td>1</td>\n",
       "      <td>3949</td>\n",
       "      <td>5.0</td>\n",
       "      <td>Ellen Burstyn Jared Leto Jennifer Connelly Mar...</td>\n",
       "    </tr>\n",
       "    <tr>\n",
       "      <th>1</th>\n",
       "      <td>1</td>\n",
       "      <td>2351</td>\n",
       "      <td>4.5</td>\n",
       "      <td>Drama</td>\n",
       "    </tr>\n",
       "    <tr>\n",
       "      <th>2</th>\n",
       "      <td>1</td>\n",
       "      <td>2068</td>\n",
       "      <td>2.5</td>\n",
       "      <td>Drama Fantasy Mystery</td>\n",
       "    </tr>\n",
       "    <tr>\n",
       "      <th>3</th>\n",
       "      <td>1</td>\n",
       "      <td>27266</td>\n",
       "      <td>4.5</td>\n",
       "      <td>Tony Chiu-Wai Leung Li Gong Faye Wong Takuya K...</td>\n",
       "    </tr>\n",
       "    <tr>\n",
       "      <th>4</th>\n",
       "      <td>1</td>\n",
       "      <td>7939</td>\n",
       "      <td>2.5</td>\n",
       "      <td>Drama</td>\n",
       "    </tr>\n",
       "  </tbody>\n",
       "</table>\n",
       "</div>"
      ],
      "text/plain": [
       "   userId  movieId  rating                                          key_words\n",
       "0       1     3949     5.0  Ellen Burstyn Jared Leto Jennifer Connelly Mar...\n",
       "1       1     2351     4.5                                              Drama\n",
       "2       1     2068     2.5                              Drama Fantasy Mystery\n",
       "3       1    27266     4.5  Tony Chiu-Wai Leung Li Gong Faye Wong Takuya K...\n",
       "4       1     7939     2.5                                              Drama"
      ]
     },
     "execution_count": 49,
     "metadata": {},
     "output_type": "execute_result"
    }
   ],
   "source": [
    "# Remove delimeter from key_words colunm in train data\n",
    "useful_train = splitter(useful_train, ['key_words'], '|')\n",
    "useful_train.head()"
   ]
  },
  {
   "cell_type": "code",
   "execution_count": 50,
   "id": "0392ede8",
   "metadata": {},
   "outputs": [
    {
     "data": {
      "text/html": [
       "<div>\n",
       "<style scoped>\n",
       "    .dataframe tbody tr th:only-of-type {\n",
       "        vertical-align: middle;\n",
       "    }\n",
       "\n",
       "    .dataframe tbody tr th {\n",
       "        vertical-align: top;\n",
       "    }\n",
       "\n",
       "    .dataframe thead th {\n",
       "        text-align: right;\n",
       "    }\n",
       "</style>\n",
       "<table border=\"1\" class=\"dataframe\">\n",
       "  <thead>\n",
       "    <tr style=\"text-align: right;\">\n",
       "      <th></th>\n",
       "      <th>userId</th>\n",
       "      <th>movieId</th>\n",
       "      <th>key_words</th>\n",
       "    </tr>\n",
       "  </thead>\n",
       "  <tbody>\n",
       "    <tr>\n",
       "      <th>0</th>\n",
       "      <td>1</td>\n",
       "      <td>2011</td>\n",
       "      <td>Adventure Comedy Sci-Fi</td>\n",
       "    </tr>\n",
       "    <tr>\n",
       "      <th>1</th>\n",
       "      <td>1</td>\n",
       "      <td>4144</td>\n",
       "      <td>Drama Romance</td>\n",
       "    </tr>\n",
       "    <tr>\n",
       "      <th>2</th>\n",
       "      <td>1</td>\n",
       "      <td>5767</td>\n",
       "      <td>Comedy Crime</td>\n",
       "    </tr>\n",
       "    <tr>\n",
       "      <th>3</th>\n",
       "      <td>1</td>\n",
       "      <td>6711</td>\n",
       "      <td>Scarlett Johansson Bill Murray Akiko Takeshita...</td>\n",
       "    </tr>\n",
       "    <tr>\n",
       "      <th>4</th>\n",
       "      <td>1</td>\n",
       "      <td>7318</td>\n",
       "      <td>Jim Caviezel Maia Morgenstern Christo Jivkov F...</td>\n",
       "    </tr>\n",
       "  </tbody>\n",
       "</table>\n",
       "</div>"
      ],
      "text/plain": [
       "   userId  movieId                                          key_words\n",
       "0       1     2011                            Adventure Comedy Sci-Fi\n",
       "1       1     4144                                      Drama Romance\n",
       "2       1     5767                                       Comedy Crime\n",
       "3       1     6711  Scarlett Johansson Bill Murray Akiko Takeshita...\n",
       "4       1     7318  Jim Caviezel Maia Morgenstern Christo Jivkov F..."
      ]
     },
     "execution_count": 50,
     "metadata": {},
     "output_type": "execute_result"
    }
   ],
   "source": [
    "# Remove delimeter from key_words colunm in test data\n",
    "test = splitter(test, ['key_words'], '|')\n",
    "test.head()"
   ]
  },
  {
   "cell_type": "markdown",
   "id": "d0de24a7",
   "metadata": {},
   "source": [
    "#### Dividing dataset into chunks\n",
    "\n",
    "We shall now proceed to divide both dataset into chunks. The numbers of chunk we have chosen is 162350, which is the numbers of unique userIds we have for both dataset. We do this to enables us save these chunks into local storage system of our machines, fetch these chunks back individualy and separately processing these chunks and making prediction afterwards. This act is necessary because our machines all have limited capacity, which prevents us from processing theses dataset at once.\n",
    "\n"
   ]
  },
  {
   "cell_type": "code",
   "execution_count": null,
   "id": "7189e9c9",
   "metadata": {},
   "outputs": [],
   "source": [
    "# A function that generate a list of chunks\n",
    "def create_chunk_list(df, col_ref, col_val):\n",
    "    \"\"\"\n",
    "        This function accepts a dataframe, the dataframe column and the colunm value to filter by\n",
    "        It returns a new dataframe, which is a datframe where the reference column matches the passed column value.\n",
    "    \"\"\"\n",
    "    new_df = df[df[col_ref] == col_val]\n",
    "        \n",
    "    return new_df\n",
    "            "
   ]
  },
  {
   "cell_type": "code",
   "execution_count": null,
   "id": "7921558d",
   "metadata": {},
   "outputs": [],
   "source": [
    "for i in range (162350):\n",
    "    extention = i + 1\n",
    "    chunk_name = \"train_chunk_{0}\".format(extention)\n",
    "    globals()[chunk_name] = create_chunk_list(globals()[chunk_name], 'userId', extention)\n",
    "    "
   ]
  },
  {
   "cell_type": "code",
   "execution_count": 22,
   "id": "212b8a6b",
   "metadata": {},
   "outputs": [
    {
     "data": {
      "text/html": [
       "<div>\n",
       "<style scoped>\n",
       "    .dataframe tbody tr th:only-of-type {\n",
       "        vertical-align: middle;\n",
       "    }\n",
       "\n",
       "    .dataframe tbody tr th {\n",
       "        vertical-align: top;\n",
       "    }\n",
       "\n",
       "    .dataframe thead th {\n",
       "        text-align: right;\n",
       "    }\n",
       "</style>\n",
       "<table border=\"1\" class=\"dataframe\">\n",
       "  <thead>\n",
       "    <tr style=\"text-align: right;\">\n",
       "      <th></th>\n",
       "      <th>userId</th>\n",
       "      <th>movieId</th>\n",
       "      <th>rating</th>\n",
       "      <th>timestamp</th>\n",
       "    </tr>\n",
       "  </thead>\n",
       "  <tbody>\n",
       "    <tr>\n",
       "      <th>5122500</th>\n",
       "      <td>1</td>\n",
       "      <td>3949</td>\n",
       "      <td>5.0</td>\n",
       "      <td>1147868678</td>\n",
       "    </tr>\n",
       "    <tr>\n",
       "      <th>9153002</th>\n",
       "      <td>1</td>\n",
       "      <td>1175</td>\n",
       "      <td>3.5</td>\n",
       "      <td>1147868826</td>\n",
       "    </tr>\n",
       "    <tr>\n",
       "      <th>6923102</th>\n",
       "      <td>1</td>\n",
       "      <td>6016</td>\n",
       "      <td>5.0</td>\n",
       "      <td>1147869090</td>\n",
       "    </tr>\n",
       "    <tr>\n",
       "      <th>724395</th>\n",
       "      <td>1</td>\n",
       "      <td>7323</td>\n",
       "      <td>3.5</td>\n",
       "      <td>1147869119</td>\n",
       "    </tr>\n",
       "    <tr>\n",
       "      <th>2805472</th>\n",
       "      <td>1</td>\n",
       "      <td>4973</td>\n",
       "      <td>4.5</td>\n",
       "      <td>1147869080</td>\n",
       "    </tr>\n",
       "  </tbody>\n",
       "</table>\n",
       "</div>"
      ],
      "text/plain": [
       "         userId  movieId  rating   timestamp\n",
       "5122500       1     3949     5.0  1147868678\n",
       "9153002       1     1175     3.5  1147868826\n",
       "6923102       1     6016     5.0  1147869090\n",
       "724395        1     7323     3.5  1147869119\n",
       "2805472       1     4973     4.5  1147869080"
      ]
     },
     "execution_count": 22,
     "metadata": {},
     "output_type": "execute_result"
    }
   ],
   "source": [
    "# Order train dataset by userId\n",
    "useful_train.sort_values(by=['userId'], inplace= True)\n",
    "useful_train.head()"
   ]
  },
  {
   "cell_type": "code",
   "execution_count": 23,
   "id": "ccd36d0e",
   "metadata": {},
   "outputs": [
    {
     "data": {
      "text/html": [
       "<div>\n",
       "<style scoped>\n",
       "    .dataframe tbody tr th:only-of-type {\n",
       "        vertical-align: middle;\n",
       "    }\n",
       "\n",
       "    .dataframe tbody tr th {\n",
       "        vertical-align: top;\n",
       "    }\n",
       "\n",
       "    .dataframe thead th {\n",
       "        text-align: right;\n",
       "    }\n",
       "</style>\n",
       "<table border=\"1\" class=\"dataframe\">\n",
       "  <thead>\n",
       "    <tr style=\"text-align: right;\">\n",
       "      <th></th>\n",
       "      <th>userId</th>\n",
       "      <th>movieId</th>\n",
       "      <th>rating</th>\n",
       "      <th>timestamp</th>\n",
       "    </tr>\n",
       "  </thead>\n",
       "  <tbody>\n",
       "    <tr>\n",
       "      <th>9103441</th>\n",
       "      <td>162541</td>\n",
       "      <td>2396</td>\n",
       "      <td>4.0</td>\n",
       "      <td>1240952712</td>\n",
       "    </tr>\n",
       "    <tr>\n",
       "      <th>547504</th>\n",
       "      <td>162541</td>\n",
       "      <td>4973</td>\n",
       "      <td>4.5</td>\n",
       "      <td>1240950790</td>\n",
       "    </tr>\n",
       "    <tr>\n",
       "      <th>7991803</th>\n",
       "      <td>162541</td>\n",
       "      <td>2539</td>\n",
       "      <td>1.0</td>\n",
       "      <td>1240950911</td>\n",
       "    </tr>\n",
       "    <tr>\n",
       "      <th>1861237</th>\n",
       "      <td>162541</td>\n",
       "      <td>1201</td>\n",
       "      <td>3.0</td>\n",
       "      <td>1240953800</td>\n",
       "    </tr>\n",
       "    <tr>\n",
       "      <th>9435687</th>\n",
       "      <td>162541</td>\n",
       "      <td>1230</td>\n",
       "      <td>3.5</td>\n",
       "      <td>1240951041</td>\n",
       "    </tr>\n",
       "  </tbody>\n",
       "</table>\n",
       "</div>"
      ],
      "text/plain": [
       "         userId  movieId  rating   timestamp\n",
       "9103441  162541     2396     4.0  1240952712\n",
       "547504   162541     4973     4.5  1240950790\n",
       "7991803  162541     2539     1.0  1240950911\n",
       "1861237  162541     1201     3.0  1240953800\n",
       "9435687  162541     1230     3.5  1240951041"
      ]
     },
     "execution_count": 23,
     "metadata": {},
     "output_type": "execute_result"
    }
   ],
   "source": [
    "# View the last five rows of the train data\n",
    "useful_train.tail()"
   ]
  },
  {
   "cell_type": "code",
   "execution_count": 24,
   "id": "2addb1fd",
   "metadata": {},
   "outputs": [
    {
     "name": "stdout",
     "output_type": "stream",
     "text": [
      "There are 162350 of different userIds in the useful train dataset\n"
     ]
    }
   ],
   "source": [
    "# Get the values of all userId into a list \n",
    "train_userids = useful_train['userId'].unique().tolist()\n",
    "print(f'There are {len(train_userids)} of different userIds in the useful train dataset')"
   ]
  },
  {
   "cell_type": "markdown",
   "id": "5ad3c514",
   "metadata": {},
   "source": [
    "#### Order the test dataset by userId"
   ]
  },
  {
   "cell_type": "code",
   "execution_count": 25,
   "id": "63162348",
   "metadata": {},
   "outputs": [
    {
     "data": {
      "text/html": [
       "<div>\n",
       "<style scoped>\n",
       "    .dataframe tbody tr th:only-of-type {\n",
       "        vertical-align: middle;\n",
       "    }\n",
       "\n",
       "    .dataframe tbody tr th {\n",
       "        vertical-align: top;\n",
       "    }\n",
       "\n",
       "    .dataframe thead th {\n",
       "        text-align: right;\n",
       "    }\n",
       "</style>\n",
       "<table border=\"1\" class=\"dataframe\">\n",
       "  <thead>\n",
       "    <tr style=\"text-align: right;\">\n",
       "      <th></th>\n",
       "      <th>userId</th>\n",
       "      <th>movieId</th>\n",
       "    </tr>\n",
       "  </thead>\n",
       "  <tbody>\n",
       "    <tr>\n",
       "      <th>0</th>\n",
       "      <td>1</td>\n",
       "      <td>2011</td>\n",
       "    </tr>\n",
       "    <tr>\n",
       "      <th>1</th>\n",
       "      <td>1</td>\n",
       "      <td>4144</td>\n",
       "    </tr>\n",
       "    <tr>\n",
       "      <th>2</th>\n",
       "      <td>1</td>\n",
       "      <td>5767</td>\n",
       "    </tr>\n",
       "    <tr>\n",
       "      <th>3</th>\n",
       "      <td>1</td>\n",
       "      <td>6711</td>\n",
       "    </tr>\n",
       "    <tr>\n",
       "      <th>4</th>\n",
       "      <td>1</td>\n",
       "      <td>7318</td>\n",
       "    </tr>\n",
       "  </tbody>\n",
       "</table>\n",
       "</div>"
      ],
      "text/plain": [
       "   userId  movieId\n",
       "0       1     2011\n",
       "1       1     4144\n",
       "2       1     5767\n",
       "3       1     6711\n",
       "4       1     7318"
      ]
     },
     "execution_count": 25,
     "metadata": {},
     "output_type": "execute_result"
    }
   ],
   "source": [
    "# Order test dataset \n",
    "useful_test = test.sort_values(by=['userId'])\n",
    "useful_test.head()"
   ]
  },
  {
   "cell_type": "code",
   "execution_count": 26,
   "id": "18537616",
   "metadata": {},
   "outputs": [
    {
     "data": {
      "text/html": [
       "<div>\n",
       "<style scoped>\n",
       "    .dataframe tbody tr th:only-of-type {\n",
       "        vertical-align: middle;\n",
       "    }\n",
       "\n",
       "    .dataframe tbody tr th {\n",
       "        vertical-align: top;\n",
       "    }\n",
       "\n",
       "    .dataframe thead th {\n",
       "        text-align: right;\n",
       "    }\n",
       "</style>\n",
       "<table border=\"1\" class=\"dataframe\">\n",
       "  <thead>\n",
       "    <tr style=\"text-align: right;\">\n",
       "      <th></th>\n",
       "      <th>userId</th>\n",
       "      <th>movieId</th>\n",
       "    </tr>\n",
       "  </thead>\n",
       "  <tbody>\n",
       "    <tr>\n",
       "      <th>4999993</th>\n",
       "      <td>162541</td>\n",
       "      <td>345</td>\n",
       "    </tr>\n",
       "    <tr>\n",
       "      <th>4999992</th>\n",
       "      <td>162541</td>\n",
       "      <td>150</td>\n",
       "    </tr>\n",
       "    <tr>\n",
       "      <th>5000017</th>\n",
       "      <td>162541</td>\n",
       "      <td>5689</td>\n",
       "    </tr>\n",
       "    <tr>\n",
       "      <th>5000004</th>\n",
       "      <td>162541</td>\n",
       "      <td>2324</td>\n",
       "    </tr>\n",
       "    <tr>\n",
       "      <th>5000018</th>\n",
       "      <td>162541</td>\n",
       "      <td>7153</td>\n",
       "    </tr>\n",
       "  </tbody>\n",
       "</table>\n",
       "</div>"
      ],
      "text/plain": [
       "         userId  movieId\n",
       "4999993  162541      345\n",
       "4999992  162541      150\n",
       "5000017  162541     5689\n",
       "5000004  162541     2324\n",
       "5000018  162541     7153"
      ]
     },
     "execution_count": 26,
     "metadata": {},
     "output_type": "execute_result"
    }
   ],
   "source": [
    "# View the last five rows of the test dataset\n",
    "useful_test.tail()"
   ]
  },
  {
   "cell_type": "markdown",
   "id": "4f4c15ff",
   "metadata": {},
   "source": [
    "From the above result, we proceed to divide 162350 by 40, which give an approximate value of 4059. Which means when we divide the useful train dataset into chuncks, we would have 4059 unique userIds in the first 39 chunks, and 4049 in the last chunks. "
   ]
  },
  {
   "cell_type": "markdown",
   "id": "7ba11263",
   "metadata": {},
   "source": [
    "### Compare userId's positions for both dataset"
   ]
  },
  {
   "cell_type": "code",
   "execution_count": 28,
   "id": "c6d9930f",
   "metadata": {},
   "outputs": [],
   "source": [
    "twotables = useful_test.copy\n",
    "# useful_test['userId'].compare(useful_train['userId'])"
   ]
  },
  {
   "cell_type": "code",
   "execution_count": 29,
   "id": "157b6123",
   "metadata": {},
   "outputs": [],
   "source": [
    "# A function that generate a list of chunks\n",
    "def create_chunk_list(obj, limit, cycle):\n",
    "    \"\"\"\n",
    "        This function accepts a list of data as obj argument, a limit value which is the maximum chunk size in each \n",
    "        chunk and a cycle, which is the numbers/size of chunks to be created\n",
    "    \"\"\"\n",
    "    chunks = []\n",
    "    start = 0\n",
    "    new_limit = limit\n",
    "    for i in range(cycle):\n",
    "        chunks.append(obj[start:new_limit])\n",
    "        start = start + limit\n",
    "        new_limit = new_limit + limit\n",
    "        \n",
    "    return chunks\n",
    "            "
   ]
  },
  {
   "cell_type": "code",
   "execution_count": 30,
   "id": "f36b88ea",
   "metadata": {},
   "outputs": [
    {
     "name": "stdout",
     "output_type": "stream",
     "text": [
      "We have 1624 chunks of dataset\n",
      "The length of the first chunk is: 100\n",
      "The length of the 1623 chunk is: 100\n",
      "The length of the last chunk is: 50\n"
     ]
    }
   ],
   "source": [
    "# Create 1624 chunks of userId, with a chunk size of 100\n",
    "userId_chunks = create_chunk_list(train_userids, 100, 1624)\n",
    "\n",
    "# Random evaluation of the userId chunk size\n",
    "print(f'We have {len(userId_chunks)} chunks of dataset')\n",
    "print(f'The length of the first chunk is: {len(userId_chunks[0])}')\n",
    "print(f'The length of the 1623 chunk is: {len(userId_chunks[1622])}')\n",
    "print(f'The length of the last chunk is: {len(userId_chunks[-1])}')"
   ]
  },
  {
   "cell_type": "markdown",
   "id": "96b7dbfa",
   "metadata": {},
   "source": [
    "We separated the uniqueIds into 16234 chuncks which gives us 100 unique userIds in each of the first 1623 chunks and \n",
    "50 unique userId in the last chunk.\n",
    "For proper understanding, let us view the first 10 userIds in three random chunks"
   ]
  },
  {
   "cell_type": "code",
   "execution_count": 31,
   "id": "b470e482",
   "metadata": {},
   "outputs": [
    {
     "name": "stdout",
     "output_type": "stream",
     "text": [
      "The first 10 userIds in the first chunk are: [1, 2, 3, 4, 5, 6, 7, 8, 9, 10]\n",
      "The first 10 userIds in the 1623 chunk is: [162392, 162393, 162394, 162395, 162396, 162397, 162398, 162399, 162400, 162401]\n",
      "The first 10 userIds in the last chunk is: [162492, 162493, 162494, 162495, 162496, 162497, 162498, 162499, 162500, 162501]\n"
     ]
    }
   ],
   "source": [
    "# Random evaluation of the first 10 userids in the chunks created above\n",
    "\n",
    "print(f'The first 10 userIds in the first chunk are: {userId_chunks[0][:10]}')\n",
    "print(f'The first 10 userIds in the 1623 chunk is: {userId_chunks[1622][:10]}')\n",
    "print(f'The first 10 userIds in the last chunk is: {userId_chunks[-1][:10]}')"
   ]
  },
  {
   "cell_type": "markdown",
   "id": "a79d1358",
   "metadata": {},
   "source": [
    "#### Divide dataset\n",
    "\n",
    "For simplicity and explanatory reasons, we have chosen to divide the dataset manually i.e one line at a time. A faster will be to dynamically create it and store in a list. This operation will generate **train_chunk_1** to **train_chunk_1623**"
   ]
  },
  {
   "cell_type": "code",
   "execution_count": 32,
   "id": "d53c88d5",
   "metadata": {},
   "outputs": [],
   "source": [
    "# Divide useful trian into chunks, to create train_chunk_1 to train_chunk_40\n",
    "train_chunks_name = []\n",
    "for index, chunkId in enumerate(userId_chunks):\n",
    "    chunk_name = \"train_chunk_{0}\".format(index + 1)\n",
    "    globals()[chunk_name] = useful_train[useful_train['userId'].isin(chunkId)]\n",
    "    train_chunks_name.append(chunk_name)\n",
    "    \n",
    "# THE ABOVE AS A FUNCTION\n",
    "# def chunk_dataframe(df,col , chunk_ref):\n",
    "#     \"\"\"\n",
    "#         This function accepts a dataframe and a chunk reference, which it uses to create smaller pieces of dataframe\n",
    "#         as a chunk to the inputed dataframe. It returns a list of chunked dataframe.\n",
    "#     \"\"\"\n",
    "#     df_chunks = []\n",
    "#     for index, chunkId in enumerate(chunk_ref):\n",
    "#         chunk_name = \"train_chunk_{0}\".format(index + 1)\n",
    "#         globals()[chunk_name] = df[df[col].isin(chunkId)]\n",
    "#         df_chunks.append(chunk_name)\n",
    "        \n",
    "#     return df_chunks"
   ]
  },
  {
   "cell_type": "code",
   "execution_count": 52,
   "id": "664df38a",
   "metadata": {},
   "outputs": [],
   "source": [
    "# Divide useful test dataset into chunks, to create train_chunk_1 to train_chunk_40\n",
    "test_chunks_name = []\n",
    "for index, chunkId in enumerate(userId_chunks):\n",
    "    chunk_name = \"test_chunk_{0}\".format(index + 1)\n",
    "    globals()[chunk_name] = useful_test[useful_test['userId'].isin(chunkId)]\n",
    "    test_chunks_name.append(chunk_name)"
   ]
  },
  {
   "cell_type": "code",
   "execution_count": 33,
   "id": "5f75d1bb",
   "metadata": {},
   "outputs": [
    {
     "data": {
      "text/html": [
       "<div>\n",
       "<style scoped>\n",
       "    .dataframe tbody tr th:only-of-type {\n",
       "        vertical-align: middle;\n",
       "    }\n",
       "\n",
       "    .dataframe tbody tr th {\n",
       "        vertical-align: top;\n",
       "    }\n",
       "\n",
       "    .dataframe thead th {\n",
       "        text-align: right;\n",
       "    }\n",
       "</style>\n",
       "<table border=\"1\" class=\"dataframe\">\n",
       "  <thead>\n",
       "    <tr style=\"text-align: right;\">\n",
       "      <th></th>\n",
       "      <th>userId</th>\n",
       "      <th>movieId</th>\n",
       "      <th>rating</th>\n",
       "      <th>timestamp</th>\n",
       "    </tr>\n",
       "  </thead>\n",
       "  <tbody>\n",
       "    <tr>\n",
       "      <th>5122500</th>\n",
       "      <td>1</td>\n",
       "      <td>3949</td>\n",
       "      <td>5.0</td>\n",
       "      <td>1147868678</td>\n",
       "    </tr>\n",
       "    <tr>\n",
       "      <th>9153002</th>\n",
       "      <td>1</td>\n",
       "      <td>1175</td>\n",
       "      <td>3.5</td>\n",
       "      <td>1147868826</td>\n",
       "    </tr>\n",
       "    <tr>\n",
       "      <th>6923102</th>\n",
       "      <td>1</td>\n",
       "      <td>6016</td>\n",
       "      <td>5.0</td>\n",
       "      <td>1147869090</td>\n",
       "    </tr>\n",
       "    <tr>\n",
       "      <th>724395</th>\n",
       "      <td>1</td>\n",
       "      <td>7323</td>\n",
       "      <td>3.5</td>\n",
       "      <td>1147869119</td>\n",
       "    </tr>\n",
       "    <tr>\n",
       "      <th>2805472</th>\n",
       "      <td>1</td>\n",
       "      <td>4973</td>\n",
       "      <td>4.5</td>\n",
       "      <td>1147869080</td>\n",
       "    </tr>\n",
       "  </tbody>\n",
       "</table>\n",
       "</div>"
      ],
      "text/plain": [
       "         userId  movieId  rating   timestamp\n",
       "5122500       1     3949     5.0  1147868678\n",
       "9153002       1     1175     3.5  1147868826\n",
       "6923102       1     6016     5.0  1147869090\n",
       "724395        1     7323     3.5  1147869119\n",
       "2805472       1     4973     4.5  1147869080"
      ]
     },
     "execution_count": 33,
     "metadata": {},
     "output_type": "execute_result"
    }
   ],
   "source": [
    "#Test the above operation by printing the first five rows of the first chunk and the last five rows of the last chunk\n",
    "train_chunk_1.head()"
   ]
  },
  {
   "cell_type": "code",
   "execution_count": 34,
   "id": "de38329b",
   "metadata": {},
   "outputs": [
    {
     "data": {
      "text/html": [
       "<div>\n",
       "<style scoped>\n",
       "    .dataframe tbody tr th:only-of-type {\n",
       "        vertical-align: middle;\n",
       "    }\n",
       "\n",
       "    .dataframe tbody tr th {\n",
       "        vertical-align: top;\n",
       "    }\n",
       "\n",
       "    .dataframe thead th {\n",
       "        text-align: right;\n",
       "    }\n",
       "</style>\n",
       "<table border=\"1\" class=\"dataframe\">\n",
       "  <thead>\n",
       "    <tr style=\"text-align: right;\">\n",
       "      <th></th>\n",
       "      <th>userId</th>\n",
       "      <th>movieId</th>\n",
       "      <th>rating</th>\n",
       "      <th>timestamp</th>\n",
       "    </tr>\n",
       "  </thead>\n",
       "  <tbody>\n",
       "    <tr>\n",
       "      <th>9103441</th>\n",
       "      <td>162541</td>\n",
       "      <td>2396</td>\n",
       "      <td>4.0</td>\n",
       "      <td>1240952712</td>\n",
       "    </tr>\n",
       "    <tr>\n",
       "      <th>547504</th>\n",
       "      <td>162541</td>\n",
       "      <td>4973</td>\n",
       "      <td>4.5</td>\n",
       "      <td>1240950790</td>\n",
       "    </tr>\n",
       "    <tr>\n",
       "      <th>7991803</th>\n",
       "      <td>162541</td>\n",
       "      <td>2539</td>\n",
       "      <td>1.0</td>\n",
       "      <td>1240950911</td>\n",
       "    </tr>\n",
       "    <tr>\n",
       "      <th>1861237</th>\n",
       "      <td>162541</td>\n",
       "      <td>1201</td>\n",
       "      <td>3.0</td>\n",
       "      <td>1240953800</td>\n",
       "    </tr>\n",
       "    <tr>\n",
       "      <th>9435687</th>\n",
       "      <td>162541</td>\n",
       "      <td>1230</td>\n",
       "      <td>3.5</td>\n",
       "      <td>1240951041</td>\n",
       "    </tr>\n",
       "  </tbody>\n",
       "</table>\n",
       "</div>"
      ],
      "text/plain": [
       "         userId  movieId  rating   timestamp\n",
       "9103441  162541     2396     4.0  1240952712\n",
       "547504   162541     4973     4.5  1240950790\n",
       "7991803  162541     2539     1.0  1240950911\n",
       "1861237  162541     1201     3.0  1240953800\n",
       "9435687  162541     1230     3.5  1240951041"
      ]
     },
     "execution_count": 34,
     "metadata": {},
     "output_type": "execute_result"
    }
   ],
   "source": [
    "# View the last five rows of the last chunk of the train data\n",
    "train_chunk_1624.tail()"
   ]
  },
  {
   "cell_type": "code",
   "execution_count": 54,
   "id": "196cca93",
   "metadata": {},
   "outputs": [
    {
     "data": {
      "text/html": [
       "<div>\n",
       "<style scoped>\n",
       "    .dataframe tbody tr th:only-of-type {\n",
       "        vertical-align: middle;\n",
       "    }\n",
       "\n",
       "    .dataframe tbody tr th {\n",
       "        vertical-align: top;\n",
       "    }\n",
       "\n",
       "    .dataframe thead th {\n",
       "        text-align: right;\n",
       "    }\n",
       "</style>\n",
       "<table border=\"1\" class=\"dataframe\">\n",
       "  <thead>\n",
       "    <tr style=\"text-align: right;\">\n",
       "      <th></th>\n",
       "      <th>userId</th>\n",
       "      <th>movieId</th>\n",
       "    </tr>\n",
       "  </thead>\n",
       "  <tbody>\n",
       "    <tr>\n",
       "      <th>4999993</th>\n",
       "      <td>162541</td>\n",
       "      <td>345</td>\n",
       "    </tr>\n",
       "    <tr>\n",
       "      <th>4999992</th>\n",
       "      <td>162541</td>\n",
       "      <td>150</td>\n",
       "    </tr>\n",
       "    <tr>\n",
       "      <th>5000017</th>\n",
       "      <td>162541</td>\n",
       "      <td>5689</td>\n",
       "    </tr>\n",
       "    <tr>\n",
       "      <th>5000004</th>\n",
       "      <td>162541</td>\n",
       "      <td>2324</td>\n",
       "    </tr>\n",
       "    <tr>\n",
       "      <th>5000018</th>\n",
       "      <td>162541</td>\n",
       "      <td>7153</td>\n",
       "    </tr>\n",
       "  </tbody>\n",
       "</table>\n",
       "</div>"
      ],
      "text/plain": [
       "         userId  movieId\n",
       "4999993  162541      345\n",
       "4999992  162541      150\n",
       "5000017  162541     5689\n",
       "5000004  162541     2324\n",
       "5000018  162541     7153"
      ]
     },
     "execution_count": 54,
     "metadata": {},
     "output_type": "execute_result"
    }
   ],
   "source": [
    "# View the last five rows of the last chunk of the test data\n",
    "test_chunk_1624.tail()"
   ]
  },
  {
   "cell_type": "code",
   "execution_count": 35,
   "id": "b8a9369f",
   "metadata": {},
   "outputs": [
    {
     "name": "stdout",
     "output_type": "stream",
     "text": [
      "The first chunk name created above is: train_chunk_1\n",
      "The last chunk name created above is: train_chunk_1624\n"
     ]
    }
   ],
   "source": [
    "# View the first and last chunk names created above\n",
    "print(f'The first chunk name created above is: {train_chunks_name[0]}')\n",
    "print(f'The last chunk name created above is: {train_chunks_name[-1]}')"
   ]
  },
  {
   "cell_type": "code",
   "execution_count": 55,
   "id": "3f5b1332",
   "metadata": {},
   "outputs": [
    {
     "name": "stdout",
     "output_type": "stream",
     "text": [
      "The first chunk name created above is: test_chunk_1\n",
      "The last chunk name created above is: test_chunk_1624\n"
     ]
    }
   ],
   "source": [
    "# View the first and last test dataset chunk names created above\n",
    "print(f'The first chunk name created above is: {test_chunks_name[0]}')\n",
    "print(f'The last chunk name created above is: {test_chunks_name[-1]}')"
   ]
  },
  {
   "cell_type": "markdown",
   "id": "8dfbe610",
   "metadata": {},
   "source": [
    "#### Merging of tables\n",
    "\n",
    "We proceed to merge tables with all train_chunks dataset created above. We execute this merge operation, using the userId as a reference. This operation will generate variables **merge_table_1** to **merge_table_40**"
   ]
  },
  {
   "cell_type": "code",
   "execution_count": 36,
   "id": "f5093e0f",
   "metadata": {},
   "outputs": [
    {
     "data": {
      "text/html": [
       "<div>\n",
       "<style scoped>\n",
       "    .dataframe tbody tr th:only-of-type {\n",
       "        vertical-align: middle;\n",
       "    }\n",
       "\n",
       "    .dataframe tbody tr th {\n",
       "        vertical-align: top;\n",
       "    }\n",
       "\n",
       "    .dataframe thead th {\n",
       "        text-align: right;\n",
       "    }\n",
       "</style>\n",
       "<table border=\"1\" class=\"dataframe\">\n",
       "  <thead>\n",
       "    <tr style=\"text-align: right;\">\n",
       "      <th></th>\n",
       "      <th>userId</th>\n",
       "      <th>movieId</th>\n",
       "      <th>rating</th>\n",
       "      <th>timestamp</th>\n",
       "      <th>title_cast</th>\n",
       "      <th>director</th>\n",
       "      <th>runtime</th>\n",
       "      <th>budget</th>\n",
       "      <th>plot_keywords</th>\n",
       "    </tr>\n",
       "  </thead>\n",
       "  <tbody>\n",
       "    <tr>\n",
       "      <th>0</th>\n",
       "      <td>1</td>\n",
       "      <td>3949</td>\n",
       "      <td>5.0</td>\n",
       "      <td>1147868678</td>\n",
       "      <td>Ellen Burstyn|Jared Leto|Jennifer Connelly|Mar...</td>\n",
       "      <td>Hubert Selby Jr.</td>\n",
       "      <td>102.0</td>\n",
       "      <td>$4,500,000</td>\n",
       "      <td>drug addiction|heroin|sex show|sex scene</td>\n",
       "    </tr>\n",
       "    <tr>\n",
       "      <th>1</th>\n",
       "      <td>1</td>\n",
       "      <td>1175</td>\n",
       "      <td>3.5</td>\n",
       "      <td>1147868826</td>\n",
       "      <td>Pascal Benezech|Dominique Pinon|Marie-Laure Do...</td>\n",
       "      <td>Jean-Pierre Jeunet</td>\n",
       "      <td>99.0</td>\n",
       "      <td>FRF24,000,000</td>\n",
       "      <td>black comedy|absurd comedy|surrealist|bed</td>\n",
       "    </tr>\n",
       "    <tr>\n",
       "      <th>2</th>\n",
       "      <td>1</td>\n",
       "      <td>6016</td>\n",
       "      <td>5.0</td>\n",
       "      <td>1147869090</td>\n",
       "      <td>Alexandre Rodrigues|Leandro Firmino|Phellipe H...</td>\n",
       "      <td>Kátia Lund</td>\n",
       "      <td>130.0</td>\n",
       "      <td>$3,300,000</td>\n",
       "      <td>photographer|slum|gang|brazil</td>\n",
       "    </tr>\n",
       "    <tr>\n",
       "      <th>3</th>\n",
       "      <td>1</td>\n",
       "      <td>7323</td>\n",
       "      <td>3.5</td>\n",
       "      <td>1147869119</td>\n",
       "      <td>Daniel Brühl|Katrin Saß|Chulpan Khamatova|Mari...</td>\n",
       "      <td>Bernd Lichtenberg</td>\n",
       "      <td>121.0</td>\n",
       "      <td>EUR4,800,000</td>\n",
       "      <td>coma|german democratic republic|capitalism|pol...</td>\n",
       "    </tr>\n",
       "    <tr>\n",
       "      <th>4</th>\n",
       "      <td>1</td>\n",
       "      <td>4973</td>\n",
       "      <td>4.5</td>\n",
       "      <td>1147869080</td>\n",
       "      <td>Audrey Tautou|Mathieu Kassovitz|Rufus|Lorella ...</td>\n",
       "      <td>Guillaume Laurant</td>\n",
       "      <td>122.0</td>\n",
       "      <td>$10,000,000</td>\n",
       "      <td>female protagonist|paris france|france|montmar...</td>\n",
       "    </tr>\n",
       "  </tbody>\n",
       "</table>\n",
       "</div>"
      ],
      "text/plain": [
       "   userId  movieId  rating   timestamp  \\\n",
       "0       1     3949     5.0  1147868678   \n",
       "1       1     1175     3.5  1147868826   \n",
       "2       1     6016     5.0  1147869090   \n",
       "3       1     7323     3.5  1147869119   \n",
       "4       1     4973     4.5  1147869080   \n",
       "\n",
       "                                          title_cast            director  \\\n",
       "0  Ellen Burstyn|Jared Leto|Jennifer Connelly|Mar...    Hubert Selby Jr.   \n",
       "1  Pascal Benezech|Dominique Pinon|Marie-Laure Do...  Jean-Pierre Jeunet   \n",
       "2  Alexandre Rodrigues|Leandro Firmino|Phellipe H...          Kátia Lund   \n",
       "3  Daniel Brühl|Katrin Saß|Chulpan Khamatova|Mari...   Bernd Lichtenberg   \n",
       "4  Audrey Tautou|Mathieu Kassovitz|Rufus|Lorella ...   Guillaume Laurant   \n",
       "\n",
       "   runtime         budget                                      plot_keywords  \n",
       "0    102.0     $4,500,000           drug addiction|heroin|sex show|sex scene  \n",
       "1     99.0  FRF24,000,000          black comedy|absurd comedy|surrealist|bed  \n",
       "2    130.0     $3,300,000                      photographer|slum|gang|brazil  \n",
       "3    121.0   EUR4,800,000  coma|german democratic republic|capitalism|pol...  \n",
       "4    122.0    $10,000,000  female protagonist|paris france|france|montmar...  "
      ]
     },
     "execution_count": 36,
     "metadata": {},
     "output_type": "execute_result"
    }
   ],
   "source": [
    "# Merge chunk with imdb_data \n",
    "merge_chunks_name = []\n",
    "for index, chunk_name in enumerate(train_chunks_name):\n",
    "    merge_name = \"merge_chunk_{0}\".format(index + 1)\n",
    "    globals()[merge_name] = globals()[chunk_name].merge(imdb_data, on = 'movieId', how= 'left')\n",
    "    merge_chunks_name.append(merge_name)\n",
    "    \n",
    "# View the result of the first five rows in the first merged chunks\n",
    "merge_chunk_1.head()"
   ]
  },
  {
   "cell_type": "code",
   "execution_count": 56,
   "id": "21cbba51",
   "metadata": {},
   "outputs": [
    {
     "data": {
      "text/html": [
       "<div>\n",
       "<style scoped>\n",
       "    .dataframe tbody tr th:only-of-type {\n",
       "        vertical-align: middle;\n",
       "    }\n",
       "\n",
       "    .dataframe tbody tr th {\n",
       "        vertical-align: top;\n",
       "    }\n",
       "\n",
       "    .dataframe thead th {\n",
       "        text-align: right;\n",
       "    }\n",
       "</style>\n",
       "<table border=\"1\" class=\"dataframe\">\n",
       "  <thead>\n",
       "    <tr style=\"text-align: right;\">\n",
       "      <th></th>\n",
       "      <th>userId</th>\n",
       "      <th>movieId</th>\n",
       "      <th>title_cast</th>\n",
       "      <th>director</th>\n",
       "      <th>runtime</th>\n",
       "      <th>budget</th>\n",
       "      <th>plot_keywords</th>\n",
       "    </tr>\n",
       "  </thead>\n",
       "  <tbody>\n",
       "    <tr>\n",
       "      <th>0</th>\n",
       "      <td>1</td>\n",
       "      <td>2011</td>\n",
       "      <td>NaN</td>\n",
       "      <td>NaN</td>\n",
       "      <td>NaN</td>\n",
       "      <td>NaN</td>\n",
       "      <td>NaN</td>\n",
       "    </tr>\n",
       "    <tr>\n",
       "      <th>1</th>\n",
       "      <td>1</td>\n",
       "      <td>4144</td>\n",
       "      <td>NaN</td>\n",
       "      <td>NaN</td>\n",
       "      <td>NaN</td>\n",
       "      <td>NaN</td>\n",
       "      <td>NaN</td>\n",
       "    </tr>\n",
       "    <tr>\n",
       "      <th>2</th>\n",
       "      <td>1</td>\n",
       "      <td>5767</td>\n",
       "      <td>NaN</td>\n",
       "      <td>NaN</td>\n",
       "      <td>NaN</td>\n",
       "      <td>NaN</td>\n",
       "      <td>NaN</td>\n",
       "    </tr>\n",
       "    <tr>\n",
       "      <th>3</th>\n",
       "      <td>1</td>\n",
       "      <td>6711</td>\n",
       "      <td>Scarlett Johansson|Bill Murray|Akiko Takeshita...</td>\n",
       "      <td>Sofia Coppola</td>\n",
       "      <td>102.0</td>\n",
       "      <td>$4,000,000</td>\n",
       "      <td>older man younger woman relationship|lonelines...</td>\n",
       "    </tr>\n",
       "    <tr>\n",
       "      <th>4</th>\n",
       "      <td>1</td>\n",
       "      <td>7318</td>\n",
       "      <td>Jim Caviezel|Maia Morgenstern|Christo Jivkov|F...</td>\n",
       "      <td>Benedict Fitzgerald</td>\n",
       "      <td>127.0</td>\n",
       "      <td>$30,000,000</td>\n",
       "      <td>suffering|torture|brutality|whipping</td>\n",
       "    </tr>\n",
       "  </tbody>\n",
       "</table>\n",
       "</div>"
      ],
      "text/plain": [
       "   userId  movieId                                         title_cast  \\\n",
       "0       1     2011                                                NaN   \n",
       "1       1     4144                                                NaN   \n",
       "2       1     5767                                                NaN   \n",
       "3       1     6711  Scarlett Johansson|Bill Murray|Akiko Takeshita...   \n",
       "4       1     7318  Jim Caviezel|Maia Morgenstern|Christo Jivkov|F...   \n",
       "\n",
       "              director  runtime       budget  \\\n",
       "0                  NaN      NaN          NaN   \n",
       "1                  NaN      NaN          NaN   \n",
       "2                  NaN      NaN          NaN   \n",
       "3        Sofia Coppola    102.0   $4,000,000   \n",
       "4  Benedict Fitzgerald    127.0  $30,000,000   \n",
       "\n",
       "                                       plot_keywords  \n",
       "0                                                NaN  \n",
       "1                                                NaN  \n",
       "2                                                NaN  \n",
       "3  older man younger woman relationship|lonelines...  \n",
       "4               suffering|torture|brutality|whipping  "
      ]
     },
     "execution_count": 56,
     "metadata": {},
     "output_type": "execute_result"
    }
   ],
   "source": [
    "# Merge test chunk with imdb_data \n",
    "test_merge_chunks_name = []\n",
    "for index, chunk_name in enumerate(test_chunks_name):\n",
    "    merge_name = \"test_merge_chunk_{0}\".format(index + 1)\n",
    "    globals()[merge_name] = globals()[chunk_name].merge(imdb_data, on = 'movieId', how= 'left')\n",
    "    test_merge_chunks_name.append(merge_name)\n",
    "    \n",
    "# View the result of the first five rows in the first merged chunks\n",
    "test_merge_chunk_1.head()"
   ]
  },
  {
   "cell_type": "code",
   "execution_count": 37,
   "id": "119c8e2e",
   "metadata": {},
   "outputs": [
    {
     "data": {
      "text/html": [
       "<div>\n",
       "<style scoped>\n",
       "    .dataframe tbody tr th:only-of-type {\n",
       "        vertical-align: middle;\n",
       "    }\n",
       "\n",
       "    .dataframe tbody tr th {\n",
       "        vertical-align: top;\n",
       "    }\n",
       "\n",
       "    .dataframe thead th {\n",
       "        text-align: right;\n",
       "    }\n",
       "</style>\n",
       "<table border=\"1\" class=\"dataframe\">\n",
       "  <thead>\n",
       "    <tr style=\"text-align: right;\">\n",
       "      <th></th>\n",
       "      <th>userId</th>\n",
       "      <th>movieId</th>\n",
       "      <th>rating</th>\n",
       "      <th>timestamp</th>\n",
       "      <th>title_cast</th>\n",
       "      <th>director</th>\n",
       "      <th>runtime</th>\n",
       "      <th>budget</th>\n",
       "      <th>plot_keywords</th>\n",
       "    </tr>\n",
       "  </thead>\n",
       "  <tbody>\n",
       "    <tr>\n",
       "      <th>5336</th>\n",
       "      <td>162541</td>\n",
       "      <td>2396</td>\n",
       "      <td>4.0</td>\n",
       "      <td>1240952712</td>\n",
       "      <td>Geoffrey Rush|Tom Wilkinson|Steven O'Donnell|T...</td>\n",
       "      <td>John Madden</td>\n",
       "      <td>123.0</td>\n",
       "      <td>$25,000,000</td>\n",
       "      <td>william shakespeare character|shakespeare play...</td>\n",
       "    </tr>\n",
       "    <tr>\n",
       "      <th>5337</th>\n",
       "      <td>162541</td>\n",
       "      <td>4973</td>\n",
       "      <td>4.5</td>\n",
       "      <td>1240950790</td>\n",
       "      <td>Audrey Tautou|Mathieu Kassovitz|Rufus|Lorella ...</td>\n",
       "      <td>Guillaume Laurant</td>\n",
       "      <td>122.0</td>\n",
       "      <td>$10,000,000</td>\n",
       "      <td>female protagonist|paris france|france|montmar...</td>\n",
       "    </tr>\n",
       "    <tr>\n",
       "      <th>5338</th>\n",
       "      <td>162541</td>\n",
       "      <td>2539</td>\n",
       "      <td>1.0</td>\n",
       "      <td>1240950911</td>\n",
       "      <td>Robert De Niro|Billy Crystal|Lisa Kudrow|Chazz...</td>\n",
       "      <td>Kenneth Lonergan</td>\n",
       "      <td>103.0</td>\n",
       "      <td>$80,000,000</td>\n",
       "      <td>sex scene|mafia boss|mob boss|sexual intercourse</td>\n",
       "    </tr>\n",
       "    <tr>\n",
       "      <th>5339</th>\n",
       "      <td>162541</td>\n",
       "      <td>1201</td>\n",
       "      <td>3.0</td>\n",
       "      <td>1240953800</td>\n",
       "      <td>NaN</td>\n",
       "      <td>NaN</td>\n",
       "      <td>NaN</td>\n",
       "      <td>NaN</td>\n",
       "      <td>NaN</td>\n",
       "    </tr>\n",
       "    <tr>\n",
       "      <th>5340</th>\n",
       "      <td>162541</td>\n",
       "      <td>1230</td>\n",
       "      <td>3.5</td>\n",
       "      <td>1240951041</td>\n",
       "      <td>NaN</td>\n",
       "      <td>NaN</td>\n",
       "      <td>NaN</td>\n",
       "      <td>NaN</td>\n",
       "      <td>NaN</td>\n",
       "    </tr>\n",
       "  </tbody>\n",
       "</table>\n",
       "</div>"
      ],
      "text/plain": [
       "      userId  movieId  rating   timestamp  \\\n",
       "5336  162541     2396     4.0  1240952712   \n",
       "5337  162541     4973     4.5  1240950790   \n",
       "5338  162541     2539     1.0  1240950911   \n",
       "5339  162541     1201     3.0  1240953800   \n",
       "5340  162541     1230     3.5  1240951041   \n",
       "\n",
       "                                             title_cast           director  \\\n",
       "5336  Geoffrey Rush|Tom Wilkinson|Steven O'Donnell|T...        John Madden   \n",
       "5337  Audrey Tautou|Mathieu Kassovitz|Rufus|Lorella ...  Guillaume Laurant   \n",
       "5338  Robert De Niro|Billy Crystal|Lisa Kudrow|Chazz...   Kenneth Lonergan   \n",
       "5339                                                NaN                NaN   \n",
       "5340                                                NaN                NaN   \n",
       "\n",
       "      runtime       budget                                      plot_keywords  \n",
       "5336    123.0  $25,000,000  william shakespeare character|shakespeare play...  \n",
       "5337    122.0  $10,000,000  female protagonist|paris france|france|montmar...  \n",
       "5338    103.0  $80,000,000   sex scene|mafia boss|mob boss|sexual intercourse  \n",
       "5339      NaN          NaN                                                NaN  \n",
       "5340      NaN          NaN                                                NaN  "
      ]
     },
     "execution_count": 37,
     "metadata": {},
     "output_type": "execute_result"
    }
   ],
   "source": [
    "# View the result of the last five rows in the last merged chunk \n",
    "merge_chunk_1624.tail()"
   ]
  },
  {
   "cell_type": "code",
   "execution_count": 38,
   "id": "902a4797",
   "metadata": {},
   "outputs": [
    {
     "data": {
      "text/html": [
       "<div>\n",
       "<style scoped>\n",
       "    .dataframe tbody tr th:only-of-type {\n",
       "        vertical-align: middle;\n",
       "    }\n",
       "\n",
       "    .dataframe tbody tr th {\n",
       "        vertical-align: top;\n",
       "    }\n",
       "\n",
       "    .dataframe thead th {\n",
       "        text-align: right;\n",
       "    }\n",
       "</style>\n",
       "<table border=\"1\" class=\"dataframe\">\n",
       "  <thead>\n",
       "    <tr style=\"text-align: right;\">\n",
       "      <th></th>\n",
       "      <th>userId</th>\n",
       "      <th>movieId</th>\n",
       "      <th>rating</th>\n",
       "      <th>title_cast</th>\n",
       "      <th>director</th>\n",
       "      <th>plot_keywords</th>\n",
       "    </tr>\n",
       "  </thead>\n",
       "  <tbody>\n",
       "    <tr>\n",
       "      <th>0</th>\n",
       "      <td>1</td>\n",
       "      <td>3949</td>\n",
       "      <td>5.0</td>\n",
       "      <td>Ellen Burstyn|Jared Leto|Jennifer Connelly|Mar...</td>\n",
       "      <td>Hubert Selby Jr.</td>\n",
       "      <td>drug addiction|heroin|sex show|sex scene</td>\n",
       "    </tr>\n",
       "    <tr>\n",
       "      <th>1</th>\n",
       "      <td>1</td>\n",
       "      <td>1175</td>\n",
       "      <td>3.5</td>\n",
       "      <td>Pascal Benezech|Dominique Pinon|Marie-Laure Do...</td>\n",
       "      <td>Jean-Pierre Jeunet</td>\n",
       "      <td>black comedy|absurd comedy|surrealist|bed</td>\n",
       "    </tr>\n",
       "    <tr>\n",
       "      <th>2</th>\n",
       "      <td>1</td>\n",
       "      <td>6016</td>\n",
       "      <td>5.0</td>\n",
       "      <td>Alexandre Rodrigues|Leandro Firmino|Phellipe H...</td>\n",
       "      <td>Kátia Lund</td>\n",
       "      <td>photographer|slum|gang|brazil</td>\n",
       "    </tr>\n",
       "    <tr>\n",
       "      <th>3</th>\n",
       "      <td>1</td>\n",
       "      <td>7323</td>\n",
       "      <td>3.5</td>\n",
       "      <td>Daniel Brühl|Katrin Saß|Chulpan Khamatova|Mari...</td>\n",
       "      <td>Bernd Lichtenberg</td>\n",
       "      <td>coma|german democratic republic|capitalism|pol...</td>\n",
       "    </tr>\n",
       "    <tr>\n",
       "      <th>4</th>\n",
       "      <td>1</td>\n",
       "      <td>4973</td>\n",
       "      <td>4.5</td>\n",
       "      <td>Audrey Tautou|Mathieu Kassovitz|Rufus|Lorella ...</td>\n",
       "      <td>Guillaume Laurant</td>\n",
       "      <td>female protagonist|paris france|france|montmar...</td>\n",
       "    </tr>\n",
       "  </tbody>\n",
       "</table>\n",
       "</div>"
      ],
      "text/plain": [
       "   userId  movieId  rating                                         title_cast  \\\n",
       "0       1     3949     5.0  Ellen Burstyn|Jared Leto|Jennifer Connelly|Mar...   \n",
       "1       1     1175     3.5  Pascal Benezech|Dominique Pinon|Marie-Laure Do...   \n",
       "2       1     6016     5.0  Alexandre Rodrigues|Leandro Firmino|Phellipe H...   \n",
       "3       1     7323     3.5  Daniel Brühl|Katrin Saß|Chulpan Khamatova|Mari...   \n",
       "4       1     4973     4.5  Audrey Tautou|Mathieu Kassovitz|Rufus|Lorella ...   \n",
       "\n",
       "             director                                      plot_keywords  \n",
       "0    Hubert Selby Jr.           drug addiction|heroin|sex show|sex scene  \n",
       "1  Jean-Pierre Jeunet          black comedy|absurd comedy|surrealist|bed  \n",
       "2          Kátia Lund                      photographer|slum|gang|brazil  \n",
       "3   Bernd Lichtenberg  coma|german democratic republic|capitalism|pol...  \n",
       "4   Guillaume Laurant  female protagonist|paris france|france|montmar...  "
      ]
     },
     "execution_count": 38,
     "metadata": {},
     "output_type": "execute_result"
    }
   ],
   "source": [
    "# Drop columns that are considered not necessary from the result of the merge operation above\n",
    "\n",
    "for  merge_name in merge_chunks_name:\n",
    "    globals()[merge_name] = globals()[merge_name].drop(columns=['timestamp', 'runtime', 'budget'])\n",
    "    \n",
    "# View the result of the first five rows in the first merged chunks\n",
    "merge_chunk_1.head()"
   ]
  },
  {
   "cell_type": "code",
   "execution_count": 57,
   "id": "93d423c8",
   "metadata": {},
   "outputs": [
    {
     "data": {
      "text/html": [
       "<div>\n",
       "<style scoped>\n",
       "    .dataframe tbody tr th:only-of-type {\n",
       "        vertical-align: middle;\n",
       "    }\n",
       "\n",
       "    .dataframe tbody tr th {\n",
       "        vertical-align: top;\n",
       "    }\n",
       "\n",
       "    .dataframe thead th {\n",
       "        text-align: right;\n",
       "    }\n",
       "</style>\n",
       "<table border=\"1\" class=\"dataframe\">\n",
       "  <thead>\n",
       "    <tr style=\"text-align: right;\">\n",
       "      <th></th>\n",
       "      <th>userId</th>\n",
       "      <th>movieId</th>\n",
       "      <th>title_cast</th>\n",
       "      <th>director</th>\n",
       "      <th>plot_keywords</th>\n",
       "    </tr>\n",
       "  </thead>\n",
       "  <tbody>\n",
       "    <tr>\n",
       "      <th>0</th>\n",
       "      <td>1</td>\n",
       "      <td>2011</td>\n",
       "      <td>NaN</td>\n",
       "      <td>NaN</td>\n",
       "      <td>NaN</td>\n",
       "    </tr>\n",
       "    <tr>\n",
       "      <th>1</th>\n",
       "      <td>1</td>\n",
       "      <td>4144</td>\n",
       "      <td>NaN</td>\n",
       "      <td>NaN</td>\n",
       "      <td>NaN</td>\n",
       "    </tr>\n",
       "    <tr>\n",
       "      <th>2</th>\n",
       "      <td>1</td>\n",
       "      <td>5767</td>\n",
       "      <td>NaN</td>\n",
       "      <td>NaN</td>\n",
       "      <td>NaN</td>\n",
       "    </tr>\n",
       "    <tr>\n",
       "      <th>3</th>\n",
       "      <td>1</td>\n",
       "      <td>6711</td>\n",
       "      <td>Scarlett Johansson|Bill Murray|Akiko Takeshita...</td>\n",
       "      <td>Sofia Coppola</td>\n",
       "      <td>older man younger woman relationship|lonelines...</td>\n",
       "    </tr>\n",
       "    <tr>\n",
       "      <th>4</th>\n",
       "      <td>1</td>\n",
       "      <td>7318</td>\n",
       "      <td>Jim Caviezel|Maia Morgenstern|Christo Jivkov|F...</td>\n",
       "      <td>Benedict Fitzgerald</td>\n",
       "      <td>suffering|torture|brutality|whipping</td>\n",
       "    </tr>\n",
       "  </tbody>\n",
       "</table>\n",
       "</div>"
      ],
      "text/plain": [
       "   userId  movieId                                         title_cast  \\\n",
       "0       1     2011                                                NaN   \n",
       "1       1     4144                                                NaN   \n",
       "2       1     5767                                                NaN   \n",
       "3       1     6711  Scarlett Johansson|Bill Murray|Akiko Takeshita...   \n",
       "4       1     7318  Jim Caviezel|Maia Morgenstern|Christo Jivkov|F...   \n",
       "\n",
       "              director                                      plot_keywords  \n",
       "0                  NaN                                                NaN  \n",
       "1                  NaN                                                NaN  \n",
       "2                  NaN                                                NaN  \n",
       "3        Sofia Coppola  older man younger woman relationship|lonelines...  \n",
       "4  Benedict Fitzgerald               suffering|torture|brutality|whipping  "
      ]
     },
     "execution_count": 57,
     "metadata": {},
     "output_type": "execute_result"
    }
   ],
   "source": [
    "# Drop test columns that are considered not necessary from the result of the merge operation above\n",
    "\n",
    "for  merge_name in test_merge_chunks_name:\n",
    "    globals()[merge_name] = globals()[merge_name].drop(columns=['runtime', 'budget'])\n",
    "    \n",
    "# View the result of the first five rows in the first merged chunks\n",
    "test_merge_chunk_1.head()"
   ]
  },
  {
   "cell_type": "code",
   "execution_count": 39,
   "id": "81878dc2",
   "metadata": {},
   "outputs": [
    {
     "data": {
      "text/html": [
       "<div>\n",
       "<style scoped>\n",
       "    .dataframe tbody tr th:only-of-type {\n",
       "        vertical-align: middle;\n",
       "    }\n",
       "\n",
       "    .dataframe tbody tr th {\n",
       "        vertical-align: top;\n",
       "    }\n",
       "\n",
       "    .dataframe thead th {\n",
       "        text-align: right;\n",
       "    }\n",
       "</style>\n",
       "<table border=\"1\" class=\"dataframe\">\n",
       "  <thead>\n",
       "    <tr style=\"text-align: right;\">\n",
       "      <th></th>\n",
       "      <th>userId</th>\n",
       "      <th>movieId</th>\n",
       "      <th>rating</th>\n",
       "      <th>title_cast</th>\n",
       "      <th>director</th>\n",
       "      <th>plot_keywords</th>\n",
       "      <th>title</th>\n",
       "      <th>genres</th>\n",
       "    </tr>\n",
       "  </thead>\n",
       "  <tbody>\n",
       "    <tr>\n",
       "      <th>0</th>\n",
       "      <td>1</td>\n",
       "      <td>3949</td>\n",
       "      <td>5.0</td>\n",
       "      <td>Ellen Burstyn|Jared Leto|Jennifer Connelly|Mar...</td>\n",
       "      <td>Hubert Selby Jr.</td>\n",
       "      <td>drug addiction|heroin|sex show|sex scene</td>\n",
       "      <td>Requiem for a Dream (2000)</td>\n",
       "      <td>Drama</td>\n",
       "    </tr>\n",
       "    <tr>\n",
       "      <th>1</th>\n",
       "      <td>1</td>\n",
       "      <td>1175</td>\n",
       "      <td>3.5</td>\n",
       "      <td>Pascal Benezech|Dominique Pinon|Marie-Laure Do...</td>\n",
       "      <td>Jean-Pierre Jeunet</td>\n",
       "      <td>black comedy|absurd comedy|surrealist|bed</td>\n",
       "      <td>Delicatessen (1991)</td>\n",
       "      <td>Comedy|Drama|Romance</td>\n",
       "    </tr>\n",
       "    <tr>\n",
       "      <th>2</th>\n",
       "      <td>1</td>\n",
       "      <td>6016</td>\n",
       "      <td>5.0</td>\n",
       "      <td>Alexandre Rodrigues|Leandro Firmino|Phellipe H...</td>\n",
       "      <td>Kátia Lund</td>\n",
       "      <td>photographer|slum|gang|brazil</td>\n",
       "      <td>City of God (Cidade de Deus) (2002)</td>\n",
       "      <td>Action|Adventure|Crime|Drama|Thriller</td>\n",
       "    </tr>\n",
       "    <tr>\n",
       "      <th>3</th>\n",
       "      <td>1</td>\n",
       "      <td>7323</td>\n",
       "      <td>3.5</td>\n",
       "      <td>Daniel Brühl|Katrin Saß|Chulpan Khamatova|Mari...</td>\n",
       "      <td>Bernd Lichtenberg</td>\n",
       "      <td>coma|german democratic republic|capitalism|pol...</td>\n",
       "      <td>Good bye, Lenin! (2003)</td>\n",
       "      <td>Comedy|Drama</td>\n",
       "    </tr>\n",
       "    <tr>\n",
       "      <th>4</th>\n",
       "      <td>1</td>\n",
       "      <td>4973</td>\n",
       "      <td>4.5</td>\n",
       "      <td>Audrey Tautou|Mathieu Kassovitz|Rufus|Lorella ...</td>\n",
       "      <td>Guillaume Laurant</td>\n",
       "      <td>female protagonist|paris france|france|montmar...</td>\n",
       "      <td>Amelie (Fabuleux destin d'Amélie Poulain, Le) ...</td>\n",
       "      <td>Comedy|Romance</td>\n",
       "    </tr>\n",
       "  </tbody>\n",
       "</table>\n",
       "</div>"
      ],
      "text/plain": [
       "   userId  movieId  rating                                         title_cast  \\\n",
       "0       1     3949     5.0  Ellen Burstyn|Jared Leto|Jennifer Connelly|Mar...   \n",
       "1       1     1175     3.5  Pascal Benezech|Dominique Pinon|Marie-Laure Do...   \n",
       "2       1     6016     5.0  Alexandre Rodrigues|Leandro Firmino|Phellipe H...   \n",
       "3       1     7323     3.5  Daniel Brühl|Katrin Saß|Chulpan Khamatova|Mari...   \n",
       "4       1     4973     4.5  Audrey Tautou|Mathieu Kassovitz|Rufus|Lorella ...   \n",
       "\n",
       "             director                                      plot_keywords  \\\n",
       "0    Hubert Selby Jr.           drug addiction|heroin|sex show|sex scene   \n",
       "1  Jean-Pierre Jeunet          black comedy|absurd comedy|surrealist|bed   \n",
       "2          Kátia Lund                      photographer|slum|gang|brazil   \n",
       "3   Bernd Lichtenberg  coma|german democratic republic|capitalism|pol...   \n",
       "4   Guillaume Laurant  female protagonist|paris france|france|montmar...   \n",
       "\n",
       "                                               title  \\\n",
       "0                         Requiem for a Dream (2000)   \n",
       "1                                Delicatessen (1991)   \n",
       "2                City of God (Cidade de Deus) (2002)   \n",
       "3                            Good bye, Lenin! (2003)   \n",
       "4  Amelie (Fabuleux destin d'Amélie Poulain, Le) ...   \n",
       "\n",
       "                                  genres  \n",
       "0                                  Drama  \n",
       "1                   Comedy|Drama|Romance  \n",
       "2  Action|Adventure|Crime|Drama|Thriller  \n",
       "3                           Comedy|Drama  \n",
       "4                         Comedy|Romance  "
      ]
     },
     "execution_count": 39,
     "metadata": {},
     "output_type": "execute_result"
    }
   ],
   "source": [
    "# Merge chunks with movies table \n",
    "\n",
    "for  merge_name in merge_chunks_name:\n",
    "    globals()[merge_name] = globals()[merge_name].merge(movies, on = 'movieId', how= 'left')\n",
    "    \n",
    "# View the result of the first five rows in the first merged chunks\n",
    "merge_chunk_1.head()"
   ]
  },
  {
   "cell_type": "code",
   "execution_count": 58,
   "id": "3900a478",
   "metadata": {},
   "outputs": [
    {
     "data": {
      "text/html": [
       "<div>\n",
       "<style scoped>\n",
       "    .dataframe tbody tr th:only-of-type {\n",
       "        vertical-align: middle;\n",
       "    }\n",
       "\n",
       "    .dataframe tbody tr th {\n",
       "        vertical-align: top;\n",
       "    }\n",
       "\n",
       "    .dataframe thead th {\n",
       "        text-align: right;\n",
       "    }\n",
       "</style>\n",
       "<table border=\"1\" class=\"dataframe\">\n",
       "  <thead>\n",
       "    <tr style=\"text-align: right;\">\n",
       "      <th></th>\n",
       "      <th>userId</th>\n",
       "      <th>movieId</th>\n",
       "      <th>title_cast</th>\n",
       "      <th>director</th>\n",
       "      <th>plot_keywords</th>\n",
       "      <th>title</th>\n",
       "      <th>genres</th>\n",
       "    </tr>\n",
       "  </thead>\n",
       "  <tbody>\n",
       "    <tr>\n",
       "      <th>0</th>\n",
       "      <td>1</td>\n",
       "      <td>2011</td>\n",
       "      <td>NaN</td>\n",
       "      <td>NaN</td>\n",
       "      <td>NaN</td>\n",
       "      <td>Back to the Future Part II (1989)</td>\n",
       "      <td>Adventure|Comedy|Sci-Fi</td>\n",
       "    </tr>\n",
       "    <tr>\n",
       "      <th>1</th>\n",
       "      <td>1</td>\n",
       "      <td>4144</td>\n",
       "      <td>NaN</td>\n",
       "      <td>NaN</td>\n",
       "      <td>NaN</td>\n",
       "      <td>In the Mood For Love (Fa yeung nin wa) (2000)</td>\n",
       "      <td>Drama|Romance</td>\n",
       "    </tr>\n",
       "    <tr>\n",
       "      <th>2</th>\n",
       "      <td>1</td>\n",
       "      <td>5767</td>\n",
       "      <td>NaN</td>\n",
       "      <td>NaN</td>\n",
       "      <td>NaN</td>\n",
       "      <td>Teddy Bear (Mis) (1981)</td>\n",
       "      <td>Comedy|Crime</td>\n",
       "    </tr>\n",
       "    <tr>\n",
       "      <th>3</th>\n",
       "      <td>1</td>\n",
       "      <td>6711</td>\n",
       "      <td>Scarlett Johansson|Bill Murray|Akiko Takeshita...</td>\n",
       "      <td>Sofia Coppola</td>\n",
       "      <td>older man younger woman relationship|lonelines...</td>\n",
       "      <td>Lost in Translation (2003)</td>\n",
       "      <td>Comedy|Drama|Romance</td>\n",
       "    </tr>\n",
       "    <tr>\n",
       "      <th>4</th>\n",
       "      <td>1</td>\n",
       "      <td>7318</td>\n",
       "      <td>Jim Caviezel|Maia Morgenstern|Christo Jivkov|F...</td>\n",
       "      <td>Benedict Fitzgerald</td>\n",
       "      <td>suffering|torture|brutality|whipping</td>\n",
       "      <td>Passion of the Christ, The (2004)</td>\n",
       "      <td>Drama</td>\n",
       "    </tr>\n",
       "  </tbody>\n",
       "</table>\n",
       "</div>"
      ],
      "text/plain": [
       "   userId  movieId                                         title_cast  \\\n",
       "0       1     2011                                                NaN   \n",
       "1       1     4144                                                NaN   \n",
       "2       1     5767                                                NaN   \n",
       "3       1     6711  Scarlett Johansson|Bill Murray|Akiko Takeshita...   \n",
       "4       1     7318  Jim Caviezel|Maia Morgenstern|Christo Jivkov|F...   \n",
       "\n",
       "              director                                      plot_keywords  \\\n",
       "0                  NaN                                                NaN   \n",
       "1                  NaN                                                NaN   \n",
       "2                  NaN                                                NaN   \n",
       "3        Sofia Coppola  older man younger woman relationship|lonelines...   \n",
       "4  Benedict Fitzgerald               suffering|torture|brutality|whipping   \n",
       "\n",
       "                                           title                   genres  \n",
       "0              Back to the Future Part II (1989)  Adventure|Comedy|Sci-Fi  \n",
       "1  In the Mood For Love (Fa yeung nin wa) (2000)            Drama|Romance  \n",
       "2                        Teddy Bear (Mis) (1981)             Comedy|Crime  \n",
       "3                     Lost in Translation (2003)     Comedy|Drama|Romance  \n",
       "4              Passion of the Christ, The (2004)                    Drama  "
      ]
     },
     "execution_count": 58,
     "metadata": {},
     "output_type": "execute_result"
    }
   ],
   "source": [
    "# Merge chunks with movies table \n",
    "\n",
    "for  merge_name in test_merge_chunks_name:\n",
    "    globals()[merge_name] = globals()[merge_name].merge(movies, on = 'movieId', how= 'left')\n",
    "    \n",
    "# View the result of the first five rows in the first merged chunks\n",
    "test_merge_chunk_1.head()"
   ]
  },
  {
   "cell_type": "markdown",
   "id": "ad8286e7",
   "metadata": {},
   "source": [
    "#### Free up memory in the global variable"
   ]
  },
  {
   "cell_type": "code",
   "execution_count": 61,
   "id": "9ad21868",
   "metadata": {},
   "outputs": [],
   "source": [
    "# Delete the train_chunks and test_chunks_name stored in the global variable\n",
    "for data in train_chunks_name:\n",
    "    del globals()[data]\n",
    "for data in test_chunks_name:\n",
    "    del globals()[data]"
   ]
  },
  {
   "cell_type": "markdown",
   "id": "788db5fd",
   "metadata": {},
   "source": [
    "#### Data formating\n",
    "\n",
    "Before we can use any string vectorizer on our data, we need to properly format the data."
   ]
  },
  {
   "cell_type": "code",
   "execution_count": 41,
   "id": "72b83ea9",
   "metadata": {},
   "outputs": [],
   "source": [
    "# Remove delimeters(Separators) from string data\n",
    "def splitter(df, col_list, delim):\n",
    "    \"\"\"\n",
    "        This function accepts a dataframe(df) and a list of columns(col_list), which contains the delimiter\n",
    "        to be removed, it also accepts the delimiter which is to be removed\n",
    "    \"\"\"\n",
    "    new_df = df.copy()\n",
    "    \n",
    "    for col in col_list:\n",
    "        new_df[col] = new_df[col].str.split(delim).str.join(' ')\n",
    "    \n",
    "    return new_df\n",
    "        "
   ]
  },
  {
   "cell_type": "code",
   "execution_count": 42,
   "id": "55a1e6ff",
   "metadata": {},
   "outputs": [
    {
     "data": {
      "text/html": [
       "<div>\n",
       "<style scoped>\n",
       "    .dataframe tbody tr th:only-of-type {\n",
       "        vertical-align: middle;\n",
       "    }\n",
       "\n",
       "    .dataframe tbody tr th {\n",
       "        vertical-align: top;\n",
       "    }\n",
       "\n",
       "    .dataframe thead th {\n",
       "        text-align: right;\n",
       "    }\n",
       "</style>\n",
       "<table border=\"1\" class=\"dataframe\">\n",
       "  <thead>\n",
       "    <tr style=\"text-align: right;\">\n",
       "      <th></th>\n",
       "      <th>userId</th>\n",
       "      <th>movieId</th>\n",
       "      <th>rating</th>\n",
       "      <th>title_cast</th>\n",
       "      <th>director</th>\n",
       "      <th>plot_keywords</th>\n",
       "      <th>title</th>\n",
       "      <th>genres</th>\n",
       "    </tr>\n",
       "  </thead>\n",
       "  <tbody>\n",
       "    <tr>\n",
       "      <th>0</th>\n",
       "      <td>1</td>\n",
       "      <td>3949</td>\n",
       "      <td>5.0</td>\n",
       "      <td>Ellen Burstyn Jared Leto Jennifer Connelly Mar...</td>\n",
       "      <td>Hubert Selby Jr.</td>\n",
       "      <td>drug addiction heroin sex show sex scene</td>\n",
       "      <td>Requiem for a Dream (2000)</td>\n",
       "      <td>Drama</td>\n",
       "    </tr>\n",
       "    <tr>\n",
       "      <th>1</th>\n",
       "      <td>1</td>\n",
       "      <td>1175</td>\n",
       "      <td>3.5</td>\n",
       "      <td>Pascal Benezech Dominique Pinon Marie-Laure Do...</td>\n",
       "      <td>Jean-Pierre Jeunet</td>\n",
       "      <td>black comedy absurd comedy surrealist bed</td>\n",
       "      <td>Delicatessen (1991)</td>\n",
       "      <td>Comedy Drama Romance</td>\n",
       "    </tr>\n",
       "    <tr>\n",
       "      <th>2</th>\n",
       "      <td>1</td>\n",
       "      <td>6016</td>\n",
       "      <td>5.0</td>\n",
       "      <td>Alexandre Rodrigues Leandro Firmino Phellipe H...</td>\n",
       "      <td>Kátia Lund</td>\n",
       "      <td>photographer slum gang brazil</td>\n",
       "      <td>City of God (Cidade de Deus) (2002)</td>\n",
       "      <td>Action Adventure Crime Drama Thriller</td>\n",
       "    </tr>\n",
       "    <tr>\n",
       "      <th>3</th>\n",
       "      <td>1</td>\n",
       "      <td>7323</td>\n",
       "      <td>3.5</td>\n",
       "      <td>Daniel Brühl Katrin Saß Chulpan Khamatova Mari...</td>\n",
       "      <td>Bernd Lichtenberg</td>\n",
       "      <td>coma german democratic republic capitalism pol...</td>\n",
       "      <td>Good bye, Lenin! (2003)</td>\n",
       "      <td>Comedy Drama</td>\n",
       "    </tr>\n",
       "    <tr>\n",
       "      <th>4</th>\n",
       "      <td>1</td>\n",
       "      <td>4973</td>\n",
       "      <td>4.5</td>\n",
       "      <td>Audrey Tautou Mathieu Kassovitz Rufus Lorella ...</td>\n",
       "      <td>Guillaume Laurant</td>\n",
       "      <td>female protagonist paris france france montmar...</td>\n",
       "      <td>Amelie (Fabuleux destin d'Amélie Poulain, Le) ...</td>\n",
       "      <td>Comedy Romance</td>\n",
       "    </tr>\n",
       "  </tbody>\n",
       "</table>\n",
       "</div>"
      ],
      "text/plain": [
       "   userId  movieId  rating                                         title_cast  \\\n",
       "0       1     3949     5.0  Ellen Burstyn Jared Leto Jennifer Connelly Mar...   \n",
       "1       1     1175     3.5  Pascal Benezech Dominique Pinon Marie-Laure Do...   \n",
       "2       1     6016     5.0  Alexandre Rodrigues Leandro Firmino Phellipe H...   \n",
       "3       1     7323     3.5  Daniel Brühl Katrin Saß Chulpan Khamatova Mari...   \n",
       "4       1     4973     4.5  Audrey Tautou Mathieu Kassovitz Rufus Lorella ...   \n",
       "\n",
       "             director                                      plot_keywords  \\\n",
       "0    Hubert Selby Jr.           drug addiction heroin sex show sex scene   \n",
       "1  Jean-Pierre Jeunet          black comedy absurd comedy surrealist bed   \n",
       "2          Kátia Lund                      photographer slum gang brazil   \n",
       "3   Bernd Lichtenberg  coma german democratic republic capitalism pol...   \n",
       "4   Guillaume Laurant  female protagonist paris france france montmar...   \n",
       "\n",
       "                                               title  \\\n",
       "0                         Requiem for a Dream (2000)   \n",
       "1                                Delicatessen (1991)   \n",
       "2                City of God (Cidade de Deus) (2002)   \n",
       "3                            Good bye, Lenin! (2003)   \n",
       "4  Amelie (Fabuleux destin d'Amélie Poulain, Le) ...   \n",
       "\n",
       "                                  genres  \n",
       "0                                  Drama  \n",
       "1                   Comedy Drama Romance  \n",
       "2  Action Adventure Crime Drama Thriller  \n",
       "3                           Comedy Drama  \n",
       "4                         Comedy Romance  "
      ]
     },
     "execution_count": 42,
     "metadata": {},
     "output_type": "execute_result"
    }
   ],
   "source": [
    "# Remove separators form string data\n",
    "for  merge_name in merge_chunks_name:\n",
    "    globals()[merge_name] = splitter(globals()[merge_name], ['title_cast', 'plot_keywords', 'genres'], '|')\n",
    "    \n",
    "    \n",
    "# View the result of the first five rows in the first merged chunks\n",
    "merge_chunk_1.head()"
   ]
  },
  {
   "cell_type": "code",
   "execution_count": 62,
   "id": "d00a3d69",
   "metadata": {},
   "outputs": [
    {
     "data": {
      "text/html": [
       "<div>\n",
       "<style scoped>\n",
       "    .dataframe tbody tr th:only-of-type {\n",
       "        vertical-align: middle;\n",
       "    }\n",
       "\n",
       "    .dataframe tbody tr th {\n",
       "        vertical-align: top;\n",
       "    }\n",
       "\n",
       "    .dataframe thead th {\n",
       "        text-align: right;\n",
       "    }\n",
       "</style>\n",
       "<table border=\"1\" class=\"dataframe\">\n",
       "  <thead>\n",
       "    <tr style=\"text-align: right;\">\n",
       "      <th></th>\n",
       "      <th>userId</th>\n",
       "      <th>movieId</th>\n",
       "      <th>title_cast</th>\n",
       "      <th>director</th>\n",
       "      <th>plot_keywords</th>\n",
       "      <th>title</th>\n",
       "      <th>genres</th>\n",
       "    </tr>\n",
       "  </thead>\n",
       "  <tbody>\n",
       "    <tr>\n",
       "      <th>0</th>\n",
       "      <td>1</td>\n",
       "      <td>2011</td>\n",
       "      <td>NaN</td>\n",
       "      <td>NaN</td>\n",
       "      <td>NaN</td>\n",
       "      <td>Back to the Future Part II (1989)</td>\n",
       "      <td>Adventure Comedy Sci-Fi</td>\n",
       "    </tr>\n",
       "    <tr>\n",
       "      <th>1</th>\n",
       "      <td>1</td>\n",
       "      <td>4144</td>\n",
       "      <td>NaN</td>\n",
       "      <td>NaN</td>\n",
       "      <td>NaN</td>\n",
       "      <td>In the Mood For Love (Fa yeung nin wa) (2000)</td>\n",
       "      <td>Drama Romance</td>\n",
       "    </tr>\n",
       "    <tr>\n",
       "      <th>2</th>\n",
       "      <td>1</td>\n",
       "      <td>5767</td>\n",
       "      <td>NaN</td>\n",
       "      <td>NaN</td>\n",
       "      <td>NaN</td>\n",
       "      <td>Teddy Bear (Mis) (1981)</td>\n",
       "      <td>Comedy Crime</td>\n",
       "    </tr>\n",
       "    <tr>\n",
       "      <th>3</th>\n",
       "      <td>1</td>\n",
       "      <td>6711</td>\n",
       "      <td>Scarlett Johansson Bill Murray Akiko Takeshita...</td>\n",
       "      <td>Sofia Coppola</td>\n",
       "      <td>older man younger woman relationship lonelines...</td>\n",
       "      <td>Lost in Translation (2003)</td>\n",
       "      <td>Comedy Drama Romance</td>\n",
       "    </tr>\n",
       "    <tr>\n",
       "      <th>4</th>\n",
       "      <td>1</td>\n",
       "      <td>7318</td>\n",
       "      <td>Jim Caviezel Maia Morgenstern Christo Jivkov F...</td>\n",
       "      <td>Benedict Fitzgerald</td>\n",
       "      <td>suffering torture brutality whipping</td>\n",
       "      <td>Passion of the Christ, The (2004)</td>\n",
       "      <td>Drama</td>\n",
       "    </tr>\n",
       "  </tbody>\n",
       "</table>\n",
       "</div>"
      ],
      "text/plain": [
       "   userId  movieId                                         title_cast  \\\n",
       "0       1     2011                                                NaN   \n",
       "1       1     4144                                                NaN   \n",
       "2       1     5767                                                NaN   \n",
       "3       1     6711  Scarlett Johansson Bill Murray Akiko Takeshita...   \n",
       "4       1     7318  Jim Caviezel Maia Morgenstern Christo Jivkov F...   \n",
       "\n",
       "              director                                      plot_keywords  \\\n",
       "0                  NaN                                                NaN   \n",
       "1                  NaN                                                NaN   \n",
       "2                  NaN                                                NaN   \n",
       "3        Sofia Coppola  older man younger woman relationship lonelines...   \n",
       "4  Benedict Fitzgerald               suffering torture brutality whipping   \n",
       "\n",
       "                                           title                   genres  \n",
       "0              Back to the Future Part II (1989)  Adventure Comedy Sci-Fi  \n",
       "1  In the Mood For Love (Fa yeung nin wa) (2000)            Drama Romance  \n",
       "2                        Teddy Bear (Mis) (1981)             Comedy Crime  \n",
       "3                     Lost in Translation (2003)     Comedy Drama Romance  \n",
       "4              Passion of the Christ, The (2004)                    Drama  "
      ]
     },
     "execution_count": 62,
     "metadata": {},
     "output_type": "execute_result"
    }
   ],
   "source": [
    "for  merge_name in test_merge_chunks_name:\n",
    "    globals()[merge_name] = splitter(globals()[merge_name], ['title_cast', 'plot_keywords', 'genres'], '|')\n",
    "    \n",
    "    \n",
    "# View the result of the first five rows in the first merged chunks\n",
    "test_merge_chunk_1.head()"
   ]
  },
  {
   "cell_type": "code",
   "execution_count": 43,
   "id": "a095bd72",
   "metadata": {},
   "outputs": [
    {
     "data": {
      "text/html": [
       "<div>\n",
       "<style scoped>\n",
       "    .dataframe tbody tr th:only-of-type {\n",
       "        vertical-align: middle;\n",
       "    }\n",
       "\n",
       "    .dataframe tbody tr th {\n",
       "        vertical-align: top;\n",
       "    }\n",
       "\n",
       "    .dataframe thead th {\n",
       "        text-align: right;\n",
       "    }\n",
       "</style>\n",
       "<table border=\"1\" class=\"dataframe\">\n",
       "  <thead>\n",
       "    <tr style=\"text-align: right;\">\n",
       "      <th></th>\n",
       "      <th>userId</th>\n",
       "      <th>movieId</th>\n",
       "      <th>rating</th>\n",
       "      <th>title_cast</th>\n",
       "      <th>director</th>\n",
       "      <th>plot_keywords</th>\n",
       "      <th>title</th>\n",
       "      <th>genres</th>\n",
       "    </tr>\n",
       "  </thead>\n",
       "  <tbody>\n",
       "    <tr>\n",
       "      <th>5336</th>\n",
       "      <td>162541</td>\n",
       "      <td>2396</td>\n",
       "      <td>4.0</td>\n",
       "      <td>Geoffrey Rush Tom Wilkinson Steven O'Donnell T...</td>\n",
       "      <td>John Madden</td>\n",
       "      <td>william shakespeare character shakespeare play...</td>\n",
       "      <td>Shakespeare in Love (1998)</td>\n",
       "      <td>Comedy Drama Romance</td>\n",
       "    </tr>\n",
       "    <tr>\n",
       "      <th>5337</th>\n",
       "      <td>162541</td>\n",
       "      <td>4973</td>\n",
       "      <td>4.5</td>\n",
       "      <td>Audrey Tautou Mathieu Kassovitz Rufus Lorella ...</td>\n",
       "      <td>Guillaume Laurant</td>\n",
       "      <td>female protagonist paris france france montmar...</td>\n",
       "      <td>Amelie (Fabuleux destin d'Amélie Poulain, Le) ...</td>\n",
       "      <td>Comedy Romance</td>\n",
       "    </tr>\n",
       "    <tr>\n",
       "      <th>5338</th>\n",
       "      <td>162541</td>\n",
       "      <td>2539</td>\n",
       "      <td>1.0</td>\n",
       "      <td>Robert De Niro Billy Crystal Lisa Kudrow Chazz...</td>\n",
       "      <td>Kenneth Lonergan</td>\n",
       "      <td>sex scene mafia boss mob boss sexual intercourse</td>\n",
       "      <td>Analyze This (1999)</td>\n",
       "      <td>Comedy</td>\n",
       "    </tr>\n",
       "    <tr>\n",
       "      <th>5339</th>\n",
       "      <td>162541</td>\n",
       "      <td>1201</td>\n",
       "      <td>3.0</td>\n",
       "      <td>NaN</td>\n",
       "      <td>NaN</td>\n",
       "      <td>NaN</td>\n",
       "      <td>Good, the Bad and the Ugly, The (Buono, il bru...</td>\n",
       "      <td>Action Adventure Western</td>\n",
       "    </tr>\n",
       "    <tr>\n",
       "      <th>5340</th>\n",
       "      <td>162541</td>\n",
       "      <td>1230</td>\n",
       "      <td>3.5</td>\n",
       "      <td>NaN</td>\n",
       "      <td>NaN</td>\n",
       "      <td>NaN</td>\n",
       "      <td>Annie Hall (1977)</td>\n",
       "      <td>Comedy Romance</td>\n",
       "    </tr>\n",
       "  </tbody>\n",
       "</table>\n",
       "</div>"
      ],
      "text/plain": [
       "      userId  movieId  rating  \\\n",
       "5336  162541     2396     4.0   \n",
       "5337  162541     4973     4.5   \n",
       "5338  162541     2539     1.0   \n",
       "5339  162541     1201     3.0   \n",
       "5340  162541     1230     3.5   \n",
       "\n",
       "                                             title_cast           director  \\\n",
       "5336  Geoffrey Rush Tom Wilkinson Steven O'Donnell T...        John Madden   \n",
       "5337  Audrey Tautou Mathieu Kassovitz Rufus Lorella ...  Guillaume Laurant   \n",
       "5338  Robert De Niro Billy Crystal Lisa Kudrow Chazz...   Kenneth Lonergan   \n",
       "5339                                                NaN                NaN   \n",
       "5340                                                NaN                NaN   \n",
       "\n",
       "                                          plot_keywords  \\\n",
       "5336  william shakespeare character shakespeare play...   \n",
       "5337  female protagonist paris france france montmar...   \n",
       "5338   sex scene mafia boss mob boss sexual intercourse   \n",
       "5339                                                NaN   \n",
       "5340                                                NaN   \n",
       "\n",
       "                                                  title  \\\n",
       "5336                         Shakespeare in Love (1998)   \n",
       "5337  Amelie (Fabuleux destin d'Amélie Poulain, Le) ...   \n",
       "5338                                Analyze This (1999)   \n",
       "5339  Good, the Bad and the Ugly, The (Buono, il bru...   \n",
       "5340                                  Annie Hall (1977)   \n",
       "\n",
       "                        genres  \n",
       "5336      Comedy Drama Romance  \n",
       "5337            Comedy Romance  \n",
       "5338                    Comedy  \n",
       "5339  Action Adventure Western  \n",
       "5340            Comedy Romance  "
      ]
     },
     "execution_count": 43,
     "metadata": {},
     "output_type": "execute_result"
    }
   ],
   "source": [
    "# View the last merged chunk\n",
    "merge_chunk_1624.tail()"
   ]
  },
  {
   "cell_type": "code",
   "execution_count": 44,
   "id": "a076f492",
   "metadata": {},
   "outputs": [
    {
     "data": {
      "text/html": [
       "<div>\n",
       "<style scoped>\n",
       "    .dataframe tbody tr th:only-of-type {\n",
       "        vertical-align: middle;\n",
       "    }\n",
       "\n",
       "    .dataframe tbody tr th {\n",
       "        vertical-align: top;\n",
       "    }\n",
       "\n",
       "    .dataframe thead th {\n",
       "        text-align: right;\n",
       "    }\n",
       "</style>\n",
       "<table border=\"1\" class=\"dataframe\">\n",
       "  <thead>\n",
       "    <tr style=\"text-align: right;\">\n",
       "      <th></th>\n",
       "      <th>userId</th>\n",
       "      <th>movieId</th>\n",
       "      <th>rating</th>\n",
       "      <th>title_cast</th>\n",
       "      <th>director</th>\n",
       "      <th>plot_keywords</th>\n",
       "      <th>title</th>\n",
       "      <th>genres</th>\n",
       "      <th>key_words</th>\n",
       "    </tr>\n",
       "  </thead>\n",
       "  <tbody>\n",
       "    <tr>\n",
       "      <th>0</th>\n",
       "      <td>1</td>\n",
       "      <td>3949</td>\n",
       "      <td>5.0</td>\n",
       "      <td>Ellen Burstyn Jared Leto Jennifer Connelly Mar...</td>\n",
       "      <td>Hubert Selby Jr.</td>\n",
       "      <td>drug addiction heroin sex show sex scene</td>\n",
       "      <td>Requiem for a Dream (2000)</td>\n",
       "      <td>Drama</td>\n",
       "      <td>Ellen Burstyn Jared Leto Jennifer Connelly Mar...</td>\n",
       "    </tr>\n",
       "    <tr>\n",
       "      <th>1</th>\n",
       "      <td>1</td>\n",
       "      <td>1175</td>\n",
       "      <td>3.5</td>\n",
       "      <td>Pascal Benezech Dominique Pinon Marie-Laure Do...</td>\n",
       "      <td>Jean-Pierre Jeunet</td>\n",
       "      <td>black comedy absurd comedy surrealist bed</td>\n",
       "      <td>Delicatessen (1991)</td>\n",
       "      <td>Comedy Drama Romance</td>\n",
       "      <td>Pascal Benezech Dominique Pinon Marie-Laure Do...</td>\n",
       "    </tr>\n",
       "    <tr>\n",
       "      <th>2</th>\n",
       "      <td>1</td>\n",
       "      <td>6016</td>\n",
       "      <td>5.0</td>\n",
       "      <td>Alexandre Rodrigues Leandro Firmino Phellipe H...</td>\n",
       "      <td>Kátia Lund</td>\n",
       "      <td>photographer slum gang brazil</td>\n",
       "      <td>City of God (Cidade de Deus) (2002)</td>\n",
       "      <td>Action Adventure Crime Drama Thriller</td>\n",
       "      <td>Alexandre Rodrigues Leandro Firmino Phellipe H...</td>\n",
       "    </tr>\n",
       "    <tr>\n",
       "      <th>3</th>\n",
       "      <td>1</td>\n",
       "      <td>7323</td>\n",
       "      <td>3.5</td>\n",
       "      <td>Daniel Brühl Katrin Saß Chulpan Khamatova Mari...</td>\n",
       "      <td>Bernd Lichtenberg</td>\n",
       "      <td>coma german democratic republic capitalism pol...</td>\n",
       "      <td>Good bye, Lenin! (2003)</td>\n",
       "      <td>Comedy Drama</td>\n",
       "      <td>Daniel Brühl Katrin Saß Chulpan Khamatova Mari...</td>\n",
       "    </tr>\n",
       "    <tr>\n",
       "      <th>4</th>\n",
       "      <td>1</td>\n",
       "      <td>4973</td>\n",
       "      <td>4.5</td>\n",
       "      <td>Audrey Tautou Mathieu Kassovitz Rufus Lorella ...</td>\n",
       "      <td>Guillaume Laurant</td>\n",
       "      <td>female protagonist paris france france montmar...</td>\n",
       "      <td>Amelie (Fabuleux destin d'Amélie Poulain, Le) ...</td>\n",
       "      <td>Comedy Romance</td>\n",
       "      <td>Audrey Tautou Mathieu Kassovitz Rufus Lorella ...</td>\n",
       "    </tr>\n",
       "  </tbody>\n",
       "</table>\n",
       "</div>"
      ],
      "text/plain": [
       "   userId  movieId  rating                                         title_cast  \\\n",
       "0       1     3949     5.0  Ellen Burstyn Jared Leto Jennifer Connelly Mar...   \n",
       "1       1     1175     3.5  Pascal Benezech Dominique Pinon Marie-Laure Do...   \n",
       "2       1     6016     5.0  Alexandre Rodrigues Leandro Firmino Phellipe H...   \n",
       "3       1     7323     3.5  Daniel Brühl Katrin Saß Chulpan Khamatova Mari...   \n",
       "4       1     4973     4.5  Audrey Tautou Mathieu Kassovitz Rufus Lorella ...   \n",
       "\n",
       "             director                                      plot_keywords  \\\n",
       "0    Hubert Selby Jr.           drug addiction heroin sex show sex scene   \n",
       "1  Jean-Pierre Jeunet          black comedy absurd comedy surrealist bed   \n",
       "2          Kátia Lund                      photographer slum gang brazil   \n",
       "3   Bernd Lichtenberg  coma german democratic republic capitalism pol...   \n",
       "4   Guillaume Laurant  female protagonist paris france france montmar...   \n",
       "\n",
       "                                               title  \\\n",
       "0                         Requiem for a Dream (2000)   \n",
       "1                                Delicatessen (1991)   \n",
       "2                City of God (Cidade de Deus) (2002)   \n",
       "3                            Good bye, Lenin! (2003)   \n",
       "4  Amelie (Fabuleux destin d'Amélie Poulain, Le) ...   \n",
       "\n",
       "                                  genres  \\\n",
       "0                                  Drama   \n",
       "1                   Comedy Drama Romance   \n",
       "2  Action Adventure Crime Drama Thriller   \n",
       "3                           Comedy Drama   \n",
       "4                         Comedy Romance   \n",
       "\n",
       "                                           key_words  \n",
       "0  Ellen Burstyn Jared Leto Jennifer Connelly Mar...  \n",
       "1  Pascal Benezech Dominique Pinon Marie-Laure Do...  \n",
       "2  Alexandre Rodrigues Leandro Firmino Phellipe H...  \n",
       "3  Daniel Brühl Katrin Saß Chulpan Khamatova Mari...  \n",
       "4  Audrey Tautou Mathieu Kassovitz Rufus Lorella ...  "
      ]
     },
     "execution_count": 44,
     "metadata": {},
     "output_type": "execute_result"
    }
   ],
   "source": [
    "# Merge interested columns values for vectorization\n",
    "title_list = []\n",
    "indices_list = []\n",
    "\n",
    "for index, merge_name in enumerate(merge_chunks_name):\n",
    "    globals()[merge_name]['key_words'] = (pd.Series(globals()[merge_name][['title_cast', 'director', 'plot_keywords', \n",
    "                                                                           'genres']].fillna('')\n",
    "                      .values.tolist()).str.join(' '))\n",
    "    \n",
    "    titles = \"titles_{0}\".format(index + 1)\n",
    "    globals()[titles] = globals()[merge_name]['title']\n",
    "    title_list.append(titles)\n",
    "    \n",
    "    indices = \"indices_{0}\".format(index + 1)\n",
    "    globals()[indices] = pd.Series(globals()[merge_name].index, index=globals()[merge_name]['title'])\n",
    "    indices_list.append(indices)\n",
    "    \n",
    "    \n",
    "# View the result of the first five rows in the first merged chunks\n",
    "merge_chunk_1.head()"
   ]
  },
  {
   "cell_type": "code",
   "execution_count": 63,
   "id": "94d4af91",
   "metadata": {},
   "outputs": [
    {
     "data": {
      "text/html": [
       "<div>\n",
       "<style scoped>\n",
       "    .dataframe tbody tr th:only-of-type {\n",
       "        vertical-align: middle;\n",
       "    }\n",
       "\n",
       "    .dataframe tbody tr th {\n",
       "        vertical-align: top;\n",
       "    }\n",
       "\n",
       "    .dataframe thead th {\n",
       "        text-align: right;\n",
       "    }\n",
       "</style>\n",
       "<table border=\"1\" class=\"dataframe\">\n",
       "  <thead>\n",
       "    <tr style=\"text-align: right;\">\n",
       "      <th></th>\n",
       "      <th>userId</th>\n",
       "      <th>movieId</th>\n",
       "      <th>title_cast</th>\n",
       "      <th>director</th>\n",
       "      <th>plot_keywords</th>\n",
       "      <th>title</th>\n",
       "      <th>genres</th>\n",
       "      <th>key_words</th>\n",
       "    </tr>\n",
       "  </thead>\n",
       "  <tbody>\n",
       "    <tr>\n",
       "      <th>0</th>\n",
       "      <td>1</td>\n",
       "      <td>2011</td>\n",
       "      <td>NaN</td>\n",
       "      <td>NaN</td>\n",
       "      <td>NaN</td>\n",
       "      <td>Back to the Future Part II (1989)</td>\n",
       "      <td>Adventure Comedy Sci-Fi</td>\n",
       "      <td>Adventure Comedy Sci-Fi</td>\n",
       "    </tr>\n",
       "    <tr>\n",
       "      <th>1</th>\n",
       "      <td>1</td>\n",
       "      <td>4144</td>\n",
       "      <td>NaN</td>\n",
       "      <td>NaN</td>\n",
       "      <td>NaN</td>\n",
       "      <td>In the Mood For Love (Fa yeung nin wa) (2000)</td>\n",
       "      <td>Drama Romance</td>\n",
       "      <td>Drama Romance</td>\n",
       "    </tr>\n",
       "    <tr>\n",
       "      <th>2</th>\n",
       "      <td>1</td>\n",
       "      <td>5767</td>\n",
       "      <td>NaN</td>\n",
       "      <td>NaN</td>\n",
       "      <td>NaN</td>\n",
       "      <td>Teddy Bear (Mis) (1981)</td>\n",
       "      <td>Comedy Crime</td>\n",
       "      <td>Comedy Crime</td>\n",
       "    </tr>\n",
       "    <tr>\n",
       "      <th>3</th>\n",
       "      <td>1</td>\n",
       "      <td>6711</td>\n",
       "      <td>Scarlett Johansson Bill Murray Akiko Takeshita...</td>\n",
       "      <td>Sofia Coppola</td>\n",
       "      <td>older man younger woman relationship lonelines...</td>\n",
       "      <td>Lost in Translation (2003)</td>\n",
       "      <td>Comedy Drama Romance</td>\n",
       "      <td>Scarlett Johansson Bill Murray Akiko Takeshita...</td>\n",
       "    </tr>\n",
       "    <tr>\n",
       "      <th>4</th>\n",
       "      <td>1</td>\n",
       "      <td>7318</td>\n",
       "      <td>Jim Caviezel Maia Morgenstern Christo Jivkov F...</td>\n",
       "      <td>Benedict Fitzgerald</td>\n",
       "      <td>suffering torture brutality whipping</td>\n",
       "      <td>Passion of the Christ, The (2004)</td>\n",
       "      <td>Drama</td>\n",
       "      <td>Jim Caviezel Maia Morgenstern Christo Jivkov F...</td>\n",
       "    </tr>\n",
       "  </tbody>\n",
       "</table>\n",
       "</div>"
      ],
      "text/plain": [
       "   userId  movieId                                         title_cast  \\\n",
       "0       1     2011                                                NaN   \n",
       "1       1     4144                                                NaN   \n",
       "2       1     5767                                                NaN   \n",
       "3       1     6711  Scarlett Johansson Bill Murray Akiko Takeshita...   \n",
       "4       1     7318  Jim Caviezel Maia Morgenstern Christo Jivkov F...   \n",
       "\n",
       "              director                                      plot_keywords  \\\n",
       "0                  NaN                                                NaN   \n",
       "1                  NaN                                                NaN   \n",
       "2                  NaN                                                NaN   \n",
       "3        Sofia Coppola  older man younger woman relationship lonelines...   \n",
       "4  Benedict Fitzgerald               suffering torture brutality whipping   \n",
       "\n",
       "                                           title                   genres  \\\n",
       "0              Back to the Future Part II (1989)  Adventure Comedy Sci-Fi   \n",
       "1  In the Mood For Love (Fa yeung nin wa) (2000)            Drama Romance   \n",
       "2                        Teddy Bear (Mis) (1981)             Comedy Crime   \n",
       "3                     Lost in Translation (2003)     Comedy Drama Romance   \n",
       "4              Passion of the Christ, The (2004)                    Drama   \n",
       "\n",
       "                                           key_words  \n",
       "0                            Adventure Comedy Sci-Fi  \n",
       "1                                      Drama Romance  \n",
       "2                                       Comedy Crime  \n",
       "3  Scarlett Johansson Bill Murray Akiko Takeshita...  \n",
       "4  Jim Caviezel Maia Morgenstern Christo Jivkov F...  "
      ]
     },
     "execution_count": 63,
     "metadata": {},
     "output_type": "execute_result"
    }
   ],
   "source": [
    "# Merge interested columns values for vectorization\n",
    "test_title_list = []\n",
    "test_indices_list = []\n",
    "\n",
    "for index, merge_name in enumerate(test_merge_chunks_name):\n",
    "    globals()[merge_name]['key_words'] = (pd.Series(globals()[merge_name][['title_cast', 'director', 'plot_keywords', \n",
    "                                                                           'genres']].fillna('')\n",
    "                      .values.tolist()).str.join(' '))\n",
    "    \n",
    "    titles = \"titles_{0}\".format(index + 1)\n",
    "    globals()[titles] = globals()[merge_name]['title']\n",
    "    title_list.append(titles)\n",
    "    \n",
    "    indices = \"indices_{0}\".format(index + 1)\n",
    "    globals()[indices] = pd.Series(globals()[merge_name].index, index=globals()[merge_name]['title'])\n",
    "    indices_list.append(indices)\n",
    "    \n",
    "    \n",
    "# View the result of the first five rows in the first merged chunks\n",
    "test_merge_chunk_1.head()"
   ]
  },
  {
   "cell_type": "code",
   "execution_count": 45,
   "id": "1df78da5",
   "metadata": {},
   "outputs": [
    {
     "data": {
      "text/html": [
       "<div>\n",
       "<style scoped>\n",
       "    .dataframe tbody tr th:only-of-type {\n",
       "        vertical-align: middle;\n",
       "    }\n",
       "\n",
       "    .dataframe tbody tr th {\n",
       "        vertical-align: top;\n",
       "    }\n",
       "\n",
       "    .dataframe thead th {\n",
       "        text-align: right;\n",
       "    }\n",
       "</style>\n",
       "<table border=\"1\" class=\"dataframe\">\n",
       "  <thead>\n",
       "    <tr style=\"text-align: right;\">\n",
       "      <th></th>\n",
       "      <th>userId</th>\n",
       "      <th>movieId</th>\n",
       "      <th>rating</th>\n",
       "      <th>title</th>\n",
       "      <th>key_words</th>\n",
       "    </tr>\n",
       "  </thead>\n",
       "  <tbody>\n",
       "    <tr>\n",
       "      <th>0</th>\n",
       "      <td>1</td>\n",
       "      <td>3949</td>\n",
       "      <td>5.0</td>\n",
       "      <td>Requiem for a Dream (2000)</td>\n",
       "      <td>Ellen Burstyn Jared Leto Jennifer Connelly Mar...</td>\n",
       "    </tr>\n",
       "    <tr>\n",
       "      <th>1</th>\n",
       "      <td>1</td>\n",
       "      <td>1175</td>\n",
       "      <td>3.5</td>\n",
       "      <td>Delicatessen (1991)</td>\n",
       "      <td>Pascal Benezech Dominique Pinon Marie-Laure Do...</td>\n",
       "    </tr>\n",
       "    <tr>\n",
       "      <th>2</th>\n",
       "      <td>1</td>\n",
       "      <td>6016</td>\n",
       "      <td>5.0</td>\n",
       "      <td>City of God (Cidade de Deus) (2002)</td>\n",
       "      <td>Alexandre Rodrigues Leandro Firmino Phellipe H...</td>\n",
       "    </tr>\n",
       "    <tr>\n",
       "      <th>3</th>\n",
       "      <td>1</td>\n",
       "      <td>7323</td>\n",
       "      <td>3.5</td>\n",
       "      <td>Good bye, Lenin! (2003)</td>\n",
       "      <td>Daniel Brühl Katrin Saß Chulpan Khamatova Mari...</td>\n",
       "    </tr>\n",
       "    <tr>\n",
       "      <th>4</th>\n",
       "      <td>1</td>\n",
       "      <td>4973</td>\n",
       "      <td>4.5</td>\n",
       "      <td>Amelie (Fabuleux destin d'Amélie Poulain, Le) ...</td>\n",
       "      <td>Audrey Tautou Mathieu Kassovitz Rufus Lorella ...</td>\n",
       "    </tr>\n",
       "  </tbody>\n",
       "</table>\n",
       "</div>"
      ],
      "text/plain": [
       "   userId  movieId  rating                                              title  \\\n",
       "0       1     3949     5.0                         Requiem for a Dream (2000)   \n",
       "1       1     1175     3.5                                Delicatessen (1991)   \n",
       "2       1     6016     5.0                City of God (Cidade de Deus) (2002)   \n",
       "3       1     7323     3.5                            Good bye, Lenin! (2003)   \n",
       "4       1     4973     4.5  Amelie (Fabuleux destin d'Amélie Poulain, Le) ...   \n",
       "\n",
       "                                           key_words  \n",
       "0  Ellen Burstyn Jared Leto Jennifer Connelly Mar...  \n",
       "1  Pascal Benezech Dominique Pinon Marie-Laure Do...  \n",
       "2  Alexandre Rodrigues Leandro Firmino Phellipe H...  \n",
       "3  Daniel Brühl Katrin Saß Chulpan Khamatova Mari...  \n",
       "4  Audrey Tautou Mathieu Kassovitz Rufus Lorella ...  "
      ]
     },
     "execution_count": 45,
     "metadata": {},
     "output_type": "execute_result"
    }
   ],
   "source": [
    "# Drop unwanted colunms in the train data set\n",
    "for index, merge_name in enumerate(merge_chunks_name):\n",
    "    globals()[merge_name].drop(columns= ['title_cast','director','plot_keywords', 'genres'], inplace=True)\n",
    "merge_chunk_1.head()"
   ]
  },
  {
   "cell_type": "code",
   "execution_count": 64,
   "id": "fe8c154f",
   "metadata": {},
   "outputs": [
    {
     "data": {
      "text/html": [
       "<div>\n",
       "<style scoped>\n",
       "    .dataframe tbody tr th:only-of-type {\n",
       "        vertical-align: middle;\n",
       "    }\n",
       "\n",
       "    .dataframe tbody tr th {\n",
       "        vertical-align: top;\n",
       "    }\n",
       "\n",
       "    .dataframe thead th {\n",
       "        text-align: right;\n",
       "    }\n",
       "</style>\n",
       "<table border=\"1\" class=\"dataframe\">\n",
       "  <thead>\n",
       "    <tr style=\"text-align: right;\">\n",
       "      <th></th>\n",
       "      <th>userId</th>\n",
       "      <th>movieId</th>\n",
       "      <th>title</th>\n",
       "      <th>key_words</th>\n",
       "    </tr>\n",
       "  </thead>\n",
       "  <tbody>\n",
       "    <tr>\n",
       "      <th>0</th>\n",
       "      <td>1</td>\n",
       "      <td>2011</td>\n",
       "      <td>Back to the Future Part II (1989)</td>\n",
       "      <td>Adventure Comedy Sci-Fi</td>\n",
       "    </tr>\n",
       "    <tr>\n",
       "      <th>1</th>\n",
       "      <td>1</td>\n",
       "      <td>4144</td>\n",
       "      <td>In the Mood For Love (Fa yeung nin wa) (2000)</td>\n",
       "      <td>Drama Romance</td>\n",
       "    </tr>\n",
       "    <tr>\n",
       "      <th>2</th>\n",
       "      <td>1</td>\n",
       "      <td>5767</td>\n",
       "      <td>Teddy Bear (Mis) (1981)</td>\n",
       "      <td>Comedy Crime</td>\n",
       "    </tr>\n",
       "    <tr>\n",
       "      <th>3</th>\n",
       "      <td>1</td>\n",
       "      <td>6711</td>\n",
       "      <td>Lost in Translation (2003)</td>\n",
       "      <td>Scarlett Johansson Bill Murray Akiko Takeshita...</td>\n",
       "    </tr>\n",
       "    <tr>\n",
       "      <th>4</th>\n",
       "      <td>1</td>\n",
       "      <td>7318</td>\n",
       "      <td>Passion of the Christ, The (2004)</td>\n",
       "      <td>Jim Caviezel Maia Morgenstern Christo Jivkov F...</td>\n",
       "    </tr>\n",
       "  </tbody>\n",
       "</table>\n",
       "</div>"
      ],
      "text/plain": [
       "   userId  movieId                                          title  \\\n",
       "0       1     2011              Back to the Future Part II (1989)   \n",
       "1       1     4144  In the Mood For Love (Fa yeung nin wa) (2000)   \n",
       "2       1     5767                        Teddy Bear (Mis) (1981)   \n",
       "3       1     6711                     Lost in Translation (2003)   \n",
       "4       1     7318              Passion of the Christ, The (2004)   \n",
       "\n",
       "                                           key_words  \n",
       "0                            Adventure Comedy Sci-Fi  \n",
       "1                                      Drama Romance  \n",
       "2                                       Comedy Crime  \n",
       "3  Scarlett Johansson Bill Murray Akiko Takeshita...  \n",
       "4  Jim Caviezel Maia Morgenstern Christo Jivkov F...  "
      ]
     },
     "execution_count": 64,
     "metadata": {},
     "output_type": "execute_result"
    }
   ],
   "source": [
    "# Drop unwanted colunms in the test data set\n",
    "for index, merge_name in enumerate(test_merge_chunks_name):\n",
    "    globals()[merge_name].drop(columns= ['title_cast','director','plot_keywords', 'genres'], inplace=True)\n",
    "test_merge_chunk_1.head()"
   ]
  },
  {
   "cell_type": "code",
   "execution_count": 50,
   "id": "cbfa5bec",
   "metadata": {},
   "outputs": [
    {
     "data": {
      "text/plain": [
       "(5260, 5)"
      ]
     },
     "execution_count": 50,
     "metadata": {},
     "output_type": "execute_result"
    }
   ],
   "source": [
    "# View the shape of the first chunk in train dataset\n",
    "merge_chunk_1.shape"
   ]
  },
  {
   "cell_type": "code",
   "execution_count": 65,
   "id": "e3579ad6",
   "metadata": {},
   "outputs": [
    {
     "data": {
      "text/plain": [
       "(2748, 4)"
      ]
     },
     "execution_count": 65,
     "metadata": {},
     "output_type": "execute_result"
    }
   ],
   "source": [
    "# View the shape of the first chunk in test dataset\n",
    "test_merge_chunk_1.shape"
   ]
  },
  {
   "cell_type": "code",
   "execution_count": 66,
   "id": "0a6f0260",
   "metadata": {},
   "outputs": [
    {
     "data": {
      "text/plain": [
       "(5915, 5)"
      ]
     },
     "execution_count": 66,
     "metadata": {},
     "output_type": "execute_result"
    }
   ],
   "source": [
    "# View the shape of the last chunk in train dataset\n",
    "merge_chunk_1623.shape"
   ]
  },
  {
   "cell_type": "code",
   "execution_count": 67,
   "id": "4038bf2e",
   "metadata": {},
   "outputs": [
    {
     "data": {
      "text/plain": [
       "(3031, 4)"
      ]
     },
     "execution_count": 67,
     "metadata": {},
     "output_type": "execute_result"
    }
   ],
   "source": [
    "# View the shape of the last chunk in test dataset\n",
    "test_merge_chunk_1623.shape"
   ]
  },
  {
   "cell_type": "code",
   "execution_count": 49,
   "id": "18e10ca7",
   "metadata": {},
   "outputs": [],
   "source": [
    "# Save the merge table for the train dataset\n",
    "for index, merge_name in enumerate(merge_chunks_name):\n",
    "    directory = './data/chunked_train_data/'+merge_name+'.csv'\n",
    "    globals()[merge_name].to_csv(directory,index=False)"
   ]
  },
  {
   "cell_type": "code",
   "execution_count": 68,
   "id": "f268de84",
   "metadata": {},
   "outputs": [],
   "source": [
    "# Save the merge table for the test dataset\n",
    "for index, merge_name in enumerate(test_merge_chunks_name):\n",
    "    directory = './data/chunked_test_data/'+merge_name+'.csv'\n",
    "    globals()[merge_name].to_csv(directory,index=False)"
   ]
  },
  {
   "cell_type": "code",
   "execution_count": 69,
   "id": "8ac9a6c0",
   "metadata": {},
   "outputs": [
    {
     "data": {
      "text/plain": [
       "\"Ellen Burstyn Jared Leto Jennifer Connelly Marlon Wayans Christopher McDonald Louise Lasser Marcia Jean Kurtz Janet Sarno Suzanne Shepherd Joanne Gordon Charlotte Aronofsky Mark Margolis Michael Kaycheck Jack O'Connell Chas Mastin Hubert Selby Jr. drug addiction heroin sex show sex scene Drama\""
      ]
     },
     "execution_count": 69,
     "metadata": {},
     "output_type": "execute_result"
    }
   ],
   "source": [
    "merge_chunk_1.loc[0,'key_words']"
   ]
  },
  {
   "cell_type": "markdown",
   "id": "2c9da3e9",
   "metadata": {},
   "source": [
    "#### Free up memory space\n",
    "\n",
    "For us to proceed to the next, which is CPU intensive, we want to free up some memory space"
   ]
  },
  {
   "cell_type": "code",
   "execution_count": 70,
   "id": "957f5bad",
   "metadata": {},
   "outputs": [
    {
     "name": "stdout",
     "output_type": "stream",
     "text": [
      "None\n"
     ]
    }
   ],
   "source": [
    "# Free up memory space \n",
    "\n",
    "train = None\n",
    "genome_scores = None\n",
    "genome_tags = None\n",
    "links = None\n",
    "\n",
    "print(train)"
   ]
  },
  {
   "cell_type": "markdown",
   "id": "4840d098",
   "metadata": {},
   "source": [
    "**TfidfVectorizer**\n",
    "We now need a mechanism to convert these textual features into a format which enables us to compute their relative similarities to one another.\n",
    "This will allow us to translate our string-based collection of title_cast, director, plot_keywords, genres, key_words into numerical vectors to achieve this, we make use of **TfidfVectorizer**."
   ]
  },
  {
   "cell_type": "code",
   "execution_count": 42,
   "id": "6ad31292",
   "metadata": {},
   "outputs": [],
   "source": [
    "tf = TfidfVectorizer(analyzer='word', ngram_range=(1,2),min_df=0, stop_words='english')\n",
    "\n",
    "vector_list = []\n",
    "\n",
    "for index, merge_name in enumerate(merge_chunks_name):\n",
    "    tf_matrix = \"tf_matrix_{0}\".format(index + 1)\n",
    "    \n",
    "    globals()[tf_matrix] = tf.fit_transform(globals()[merge_name]['key_words'])\n",
    "    vector_list.append(tf_matrix)"
   ]
  },
  {
   "cell_type": "code",
   "execution_count": 59,
   "id": "6a3fb41b",
   "metadata": {},
   "outputs": [
    {
     "data": {
      "text/plain": [
       "(5260, 57409)"
      ]
     },
     "execution_count": 59,
     "metadata": {},
     "output_type": "execute_result"
    }
   ],
   "source": [
    "tf_matrix_1.shape"
   ]
  },
  {
   "cell_type": "code",
   "execution_count": 60,
   "id": "a74bf008",
   "metadata": {},
   "outputs": [],
   "source": [
    "for data in merge_chunks_name:\n",
    "    del globals()[data]"
   ]
  },
  {
   "cell_type": "code",
   "execution_count": null,
   "id": "6f592184",
   "metadata": {},
   "outputs": [],
   "source": [
    "# Create first 100 consine similarities \n",
    "cosine_sim_list = []\n",
    "\n",
    "real_index = 0\n",
    "stop_count = 300\n",
    "real_vector_list = vector_list[real_index:stop_count]\n",
    "\n",
    "\n",
    "for index, tf_matrix in enumerate(real_vector_list):\n",
    "    cosine_sim = \"cosine_sim_{0}\".format(real_index + 1)\n",
    "    \n",
    "    globals()[cosine_sim] = cosine_similarity(globals()[tf_matrix], \n",
    "                                        globals()[tf_matrix])\n",
    "    cosine_sim_list.append(cosine_sim)\n",
    "    \n",
    "    real_index = real_index + 1\n",
    "    if real_index == stop_count :\n",
    "        break\n",
    "\n",
    "print (cosine_sim_1.shape)"
   ]
  },
  {
   "cell_type": "code",
   "execution_count": 62,
   "id": "6ed64c26",
   "metadata": {},
   "outputs": [
    {
     "data": {
      "text/plain": [
       "(6094, 6094)"
      ]
     },
     "execution_count": 62,
     "metadata": {},
     "output_type": "execute_result"
    }
   ],
   "source": [
    "# Print cosine similarity value for the 200th chunk\n",
    "cosine_sim_100.shape"
   ]
  },
  {
   "cell_type": "code",
   "execution_count": 63,
   "id": "4f7003c9",
   "metadata": {},
   "outputs": [
    {
     "data": {
      "text/plain": [
       "100"
      ]
     },
     "execution_count": 63,
     "metadata": {},
     "output_type": "execute_result"
    }
   ],
   "source": [
    "# View the next start point\n",
    "real_index"
   ]
  },
  {
   "cell_type": "code",
   "execution_count": 64,
   "id": "39ba56c7",
   "metadata": {},
   "outputs": [
    {
     "name": "stdout",
     "output_type": "stream",
     "text": [
      "(6023, 6023)\n"
     ]
    }
   ],
   "source": [
    "# Create next 200 consine similarities \n",
    "\n",
    "stop_count = 150\n",
    "real_vector_list = vector_list[real_index:stop_count]\n",
    "\n",
    "\n",
    "for index, tf_matrix in enumerate(real_vector_list):\n",
    "    cosine_sim = \"cosine_sim_{0}\".format(real_index + 1)\n",
    "    \n",
    "    globals()[cosine_sim] = cosine_similarity(globals()[tf_matrix], \n",
    "                                        globals()[tf_matrix])\n",
    "    cosine_sim_list.append(cosine_sim)\n",
    "    \n",
    "    real_index = real_index + 1\n",
    "    if real_index == stop_count :\n",
    "        break\n",
    "\n",
    "# View the last cosine similarity value generated \n",
    "print (cosine_sim_150.shape)\n"
   ]
  },
  {
   "cell_type": "code",
   "execution_count": 65,
   "id": "9c169cc4",
   "metadata": {},
   "outputs": [
    {
     "data": {
      "text/plain": [
       "150"
      ]
     },
     "execution_count": 65,
     "metadata": {},
     "output_type": "execute_result"
    }
   ],
   "source": [
    "# View the next start point\n",
    "real_index"
   ]
  },
  {
   "cell_type": "code",
   "execution_count": 66,
   "id": "c4f24879",
   "metadata": {},
   "outputs": [
    {
     "name": "stdout",
     "output_type": "stream",
     "text": [
      "(5638, 5638)\n"
     ]
    }
   ],
   "source": [
    "# Create next 200 consine similarities \n",
    "\n",
    "stop_count = 200\n",
    "real_vector_list = vector_list[real_index:stop_count]\n",
    "\n",
    "\n",
    "for index, tf_matrix in enumerate(real_vector_list):\n",
    "    cosine_sim = \"cosine_sim_{0}\".format(real_index + 1)\n",
    "    \n",
    "    globals()[cosine_sim] = cosine_similarity(globals()[tf_matrix], \n",
    "                                        globals()[tf_matrix])\n",
    "    cosine_sim_list.append(cosine_sim)\n",
    "    \n",
    "    real_index = real_index + 1\n",
    "    if real_index == stop_count :\n",
    "        break\n",
    "\n",
    "# View the last cosine similarity value generated \n",
    "print (cosine_sim_200.shape)"
   ]
  },
  {
   "cell_type": "code",
   "execution_count": 67,
   "id": "c2835e0d",
   "metadata": {},
   "outputs": [
    {
     "data": {
      "text/plain": [
       "200"
      ]
     },
     "execution_count": 67,
     "metadata": {},
     "output_type": "execute_result"
    }
   ],
   "source": [
    "# View the next start point\n",
    "real_index"
   ]
  },
  {
   "cell_type": "code",
   "execution_count": 68,
   "id": "fccdab04",
   "metadata": {},
   "outputs": [
    {
     "name": "stdout",
     "output_type": "stream",
     "text": [
      "(5638, 5638)\n"
     ]
    }
   ],
   "source": [
    "# Create next 200 consine similarities \n",
    "\n",
    "stop_count = 250\n",
    "real_vector_list = vector_list[real_index:stop_count]\n",
    "\n",
    "\n",
    "for index, tf_matrix in enumerate(real_vector_list):\n",
    "    cosine_sim = \"cosine_sim_{0}\".format(real_index + 1)\n",
    "    \n",
    "    globals()[cosine_sim] = cosine_similarity(globals()[tf_matrix], \n",
    "                                        globals()[tf_matrix])\n",
    "    cosine_sim_list.append(cosine_sim)\n",
    "    \n",
    "    real_index = real_index + 1\n",
    "    if real_index == stop_count :\n",
    "        break\n",
    "\n",
    "# View the last cosine similarity value generated \n",
    "print (cosine_sim_250.shape)"
   ]
  },
  {
   "cell_type": "code",
   "execution_count": 70,
   "id": "4a5c9b72",
   "metadata": {},
   "outputs": [
    {
     "data": {
      "text/plain": [
       "250"
      ]
     },
     "execution_count": 70,
     "metadata": {},
     "output_type": "execute_result"
    }
   ],
   "source": [
    "# View the next start point\n",
    "real_index"
   ]
  },
  {
   "cell_type": "code",
   "execution_count": null,
   "id": "eced44fe",
   "metadata": {},
   "outputs": [],
   "source": [
    "# Create next 200 consine similarities \n",
    "\n",
    "stop_count = 300\n",
    "real_vector_list = vector_list[real_index:stop_count]\n",
    "\n",
    "\n",
    "for index, tf_matrix in enumerate(real_vector_list):\n",
    "    cosine_sim = \"cosine_sim_{0}\".format(real_index + 1)\n",
    "    \n",
    "    globals()[cosine_sim] = cosine_similarity(globals()[tf_matrix], \n",
    "                                        globals()[tf_matrix])\n",
    "    cosine_sim_list.append(cosine_sim)\n",
    "    \n",
    "    real_index = real_index + 1\n",
    "    if real_index == stop_count :\n",
    "        break\n",
    "\n",
    "# View the last cosine similarity value generated \n",
    "print (cosine_sim_300.shape)"
   ]
  },
  {
   "cell_type": "markdown",
   "id": "afd4bb28",
   "metadata": {},
   "source": [
    "#### Spliting of dataset\n",
    "We split our transformed dataset into 50 part, converting same into dataframe and save to local storage. This process\n",
    "gives 199957 rows for the first 49 chunks and 199952 rows for the last chunk"
   ]
  },
  {
   "cell_type": "code",
   "execution_count": null,
   "id": "ae731b42",
   "metadata": {},
   "outputs": [],
   "source": [
    "def create_chunk_list(obj, limit):\n",
    "    chunk = []\n",
    "    chunks = []\n",
    "    obj_len = len(obj)\n",
    "    \n",
    "    for index, value in enumerate(obj) :\n",
    "        chunk.append(value)\n",
    "        if ( (len(chunk) == limit ) | ((index +1) == obj_len )) :\n",
    "            chunks.append(chunk)\n",
    "            chunk = []\n",
    "    \n",
    "    return chunks\n",
    "            "
   ]
  },
  {
   "cell_type": "markdown",
   "id": "ec1459f7",
   "metadata": {},
   "source": [
    "####  Convert vectorised data set back to dataframe form"
   ]
  },
  {
   "cell_type": "code",
   "execution_count": null,
   "id": "1ae91526",
   "metadata": {},
   "outputs": [],
   "source": [
    "vectoried_df = pd.DataFrame(data=tf_authTags_matrix.toarray(),columns = vector.get_feature_names())\n",
    "vectoried_df.head()"
   ]
  },
  {
   "cell_type": "markdown",
   "id": "063910be",
   "metadata": {},
   "source": [
    "We now can compute the similarity between each vector within our matrix. This is done by making use of the `cosine_similarity` function provided to us by `sklearn`."
   ]
  },
  {
   "cell_type": "code",
   "execution_count": null,
   "id": "533ab431",
   "metadata": {},
   "outputs": [],
   "source": [
    "cosine_sim_authTags = cosine_similarity(tf_authTags_matrix, \n",
    "                                        tf_authTags_matrix)\n",
    "print (cosine_sim_authTags.shape)"
   ]
  },
  {
   "cell_type": "markdown",
   "id": "62791fa2",
   "metadata": {},
   "source": [
    "### 4.2 Collaborative filtering"
   ]
  },
  {
   "cell_type": "code",
   "execution_count": null,
   "id": "7beca5f3",
   "metadata": {},
   "outputs": [],
   "source": []
  },
  {
   "cell_type": "markdown",
   "id": "da5beef9",
   "metadata": {},
   "source": [
    "### 4.3 Rating Prediction\n",
    "\n",
    "As motivated previously, in some cases we may wish to directly calculate what rating a user _would_ give a book that they haven't read yet. \n",
    "\n",
    "We can modify our content-based filtering algorithm to do this in the following manner: \n",
    "\n",
    "   1. Select a reference user from the database and a reference item (movie) they have _not_ rated. \n",
    "   2. For the user, gather the similarity values between the reference item and each item the user _has_ rated. \n",
    "   3. Sort the gathered similarity values in descending order. \n",
    "   4. Select the $k$ highest similarity values which are above a given threshold value, creating a collection $K$. \n",
    "   5. Compute a weighted average rating from these values, which is the sum of the similarity values of each item multiplied by its assigned user-rating, divided by the sum of the similarity values. This can be expressed in formula as:\n",
    "   \n",
    "   $$ \\hat{R}_{ju} = \\frac{\\sum_{i \\in K} s_{ij} \\times r_{iu}}{\\sum_{i \\in K} s_{ij}}   $$\n",
    "   \n",
    "   where $\\hat{R}_{ju}$ is the weighted average computed for the reference item $j$ and reference user $u$, $K$ is the collection of items, $s_{ij}$ is the similarity computed between items $i$ and $j$, and $r_{iu}$ is the known rating user $u$ has given item $i$.\n",
    "   6. We return the weighted average $\\hat{R}_{ju}$ as the prediction for our reference item.\n",
    "   \n",
    "   \n",
    "We implement this algorithmic process in the function below:"
   ]
  },
  {
   "cell_type": "code",
   "execution_count": null,
   "id": "02375f53",
   "metadata": {},
   "outputs": [],
   "source": []
  },
  {
   "cell_type": "markdown",
   "id": "43b2d523",
   "metadata": {
    "id": "43b2d523"
   },
   "source": [
    "<a id=\"five\"></a>\n",
    "## 5. Modelling\n",
    "<a class=\"anchor\" id=\"1.1\"></a>\n",
    "<a href=#cont>Back to Table of Contents</a>\n",
    "\n",
    "---\n",
    "    \n",
    "| ⚡ Description: Modelling ⚡ |\n",
    "| :--------------------------- |\n",
    "| In this section, you are required to create one or more regression models that are able to accurately predict the thee hour load shortfall. |\n",
    "\n",
    "---"
   ]
  },
  {
   "cell_type": "markdown",
   "id": "6b530251",
   "metadata": {
    "id": "6b530251"
   },
   "source": [
    "<a id=\"six\"></a>\n",
    "## 6. Model Performance\n",
    "<a class=\"anchor\" id=\"1.1\"></a>\n",
    "<a href=#cont>Back to Table of Contents</a>\n",
    "\n",
    "---\n",
    "    \n",
    "| ⚡ Description: Model performance ⚡ |\n",
    "| :--------------------------- |\n",
    "| In this section you are required to compare the relative performance of the various trained ML models on a holdout dataset and comment on what model is the best and why. |\n",
    "\n",
    "---"
   ]
  },
  {
   "cell_type": "code",
   "execution_count": null,
   "id": "6a69b5a1",
   "metadata": {
    "id": "6a69b5a1"
   },
   "outputs": [],
   "source": [
    "# Compare model performance"
   ]
  },
  {
   "cell_type": "code",
   "execution_count": null,
   "id": "3874a7c6",
   "metadata": {
    "id": "3874a7c6"
   },
   "outputs": [],
   "source": [
    "# Choose best model and motivate why it is the best choice"
   ]
  },
  {
   "cell_type": "markdown",
   "id": "a8ad0c0d",
   "metadata": {
    "id": "a8ad0c0d"
   },
   "source": [
    "<a id=\"seven\"></a>\n",
    "## 7. Model Explanations\n",
    "<a class=\"anchor\" id=\"1.1\"></a>\n",
    "<a href=#cont>Back to Table of Contents</a>\n",
    "\n",
    "---\n",
    "    \n",
    "| ⚡ Description: Model explanation ⚡ |\n",
    "| :--------------------------- |\n",
    "| In this section, you are required to discuss how the best performing model works in a simple way so that both technical and non-technical stakeholders can grasp the intuition behind the model's inner workings. |\n",
    "\n",
    "---"
   ]
  },
  {
   "cell_type": "code",
   "execution_count": null,
   "id": "5c39ad6e",
   "metadata": {
    "id": "5c39ad6e"
   },
   "outputs": [],
   "source": []
  },
  {
   "cell_type": "code",
   "execution_count": null,
   "id": "5ff741c2",
   "metadata": {
    "id": "5ff741c2"
   },
   "outputs": [],
   "source": [
    "# discuss chosen methods logic"
   ]
  },
  {
   "cell_type": "markdown",
   "id": "1c3d6e8d",
   "metadata": {},
   "source": [
    "Run the next cell to make sure the experiment as ended. It notifies comit."
   ]
  },
  {
   "cell_type": "code",
   "execution_count": null,
   "id": "eb735b1d",
   "metadata": {},
   "outputs": [],
   "source": [
    "experiment.end()"
   ]
  }
 ],
 "metadata": {
  "colab": {
   "include_colab_link": true,
   "name": "2110ACDS_T7-starter-notebook.ipynb",
   "provenance": []
  },
  "kernelspec": {
   "display_name": "Python 3 (ipykernel)",
   "language": "python",
   "name": "python3"
  },
  "language_info": {
   "codemirror_mode": {
    "name": "ipython",
    "version": 3
   },
   "file_extension": ".py",
   "mimetype": "text/x-python",
   "name": "python",
   "nbconvert_exporter": "python",
   "pygments_lexer": "ipython3",
   "version": "3.8.12"
  },
  "latex_envs": {
   "LaTeX_envs_menu_present": true,
   "autoclose": false,
   "autocomplete": true,
   "bibliofile": "biblio.bib",
   "cite_by": "apalike",
   "current_citInitial": 1,
   "eqLabelWithNumbers": true,
   "eqNumInitial": 1,
   "hotkeys": {
    "equation": "Ctrl-E",
    "itemize": "Ctrl-I"
   },
   "labels_anchors": false,
   "latex_user_defs": false,
   "report_style_numbering": false,
   "user_envs_cfg": false
  },
  "toc": {
   "base_numbering": 1,
   "nav_menu": {},
   "number_sections": true,
   "sideBar": true,
   "skip_h1_title": false,
   "title_cell": "Table of Contents",
   "title_sidebar": "Contents",
   "toc_cell": false,
   "toc_position": {},
   "toc_section_display": true,
   "toc_window_display": false
  },
  "varInspector": {
   "cols": {
    "lenName": 16,
    "lenType": 16,
    "lenVar": 40
   },
   "kernels_config": {
    "python": {
     "delete_cmd_postfix": "",
     "delete_cmd_prefix": "del ",
     "library": "var_list.py",
     "varRefreshCmd": "print(var_dic_list())"
    },
    "r": {
     "delete_cmd_postfix": ") ",
     "delete_cmd_prefix": "rm(",
     "library": "var_list.r",
     "varRefreshCmd": "cat(var_dic_list()) "
    }
   },
   "types_to_exclude": [
    "module",
    "function",
    "builtin_function_or_method",
    "instance",
    "_Feature"
   ],
   "window_display": false
  }
 },
 "nbformat": 4,
 "nbformat_minor": 5
}
